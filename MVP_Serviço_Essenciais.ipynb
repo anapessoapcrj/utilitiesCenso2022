{
  "nbformat": 4,
  "nbformat_minor": 0,
  "metadata": {
    "colab": {
      "provenance": [],
      "toc_visible": true,
      "authorship_tag": "ABX9TyP3MS3dXI8cFDqJe1UH/vun",
      "include_colab_link": true
    },
    "kernelspec": {
      "name": "python3",
      "display_name": "Python 3"
    },
    "language_info": {
      "name": "python"
    }
  },
  "cells": [
    {
      "cell_type": "markdown",
      "metadata": {
        "id": "view-in-github",
        "colab_type": "text"
      },
      "source": [
        "<a href=\"https://colab.research.google.com/github/anapessoapcrj/utilitiesCenso2022/blob/main/MVP_Servi%C3%A7o_Essenciais.ipynb\" target=\"_parent\"><img src=\"https://colab.research.google.com/assets/colab-badge.svg\" alt=\"Open In Colab\"/></a>"
      ]
    },
    {
      "cell_type": "markdown",
      "source": [
        "# 1.  **Apresentação e Justificativa**\n",
        "\n",
        "<p align = \"justify\">Conhecer a realidade geográfica brasileira é essencial para diversas áreas de atuação. Para o setor público, isso permite uma gestão mais eficiente dos recursos e uma melhor resposta às necessidades da população em diferentes regiões. No setor privado, o conhecimento territorial pode otimizar a logística, a distribuição de produtos e a expansão de serviços. Para os cidadãos promove uma consciência sobre a estrutura e o funcionamento do Estado, fortalecendo o exercício dos direitos e deveres civis. Portanto, a familiaridade com o espaço geográfico, especialmente os municípios, não apenas impulsiona o desenvolvimento econômico e social, mas também é um pilar para a construção de uma sociedade mais informada e participativa.\n",
        "\n",
        "<p align = \"justify\">Alinhado com a visão acima foi decidido usar conjuntos de dados do último Censo, em 2022, pelo Instituto Brasileiro de Geografia e Estatística, o IBGE. Dentre as diversos assuntos disponíveis, foram selecionados datasets relacionado a serviços básicos e essenciais para a população¹: coleta de lixo, esgotamento sanitário e canalização e rede de distribuição de água.  Estes conjuntos de dados não são rotulados, portanto para eventual uso para treinamento de Machine ou Deep Learning deve ser feito através de aprendizagem não supervisionada, onde se buscá-se-a associação entre os serviços.  Para este trabalho será verificado se é possível perceber similiradade entre o percentual de pessoas atendidas por cada um destes serviços nos municípios.  Outro ação neste projeto é verificar, agrupando os municípios por Estados, como está a distribuição de acesso desses serviços, identificando padrões por Regiões Geográficas.  \n",
        "\n",
        "<p align = \"justify\">Um aspecto importante, considerado para o desenvolvimento do trabalho, é que o Brasil é um país com muitos municípios com baixa densidade demográfica.  Para estes casos, seria necessário levantar outras variáveis ligadas a domínios como a de meio ambiente, logística de transporte, atividade econômico predominante, entre outros, o que não será o caso para este estudo.  Por isso, com auxílio do dataset de densidade demográfica, foram excluídos munícipios com esparsa distribuição de populacional (abaixo ou igual a 50 pessoas por km²).\n",
        "\n",
        "¹ A população será moradores em domicílio particular permanente ocupado nos municípios brasileiros.\n",
        "\n",
        "<p align = \"justify\">Estes dados foram extraídos¹ do portal público brasileiro de dados geoespaciais que é denominado <a href=\"https://inde.gov.br\">Infraestrutura de Dados Espaciais - INDE</a> na <a href=\"https://visualizador.inde.gov.br\">sessão de visualizador de mapas</a>.  <a href=\"https://github.com/anapessoapcrj/utilitiesCenso2022/blob/main/Screenshot%202024-09-15%20170318.png\">¹Clique para ver exemplo download</a>.\n",
        "\n",
        "<p align = \"justify\">Para saber mais sobre os conjuntos de dados que serão aproveitados neste MVP, segue os links abaixos de seus respectivos metadados:\n",
        "\n",
        "* <a href=\"https://metadados.inde.gov.br/geonetwork/srv/api/records/f98f8c9b-6296-45e5-b350-d55eebb428f7/formatters/xsl-view?output=pdf&language=por&approved=true\">Coleta de lixo</a>;\n",
        "\n",
        "* <a href=\"https://metadados.inde.gov.br/geonetwork/srv/api/records/3d726bed-576a-4a71-8bb8-d39f5801d05c/formatters/xsl-view?output=pdf&language=por&approved=true\">Esgotamento sanitário</a>;\n",
        "\n",
        "* <a href=\"https://metadados.inde.gov.br/geonetwork/srv/api/records/e8f3f737-9579-47ab-93b4-0b7c9511af32/formatters/xsl-view?output=pdf&language=por&approved=true\">Abastecimento de água</a>;\n",
        "\n",
        "* <a href=\"https://metadados.inde.gov.br/geonetwork/srv/api/records/f6b6a7b8-80cf-480b-ab29-992dbe070196/formatters/xsl-view?output=pdf&language=por&approved=true\">Canalização da Água</a>;\n",
        "\n",
        "* <a href=\"https://metadados.inde.gov.br/geonetwork/srv/api/records/2a29969d-9d59-4d4c-9815-915b5a42fcc4/formatters/xsl-view?output=pdf&language=por&approved=true\">Densidade Demográfica</a>.\n",
        "\n"
      ],
      "metadata": {
        "id": "RGR0zVaw80xz"
      }
    },
    {
      "cell_type": "markdown",
      "source": [
        "# Reconhecimento dos Dataset\n",
        "\n",
        "A seguir serão apresentado as colunas que serão efetivamente utilizadas no neste trabalho.  Caso seja necessário, é possível ver a descrição de todas as colunas dos datasets <a href=\"https://github.com/anapessoapcrj/MVP-Ciencia-de-Dados/blob/main/README.md\">aqui</a>.\n",
        "\n",
        "Colunas presentes em todos os dataframes:\n",
        "\n",
        "* FID:  Chave primária de cada dataset;\n",
        "* Geocodigo: código do município;\n",
        "* Nome: nome do município;\n",
        "* MoradDPPOTot ou MoradDPPOTotTot: Total de pessoas em **domicílios particulares permanente ocupados (DPPO)**.\n",
        "\n",
        " <p align=\"justify\">Cabe ressaltar que cada campo (coluna) tem a sua correspondente em percentagem que é calculada em relação ao total de moradores em domicílios (DPPO). Estas se iniciam com \"Perc\" e segue com denominação da coluna com valores absolutos. Exemplo: MoradDPPOTotVala tem como correspondente em termos percentuais a PercMoradDPPOTotVala.\n",
        "---\n",
        "Dicionário das colunas densDemog:\n",
        "\n",
        "* AreaUnidTerrit: Área em km² do município;\n",
        "* DensDemog: Densidade Demográfica do município p/km²;\n",
        "* PopResid: População residente do município.\n",
        "---\n",
        "Dicionário das colunas coletaLixoMun:\n",
        "\n",
        "* MoradDPPOColetTot: Pessoas em domicílios (DPPO) que possui coleta de lixo direta ou indireta (em domícilio ou através do deposito em caçambas). Os valores refletem a soma da coluna MoradDPPOColetDomicServLimpTot com a MoradDPPODepCacambServLimpTot;\n",
        "\n",
        "---\n",
        "Dicionário colunas do Dataframe esgotamentoSanitario:\n",
        "\n",
        "* MoradDPPOTotRedeGeralPluvFossaRede: Pessoas em domicílios (DPPO) com esgotamento sanitário ligado a rede geral ou pluvial ou fossa septica ligada à rede. Os valores apresentados representados nesta coluna representa a soma da MoradDPPOTotFossaSeptOuFiltroRede com a MoradDPPOTotRedeGeralPluv;\n",
        "---\n",
        "Dicionário colunas do Dataframe aguaCanalizada:\n",
        "\n",
        "* MoradDPPOCanalizCasaTot: Pessoas em domicílios (DPPO) com água canalizada até interior da casa;\n",
        "* MoradDPPOCanalizTerrTot: Pessoas em domicílios (DPPO) com água canalizada até o terreno\n",
        "\n",
        "---\n",
        "Dicionário colunas do Dataframe aguaRedeDistr:\n",
        "\n",
        "* MoradDPPOTotRedeGeral: Pessoas em domicílios (DPPO) abastecidos principalmente com água da rede geral de distribuição.\n"
      ],
      "metadata": {
        "id": "OSLZNZp6R2UM"
      }
    },
    {
      "cell_type": "markdown",
      "source": [
        "# 2. **Importação de biblioteca e dos conjuntos de dados**"
      ],
      "metadata": {
        "id": "MZMlv5qGFyBp"
      }
    },
    {
      "cell_type": "code",
      "execution_count": 2,
      "metadata": {
        "id": "hgmwubTB8jLz"
      },
      "outputs": [],
      "source": [
        "# Configuração para não exibir os warnings\n",
        "import warnings\n",
        "warnings.filterwarnings(\"ignore\")\n",
        "\n",
        "# Importação de pacotes\n",
        "import pandas as pd\n",
        "import numpy as np\n",
        "import missingno as ms # para tratamento de missings\n",
        "## Transformações Gráficas\n",
        "import matplotlib.pyplot as plt\n",
        "import seaborn as sns"
      ]
    },
    {
      "cell_type": "code",
      "source": [
        "# Importação dos arquivos csv\n",
        "# Os arquivos foram baixados no site do Inde e estão no github anapessoa\n",
        "\n",
        "url1 = \"https://github.com/anapessoapcrj/Coleta_Lixo_Ibge/raw/main/sidra_9541_PercMoradDPPOColetTot_munic_22_pol%20(1).csv\"\n",
        "\n",
        "url2 = \"https://github.com/anapessoapcrj/DensDemografica/raw/main/sidra_4714_DensDemog_HabKm2_munic_22_pol.csv\"\n",
        "\n",
        "url3 = \"https://github.com/anapessoapcrj/EsgotamentoSanitarioCenso22/raw/main/sidra_9397_PercMoradDPPOTotRedeGeralPluvFossaRede_munic_22_pol.csv\"\n",
        "\n",
        "url4 = \"https://github.com/anapessoapcrj/semAguaCanalizadaCenso22/raw/main/sidra_6909_PercMoradDPPOSemCanalizTot_munic_22_pol.csv\"\n",
        "\n",
        "url5 = \"https://github.com/anapessoapcrj/aguaDistribuicaoCenso22/raw/main/sidra_6909_PercMoradDPPOTotRedeGeral_munic_22_pol%20(1).csv\""
      ],
      "metadata": {
        "id": "uysJq0HjGlVi"
      },
      "execution_count": 3,
      "outputs": []
    },
    {
      "cell_type": "code",
      "source": [
        "# Convertando os CSV em Dataframe\n",
        "\n",
        "delimiter = \",\" # separador de colunas \",\"\n",
        "coletaLixoMun = pd.read_csv(url1, delimiter=delimiter)\n",
        "densDemog = pd.read_csv(url2, delimiter=delimiter)\n",
        "esgotamentoSanitario = pd.read_csv(url3, delimiter=delimiter)\n",
        "aguaCanalizada = pd.read_csv(url4, delimiter=delimiter)\n",
        "aguaRedeDistr = pd.read_csv(url5, delimiter=delimiter)"
      ],
      "metadata": {
        "id": "YiWPZFWmG-51"
      },
      "execution_count": 4,
      "outputs": []
    },
    {
      "cell_type": "markdown",
      "source": [
        "## Visualizando informações dos dataframes - Dimensão, tipo de dado e identificação de valores nulos"
      ],
      "metadata": {
        "id": "K2uKYtg-LGcu"
      }
    },
    {
      "cell_type": "markdown",
      "source": [
        "Os datasets correspondem aos municípios brasileiros que são únicos e têm como chave primária o Geocódigo.  Serão vistos a seguir dimensão dos datasets, linhas x colunas, e em quais campos há valores nulos."
      ],
      "metadata": {
        "id": "3_jP6yYsuCt4"
      }
    },
    {
      "cell_type": "code",
      "source": [
        "densDemog.info()"
      ],
      "metadata": {
        "colab": {
          "base_uri": "https://localhost:8080/"
        },
        "id": "QpUYVRXbd7TF",
        "outputId": "c0b14ea1-d698-461f-bc4f-aa3c646d1e01"
      },
      "execution_count": 5,
      "outputs": [
        {
          "output_type": "stream",
          "name": "stdout",
          "text": [
            "<class 'pandas.core.frame.DataFrame'>\n",
            "RangeIndex: 5570 entries, 0 to 5569\n",
            "Data columns (total 6 columns):\n",
            " #   Column          Non-Null Count  Dtype  \n",
            "---  ------          --------------  -----  \n",
            " 0   FID             5570 non-null   object \n",
            " 1   Geocodigo       5570 non-null   int64  \n",
            " 2   Nome            5570 non-null   object \n",
            " 3   AreaUnidTerrit  5570 non-null   float64\n",
            " 4   DensDemog       5570 non-null   float64\n",
            " 5   PopResid        5570 non-null   int64  \n",
            "dtypes: float64(2), int64(2), object(2)\n",
            "memory usage: 261.2+ KB\n"
          ]
        }
      ]
    },
    {
      "cell_type": "markdown",
      "source": [
        "Em densDemog não há valores nulos"
      ],
      "metadata": {
        "id": "mjF01CpRI3nJ"
      }
    },
    {
      "cell_type": "code",
      "source": [
        "# Dimensão de densDemog (nº de linhas, nº de colunas)\n",
        "\n",
        "densDemog.shape"
      ],
      "metadata": {
        "colab": {
          "base_uri": "https://localhost:8080/"
        },
        "id": "_TyOccafJBBE",
        "outputId": "21a271d3-50f3-458a-8112-56cc0fa68900"
      },
      "execution_count": 6,
      "outputs": [
        {
          "output_type": "execute_result",
          "data": {
            "text/plain": [
              "(5570, 6)"
            ]
          },
          "metadata": {},
          "execution_count": 6
        }
      ]
    },
    {
      "cell_type": "code",
      "source": [
        "coletaLixoMun.info()"
      ],
      "metadata": {
        "colab": {
          "base_uri": "https://localhost:8080/"
        },
        "id": "JbJhUOMPeLx-",
        "outputId": "d902a6e4-12d2-461a-fda0-8ed3ebbd6bc4"
      },
      "execution_count": 7,
      "outputs": [
        {
          "output_type": "stream",
          "name": "stdout",
          "text": [
            "<class 'pandas.core.frame.DataFrame'>\n",
            "RangeIndex: 5570 entries, 0 to 5569\n",
            "Data columns (total 10 columns):\n",
            " #   Column                              Non-Null Count  Dtype  \n",
            "---  ------                              --------------  -----  \n",
            " 0   FID                                 5570 non-null   object \n",
            " 1   Geocodigo                           5570 non-null   int64  \n",
            " 2   Nome                                5570 non-null   object \n",
            " 3   MoradDPPOColetDomicServLimpTot      5570 non-null   int64  \n",
            " 4   MoradDPPOColetTot                   5570 non-null   int64  \n",
            " 5   MoradDPPODepCacambServLimpTot       5500 non-null   float64\n",
            " 6   MoradDPPOTot                        5570 non-null   int64  \n",
            " 7   PercMoradDPPOColetDomicServLimpTot  5570 non-null   float64\n",
            " 8   PercMoradDPPOColetTot               5570 non-null   float64\n",
            " 9   PercMoradDPPODepCacambServLimpTot   5500 non-null   float64\n",
            "dtypes: float64(4), int64(4), object(2)\n",
            "memory usage: 435.3+ KB\n"
          ]
        }
      ]
    },
    {
      "cell_type": "markdown",
      "source": [
        "Em coletaLixoMun, apenas coluna MoradDPPODepCacambServLimpTot, e a sua respectiva em percentual, apresentou valores nulos."
      ],
      "metadata": {
        "id": "NGn9USvuIHsz"
      }
    },
    {
      "cell_type": "code",
      "source": [
        "# Dimensão de coletaLixoMun (nº de linhas, nº de colunas)\n",
        "\n",
        "coletaLixoMun.shape"
      ],
      "metadata": {
        "colab": {
          "base_uri": "https://localhost:8080/"
        },
        "id": "LTUdfp3CJkf9",
        "outputId": "71ba19f7-6db5-4b59-92b6-e9c8620515c0"
      },
      "execution_count": 8,
      "outputs": [
        {
          "output_type": "execute_result",
          "data": {
            "text/plain": [
              "(5570, 10)"
            ]
          },
          "metadata": {},
          "execution_count": 8
        }
      ]
    },
    {
      "cell_type": "code",
      "source": [
        "esgotamentoSanitario.info()"
      ],
      "metadata": {
        "colab": {
          "base_uri": "https://localhost:8080/"
        },
        "id": "A8EYys_1eRyf",
        "outputId": "23aaba96-1519-48b7-87f4-4c79449e98ba"
      },
      "execution_count": 9,
      "outputs": [
        {
          "output_type": "stream",
          "name": "stdout",
          "text": [
            "<class 'pandas.core.frame.DataFrame'>\n",
            "RangeIndex: 5570 entries, 0 to 5569\n",
            "Data columns (total 22 columns):\n",
            " #   Column                                    Non-Null Count  Dtype  \n",
            "---  ------                                    --------------  -----  \n",
            " 0   FID                                       5570 non-null   object \n",
            " 1   Geocodigo                                 5570 non-null   int64  \n",
            " 2   Nome                                      5570 non-null   object \n",
            " 3   MoradDPPOTotFossaRudimBur                 5566 non-null   float64\n",
            " 4   MoradDPPOTotFossaSeptOuFiltroNaoRede      5547 non-null   float64\n",
            " 5   MoradDPPOTotFossaSeptOuFiltroRede         5306 non-null   float64\n",
            " 6   MoradDPPOTotOutraForma                    4991 non-null   float64\n",
            " 7   MoradDPPOTotRedeGeralPluv                 5489 non-null   float64\n",
            " 8   MoradDPPOTotRedeGeralPluvFossaRede        5545 non-null   float64\n",
            " 9   MoradDPPOTotRioLagoCorregMar              4291 non-null   float64\n",
            " 10  MoradDPPOTotSemBanhOuSanit                4041 non-null   float64\n",
            " 11  MoradDPPOTotVala                          5020 non-null   float64\n",
            " 12  PercMoradDPPOTotFossaRudimBur             5566 non-null   float64\n",
            " 13  PercMoradDPPOTotFossaSeptOuFiltroNaoRede  5547 non-null   float64\n",
            " 14  PercMoradDPPOTotFossaSeptOuFiltroRede     5306 non-null   float64\n",
            " 15  PercMoradDPPOTotOutraForma                4991 non-null   float64\n",
            " 16  PercMoradDPPOTotRedeGeralPluv             5489 non-null   float64\n",
            " 17  PercMoradDPPOTotRedeGeralPluvFossaRede    5545 non-null   float64\n",
            " 18  PercMoradDPPOTotRioLagoCorregMar          4291 non-null   float64\n",
            " 19  PercMoradDPPOTotSemBanhOuSanit            4041 non-null   float64\n",
            " 20  PercMoradDPPOTotVala                      5020 non-null   float64\n",
            " 21  MoradDPPOTot                              5570 non-null   int64  \n",
            "dtypes: float64(18), int64(2), object(2)\n",
            "memory usage: 957.5+ KB\n"
          ]
        }
      ]
    },
    {
      "cell_type": "markdown",
      "source": [
        "<p align=\"justify\">Em esgotamentoSanitario, as colunas que apresentaram valores nulos, e as suas correspondentes em termos percentuais, foram MoradDPPOTotSemBanhOuSanit,  MoradDPPOTotRioLagoCorregMar, MoradDPPOTotOutraForma, MoradDPPOTotVala, MoradDPPOTotFossaSeptOuFiltroRede, MoradDPPOTotRedeGeralPluv, MoradDPPOTotRedeGeralPluvFossaRede, MoradDPPOTotFossaSeptOuFiltroNaoRede e MoradDPPOTotFossaRudimBur.  A ordem apresentada segue do maior até o menor número de valores nulos.</p>"
      ],
      "metadata": {
        "id": "JXWl4EdlFJ9H"
      }
    },
    {
      "cell_type": "code",
      "source": [
        "# Dimensão de esgotamentoSanitario (nº de linhas, nº de colunas)\n",
        "\n",
        "esgotamentoSanitario.shape"
      ],
      "metadata": {
        "colab": {
          "base_uri": "https://localhost:8080/"
        },
        "id": "b2kDUdy-J1Z7",
        "outputId": "d6a27811-3fef-44a4-b9e0-13774d787b7f"
      },
      "execution_count": 10,
      "outputs": [
        {
          "output_type": "execute_result",
          "data": {
            "text/plain": [
              "(5570, 22)"
            ]
          },
          "metadata": {},
          "execution_count": 10
        }
      ]
    },
    {
      "cell_type": "code",
      "source": [
        "aguaCanalizada.info()"
      ],
      "metadata": {
        "colab": {
          "base_uri": "https://localhost:8080/"
        },
        "id": "rSxQqigfea88",
        "outputId": "4c2bdbb0-c041-4bcf-82e0-50b1e18fa24c"
      },
      "execution_count": 11,
      "outputs": [
        {
          "output_type": "stream",
          "name": "stdout",
          "text": [
            "<class 'pandas.core.frame.DataFrame'>\n",
            "RangeIndex: 5570 entries, 0 to 5569\n",
            "Data columns (total 10 columns):\n",
            " #   Column                       Non-Null Count  Dtype  \n",
            "---  ------                       --------------  -----  \n",
            " 0   FID                          5570 non-null   object \n",
            " 1   Geocodigo                    5570 non-null   int64  \n",
            " 2   Nome                         5570 non-null   object \n",
            " 3   MoradDPPOCanalizCasaTot      5570 non-null   int64  \n",
            " 4   MoradDPPOCanalizTerrTot      5332 non-null   float64\n",
            " 5   MoradDPPOSemCanalizTot       4915 non-null   float64\n",
            " 6   MoradDPPOTotTot              5570 non-null   int64  \n",
            " 7   PercMoradDPPOCanalizCasaTot  5570 non-null   float64\n",
            " 8   PercMoradDPPOCanalizTerrTot  5332 non-null   float64\n",
            " 9   PercMoradDPPOSemCanalizTot   4915 non-null   float64\n",
            "dtypes: float64(5), int64(3), object(2)\n",
            "memory usage: 435.3+ KB\n"
          ]
        }
      ]
    },
    {
      "cell_type": "markdown",
      "source": [
        "Em aguaCanalizada, as colunas que apresentaram valores nulos, e as suas correspondentes em termos percentuais, foram MoradDPPOSemCanalizTot e MoradDPPOCanalizTerrTot."
      ],
      "metadata": {
        "id": "x2iyRa8SEUsJ"
      }
    },
    {
      "cell_type": "code",
      "source": [
        "# Dimensão de aguaCanalizada (nº de linhas, nº de colunas)\n",
        "\n",
        "aguaCanalizada.shape"
      ],
      "metadata": {
        "colab": {
          "base_uri": "https://localhost:8080/"
        },
        "id": "0XmBiCeXKCOZ",
        "outputId": "827cfe77-2ed4-463a-d020-42669f6b906f"
      },
      "execution_count": 12,
      "outputs": [
        {
          "output_type": "execute_result",
          "data": {
            "text/plain": [
              "(5570, 10)"
            ]
          },
          "metadata": {},
          "execution_count": 12
        }
      ]
    },
    {
      "cell_type": "code",
      "source": [
        "aguaRedeDistr.info()"
      ],
      "metadata": {
        "colab": {
          "base_uri": "https://localhost:8080/"
        },
        "id": "UrOsbjPWeuVB",
        "outputId": "39c44609-7019-47a7-c691-cc3d3c4c5aaf"
      },
      "execution_count": 13,
      "outputs": [
        {
          "output_type": "stream",
          "name": "stdout",
          "text": [
            "<class 'pandas.core.frame.DataFrame'>\n",
            "RangeIndex: 5570 entries, 0 to 5569\n",
            "Data columns (total 20 columns):\n",
            " #   Column                       Non-Null Count  Dtype  \n",
            "---  ------                       --------------  -----  \n",
            " 0   FID                          5570 non-null   object \n",
            " 1   Geocodigo                    5570 non-null   int64  \n",
            " 2   Nome                         5570 non-null   object \n",
            " 3   MoradDPPOTotChuva            3352 non-null   float64\n",
            " 4   MoradDPPOTotFonte            5245 non-null   float64\n",
            " 5   MoradDPPOTotOutra            4716 non-null   float64\n",
            " 6   MoradDPPOTotPipa             3238 non-null   float64\n",
            " 7   MoradDPPOTotPocoProfund      5563 non-null   float64\n",
            " 8   MoradDPPOTotPocoRaso         5411 non-null   float64\n",
            " 9   MoradDPPOTotRedeGeral        5562 non-null   float64\n",
            " 10  MoradDPPOTotRios             4417 non-null   float64\n",
            " 11  MoradDPPOTotTot              5570 non-null   int64  \n",
            " 12  PercMoradDPPOTotChuva        3352 non-null   float64\n",
            " 13  PercMoradDPPOTotFonte        5245 non-null   float64\n",
            " 14  PercMoradDPPOTotOutra        4716 non-null   float64\n",
            " 15  PercMoradDPPOTotPipa         3238 non-null   float64\n",
            " 16  PercMoradDPPOTotPocoProfund  5563 non-null   float64\n",
            " 17  PercMoradDPPOTotPocoRaso     5411 non-null   float64\n",
            " 18  PercMoradDPPOTotRedeGeral    5562 non-null   float64\n",
            " 19  PercMoradDPPOTotRios         4417 non-null   float64\n",
            "dtypes: float64(16), int64(2), object(2)\n",
            "memory usage: 870.4+ KB\n"
          ]
        }
      ]
    },
    {
      "cell_type": "markdown",
      "source": [
        "<p align=\"justify\">Em aguaRedeDistr, as colunas que apresentaram valores nulos, e as suas correspondentes em termos percentuais, foram MoradDPPOTotPipa, MoradDPPOTotChuva, MoradDPPOTotRios, MoradDPPOTotOutra, MoradDPPOTotFonte, MoradDPPOTotPocoRaso, MoradDPPOTotRedeGeral e MoradDPPOTotPocoProfund.  A ordem apresentada segue do maior até o menor número de valores nulos.  "
      ],
      "metadata": {
        "id": "kqxbaPnB-JUH"
      }
    },
    {
      "cell_type": "code",
      "source": [
        "# # Dimensão de aguaRedeDistr (nº de linhas, nº de colunas)\n",
        "\n",
        "aguaRedeDistr.shape"
      ],
      "metadata": {
        "colab": {
          "base_uri": "https://localhost:8080/"
        },
        "id": "533fhcj8KNcL",
        "outputId": "12761c83-c39e-4ea1-f087-707d8bad3316"
      },
      "execution_count": 14,
      "outputs": [
        {
          "output_type": "execute_result",
          "data": {
            "text/plain": [
              "(5570, 20)"
            ]
          },
          "metadata": {},
          "execution_count": 14
        }
      ]
    },
    {
      "cell_type": "markdown",
      "source": [
        "# 3. **Pré-processamento de dados**"
      ],
      "metadata": {
        "id": "8U13j5ATH4Lw"
      }
    },
    {
      "cell_type": "markdown",
      "source": [
        "Iniciaremos realizando modificações no dataset densDemog a seguir:  \n",
        "\n",
        "* Inclusão de colunas;\n",
        "* Seleção de municípios com densidade demográfica igual ou maior que 20 pessoas por km²;\n",
        "* Exclusão de municípios que estão dentro de uma UF com um n° baixo de municípios (frequência menor do que 20).\n",
        "\n",
        "<p align = \"justify\">Estas mudanças estarão em um objeto, um dataframe, que será denominado grouped\n",
        "e servirá como base para filtrar os outros conjuntos de dados.  Como foi visto na sessão anterior, todos os datasets tem como unidade os municípios e apresentam uma codificação específica que está na Geocodigo. Por meio deste que existem outros datasets é que será feito a filtragem dos registros.     \n",
        "\n"
      ],
      "metadata": {
        "id": "3Tv9LKVOpNzx"
      }
    },
    {
      "cell_type": "markdown",
      "source": [
        "## Densidade Demográfica"
      ],
      "metadata": {
        "id": "vm3GkrPqI9Y2"
      }
    },
    {
      "cell_type": "code",
      "source": [
        "# Inicia-se criando uma função para criar uma coluna com a regiões conhecidas\n",
        "# Norte, Nordeste, Centro-Oeste, Sudeste e Sul\n",
        "\n",
        "def classify_uf(uf):\n",
        "  if uf in ['SP', 'MG', 'RJ', 'ES']:\n",
        "    return 'Sudeste'\n",
        "  elif uf in ['PR', 'RS', 'SC']:\n",
        "    return 'Sul'\n",
        "  elif uf in ['AL', 'BA', 'CE', 'MA', 'PB', 'PE', 'PI', 'RN','SE']:\n",
        "    return 'Nordeste'\n",
        "  elif uf in ['AM', 'PA', 'RR', 'RO', 'AC', 'TO', 'AP']:\n",
        "    return 'Norte'\n",
        "  elif uf in ['GO', 'MT', 'MS', 'DF']:\n",
        "    return 'Centro-Oeste'\n",
        "  else:\n",
        "    return 'Outros'"
      ],
      "metadata": {
        "id": "haFRWzzbsCTQ"
      },
      "execution_count": 15,
      "outputs": []
    },
    {
      "cell_type": "code",
      "source": [
        "# Foram feitas diversas testes aplicando filtros com densidade demográfica maiores,\n",
        "# Porém devido o predomínio de municípios com baixa densidade demográfica,\n",
        "# optou-se em manter por 50 pessoa por km².\n",
        "# A seguir, quantos registros sobrariam se fosse uma dens. demográfica maior ou igual a 100\n",
        "\n",
        "densDemog100mais = densDemog[densDemog['DensDemog'] >= 100]\n",
        "\n",
        "densDemog100mais.shape"
      ],
      "metadata": {
        "colab": {
          "base_uri": "https://localhost:8080/"
        },
        "id": "BT4-KGVkL7l-",
        "outputId": "5226eba5-26cb-413e-ce3c-570a7fceedc7"
      },
      "execution_count": 16,
      "outputs": [
        {
          "output_type": "execute_result",
          "data": {
            "text/plain": [
              "(782, 6)"
            ]
          },
          "metadata": {},
          "execution_count": 16
        }
      ]
    },
    {
      "cell_type": "code",
      "source": [
        "# Seleção dos municípios com dens. demogr. acima ou igual a 50 p/km²\n",
        "\n",
        "densDemog50mais = densDemog[densDemog['DensDemog'] >= 50]"
      ],
      "metadata": {
        "id": "Z9Upa_d1HtUv"
      },
      "execution_count": 17,
      "outputs": []
    },
    {
      "cell_type": "code",
      "source": [
        "# Criando uma coluna onde terá o código da Unidade Federativa (UF)\n",
        "# A coluna Geocodigo é composto por 5 digitos onde os dois primeiros corresponde a UF\n",
        "\n",
        "densDemog50mais['GeocodigoUF'] = densDemog50mais['Geocodigo'].astype(str).str[:2]"
      ],
      "metadata": {
        "id": "UYoPEcRTf2--"
      },
      "execution_count": 18,
      "outputs": []
    },
    {
      "cell_type": "code",
      "source": [
        "# Criando uma coluna onde terá a sigla das Unidade Federativa (UF)\n",
        "# A coluna Nome termina sempre pela sigla da UF\n",
        "\n",
        "densDemog50mais['UF'] = densDemog50mais['Nome'].str[-2:]"
      ],
      "metadata": {
        "id": "1oibQAWZgytg"
      },
      "execution_count": 19,
      "outputs": []
    },
    {
      "cell_type": "code",
      "source": [
        "# Criado a coluna região através da função criada classify_uf\n",
        "\n",
        "densDemog50mais['Regiao'] = densDemog50mais['UF'].apply(classify_uf)"
      ],
      "metadata": {
        "id": "7lFDjQxJu-gp"
      },
      "execution_count": 20,
      "outputs": []
    },
    {
      "cell_type": "code",
      "source": [
        "# Agrupando pelo UF\n",
        "# Agregando as colunas DensDemog pela média\n",
        "# e PopResid pela soma\n",
        "\n",
        "grouped = densDemog50mais.groupby([\"UF\"]).aggregate({\n",
        "    \"DensDemog\": \"mean\",\n",
        "    \"PopResid\": \"sum\",\n",
        "    \"GeocodigoUF\": \"count\",\n",
        "\n",
        "}).reset_index()"
      ],
      "metadata": {
        "id": "BQ32Ctx4iTlt"
      },
      "execution_count": 21,
      "outputs": []
    },
    {
      "cell_type": "code",
      "source": [
        "# ordenando contagem de uf de maior para menor\n",
        "\n",
        "grouped.sort_values('GeocodigoUF', ascending=False)\n"
      ],
      "metadata": {
        "colab": {
          "base_uri": "https://localhost:8080/",
          "height": 833
        },
        "id": "-Xi-mP7x_vBx",
        "outputId": "823fbb57-aa19-46f0-b503-4c309bef57c4"
      },
      "execution_count": 22,
      "outputs": [
        {
          "output_type": "execute_result",
          "data": {
            "text/plain": [
              "    UF   DensDemog  PopResid  GeocodigoUF\n",
              "23  SP  748.097279  40743649          272\n",
              "9   MG  264.017118  12893772          170\n",
              "14  PE  347.073984   7699058          128\n",
              "20  RS  334.452456   7566299          114\n",
              "21  SC  260.064900   6132139          100\n",
              "13  PB  213.686022   3035037           93\n",
              "16  PR  238.521279   8278978           86\n",
              "3   BA  214.150824   7511190           85\n",
              "4   CE  272.121096   6114372           73\n",
              "17  RJ  886.637000  15665566           70\n",
              "0   AL  140.754638   2795576           69\n",
              "18  RN  223.881786   2268783           56\n",
              "22  SE  220.613636   1783535           44\n",
              "6   ES  361.932414   2845484           29\n",
              "7   GO  490.987500   3928371           24\n",
              "8   MA  272.683913   2548380           23\n",
              "12  PA  361.596111   2955913           18\n",
              "15  PI  199.008750   1165419            8\n",
              "10  MS   74.282500   1183598            4\n",
              "11  MT  205.163333   1195866            3\n",
              "2   AP   68.655000    550551            2\n",
              "24  TO  101.370000    312954            2\n",
              "1   AM  181.010000   2063689            1\n",
              "19  RR   72.710000    413486            1\n",
              "5   DF  489.060000   2817381            1"
            ],
            "text/html": [
              "\n",
              "  <div id=\"df-3722fe9e-aba4-4085-8e35-91bc240e5a16\" class=\"colab-df-container\">\n",
              "    <div>\n",
              "<style scoped>\n",
              "    .dataframe tbody tr th:only-of-type {\n",
              "        vertical-align: middle;\n",
              "    }\n",
              "\n",
              "    .dataframe tbody tr th {\n",
              "        vertical-align: top;\n",
              "    }\n",
              "\n",
              "    .dataframe thead th {\n",
              "        text-align: right;\n",
              "    }\n",
              "</style>\n",
              "<table border=\"1\" class=\"dataframe\">\n",
              "  <thead>\n",
              "    <tr style=\"text-align: right;\">\n",
              "      <th></th>\n",
              "      <th>UF</th>\n",
              "      <th>DensDemog</th>\n",
              "      <th>PopResid</th>\n",
              "      <th>GeocodigoUF</th>\n",
              "    </tr>\n",
              "  </thead>\n",
              "  <tbody>\n",
              "    <tr>\n",
              "      <th>23</th>\n",
              "      <td>SP</td>\n",
              "      <td>748.097279</td>\n",
              "      <td>40743649</td>\n",
              "      <td>272</td>\n",
              "    </tr>\n",
              "    <tr>\n",
              "      <th>9</th>\n",
              "      <td>MG</td>\n",
              "      <td>264.017118</td>\n",
              "      <td>12893772</td>\n",
              "      <td>170</td>\n",
              "    </tr>\n",
              "    <tr>\n",
              "      <th>14</th>\n",
              "      <td>PE</td>\n",
              "      <td>347.073984</td>\n",
              "      <td>7699058</td>\n",
              "      <td>128</td>\n",
              "    </tr>\n",
              "    <tr>\n",
              "      <th>20</th>\n",
              "      <td>RS</td>\n",
              "      <td>334.452456</td>\n",
              "      <td>7566299</td>\n",
              "      <td>114</td>\n",
              "    </tr>\n",
              "    <tr>\n",
              "      <th>21</th>\n",
              "      <td>SC</td>\n",
              "      <td>260.064900</td>\n",
              "      <td>6132139</td>\n",
              "      <td>100</td>\n",
              "    </tr>\n",
              "    <tr>\n",
              "      <th>13</th>\n",
              "      <td>PB</td>\n",
              "      <td>213.686022</td>\n",
              "      <td>3035037</td>\n",
              "      <td>93</td>\n",
              "    </tr>\n",
              "    <tr>\n",
              "      <th>16</th>\n",
              "      <td>PR</td>\n",
              "      <td>238.521279</td>\n",
              "      <td>8278978</td>\n",
              "      <td>86</td>\n",
              "    </tr>\n",
              "    <tr>\n",
              "      <th>3</th>\n",
              "      <td>BA</td>\n",
              "      <td>214.150824</td>\n",
              "      <td>7511190</td>\n",
              "      <td>85</td>\n",
              "    </tr>\n",
              "    <tr>\n",
              "      <th>4</th>\n",
              "      <td>CE</td>\n",
              "      <td>272.121096</td>\n",
              "      <td>6114372</td>\n",
              "      <td>73</td>\n",
              "    </tr>\n",
              "    <tr>\n",
              "      <th>17</th>\n",
              "      <td>RJ</td>\n",
              "      <td>886.637000</td>\n",
              "      <td>15665566</td>\n",
              "      <td>70</td>\n",
              "    </tr>\n",
              "    <tr>\n",
              "      <th>0</th>\n",
              "      <td>AL</td>\n",
              "      <td>140.754638</td>\n",
              "      <td>2795576</td>\n",
              "      <td>69</td>\n",
              "    </tr>\n",
              "    <tr>\n",
              "      <th>18</th>\n",
              "      <td>RN</td>\n",
              "      <td>223.881786</td>\n",
              "      <td>2268783</td>\n",
              "      <td>56</td>\n",
              "    </tr>\n",
              "    <tr>\n",
              "      <th>22</th>\n",
              "      <td>SE</td>\n",
              "      <td>220.613636</td>\n",
              "      <td>1783535</td>\n",
              "      <td>44</td>\n",
              "    </tr>\n",
              "    <tr>\n",
              "      <th>6</th>\n",
              "      <td>ES</td>\n",
              "      <td>361.932414</td>\n",
              "      <td>2845484</td>\n",
              "      <td>29</td>\n",
              "    </tr>\n",
              "    <tr>\n",
              "      <th>7</th>\n",
              "      <td>GO</td>\n",
              "      <td>490.987500</td>\n",
              "      <td>3928371</td>\n",
              "      <td>24</td>\n",
              "    </tr>\n",
              "    <tr>\n",
              "      <th>8</th>\n",
              "      <td>MA</td>\n",
              "      <td>272.683913</td>\n",
              "      <td>2548380</td>\n",
              "      <td>23</td>\n",
              "    </tr>\n",
              "    <tr>\n",
              "      <th>12</th>\n",
              "      <td>PA</td>\n",
              "      <td>361.596111</td>\n",
              "      <td>2955913</td>\n",
              "      <td>18</td>\n",
              "    </tr>\n",
              "    <tr>\n",
              "      <th>15</th>\n",
              "      <td>PI</td>\n",
              "      <td>199.008750</td>\n",
              "      <td>1165419</td>\n",
              "      <td>8</td>\n",
              "    </tr>\n",
              "    <tr>\n",
              "      <th>10</th>\n",
              "      <td>MS</td>\n",
              "      <td>74.282500</td>\n",
              "      <td>1183598</td>\n",
              "      <td>4</td>\n",
              "    </tr>\n",
              "    <tr>\n",
              "      <th>11</th>\n",
              "      <td>MT</td>\n",
              "      <td>205.163333</td>\n",
              "      <td>1195866</td>\n",
              "      <td>3</td>\n",
              "    </tr>\n",
              "    <tr>\n",
              "      <th>2</th>\n",
              "      <td>AP</td>\n",
              "      <td>68.655000</td>\n",
              "      <td>550551</td>\n",
              "      <td>2</td>\n",
              "    </tr>\n",
              "    <tr>\n",
              "      <th>24</th>\n",
              "      <td>TO</td>\n",
              "      <td>101.370000</td>\n",
              "      <td>312954</td>\n",
              "      <td>2</td>\n",
              "    </tr>\n",
              "    <tr>\n",
              "      <th>1</th>\n",
              "      <td>AM</td>\n",
              "      <td>181.010000</td>\n",
              "      <td>2063689</td>\n",
              "      <td>1</td>\n",
              "    </tr>\n",
              "    <tr>\n",
              "      <th>19</th>\n",
              "      <td>RR</td>\n",
              "      <td>72.710000</td>\n",
              "      <td>413486</td>\n",
              "      <td>1</td>\n",
              "    </tr>\n",
              "    <tr>\n",
              "      <th>5</th>\n",
              "      <td>DF</td>\n",
              "      <td>489.060000</td>\n",
              "      <td>2817381</td>\n",
              "      <td>1</td>\n",
              "    </tr>\n",
              "  </tbody>\n",
              "</table>\n",
              "</div>\n",
              "    <div class=\"colab-df-buttons\">\n",
              "\n",
              "  <div class=\"colab-df-container\">\n",
              "    <button class=\"colab-df-convert\" onclick=\"convertToInteractive('df-3722fe9e-aba4-4085-8e35-91bc240e5a16')\"\n",
              "            title=\"Convert this dataframe to an interactive table.\"\n",
              "            style=\"display:none;\">\n",
              "\n",
              "  <svg xmlns=\"http://www.w3.org/2000/svg\" height=\"24px\" viewBox=\"0 -960 960 960\">\n",
              "    <path d=\"M120-120v-720h720v720H120Zm60-500h600v-160H180v160Zm220 220h160v-160H400v160Zm0 220h160v-160H400v160ZM180-400h160v-160H180v160Zm440 0h160v-160H620v160ZM180-180h160v-160H180v160Zm440 0h160v-160H620v160Z\"/>\n",
              "  </svg>\n",
              "    </button>\n",
              "\n",
              "  <style>\n",
              "    .colab-df-container {\n",
              "      display:flex;\n",
              "      gap: 12px;\n",
              "    }\n",
              "\n",
              "    .colab-df-convert {\n",
              "      background-color: #E8F0FE;\n",
              "      border: none;\n",
              "      border-radius: 50%;\n",
              "      cursor: pointer;\n",
              "      display: none;\n",
              "      fill: #1967D2;\n",
              "      height: 32px;\n",
              "      padding: 0 0 0 0;\n",
              "      width: 32px;\n",
              "    }\n",
              "\n",
              "    .colab-df-convert:hover {\n",
              "      background-color: #E2EBFA;\n",
              "      box-shadow: 0px 1px 2px rgba(60, 64, 67, 0.3), 0px 1px 3px 1px rgba(60, 64, 67, 0.15);\n",
              "      fill: #174EA6;\n",
              "    }\n",
              "\n",
              "    .colab-df-buttons div {\n",
              "      margin-bottom: 4px;\n",
              "    }\n",
              "\n",
              "    [theme=dark] .colab-df-convert {\n",
              "      background-color: #3B4455;\n",
              "      fill: #D2E3FC;\n",
              "    }\n",
              "\n",
              "    [theme=dark] .colab-df-convert:hover {\n",
              "      background-color: #434B5C;\n",
              "      box-shadow: 0px 1px 3px 1px rgba(0, 0, 0, 0.15);\n",
              "      filter: drop-shadow(0px 1px 2px rgba(0, 0, 0, 0.3));\n",
              "      fill: #FFFFFF;\n",
              "    }\n",
              "  </style>\n",
              "\n",
              "    <script>\n",
              "      const buttonEl =\n",
              "        document.querySelector('#df-3722fe9e-aba4-4085-8e35-91bc240e5a16 button.colab-df-convert');\n",
              "      buttonEl.style.display =\n",
              "        google.colab.kernel.accessAllowed ? 'block' : 'none';\n",
              "\n",
              "      async function convertToInteractive(key) {\n",
              "        const element = document.querySelector('#df-3722fe9e-aba4-4085-8e35-91bc240e5a16');\n",
              "        const dataTable =\n",
              "          await google.colab.kernel.invokeFunction('convertToInteractive',\n",
              "                                                    [key], {});\n",
              "        if (!dataTable) return;\n",
              "\n",
              "        const docLinkHtml = 'Like what you see? Visit the ' +\n",
              "          '<a target=\"_blank\" href=https://colab.research.google.com/notebooks/data_table.ipynb>data table notebook</a>'\n",
              "          + ' to learn more about interactive tables.';\n",
              "        element.innerHTML = '';\n",
              "        dataTable['output_type'] = 'display_data';\n",
              "        await google.colab.output.renderOutput(dataTable, element);\n",
              "        const docLink = document.createElement('div');\n",
              "        docLink.innerHTML = docLinkHtml;\n",
              "        element.appendChild(docLink);\n",
              "      }\n",
              "    </script>\n",
              "  </div>\n",
              "\n",
              "\n",
              "<div id=\"df-37d1d53a-4902-4f69-a8d3-f3ff08ebe1b3\">\n",
              "  <button class=\"colab-df-quickchart\" onclick=\"quickchart('df-37d1d53a-4902-4f69-a8d3-f3ff08ebe1b3')\"\n",
              "            title=\"Suggest charts\"\n",
              "            style=\"display:none;\">\n",
              "\n",
              "<svg xmlns=\"http://www.w3.org/2000/svg\" height=\"24px\"viewBox=\"0 0 24 24\"\n",
              "     width=\"24px\">\n",
              "    <g>\n",
              "        <path d=\"M19 3H5c-1.1 0-2 .9-2 2v14c0 1.1.9 2 2 2h14c1.1 0 2-.9 2-2V5c0-1.1-.9-2-2-2zM9 17H7v-7h2v7zm4 0h-2V7h2v10zm4 0h-2v-4h2v4z\"/>\n",
              "    </g>\n",
              "</svg>\n",
              "  </button>\n",
              "\n",
              "<style>\n",
              "  .colab-df-quickchart {\n",
              "      --bg-color: #E8F0FE;\n",
              "      --fill-color: #1967D2;\n",
              "      --hover-bg-color: #E2EBFA;\n",
              "      --hover-fill-color: #174EA6;\n",
              "      --disabled-fill-color: #AAA;\n",
              "      --disabled-bg-color: #DDD;\n",
              "  }\n",
              "\n",
              "  [theme=dark] .colab-df-quickchart {\n",
              "      --bg-color: #3B4455;\n",
              "      --fill-color: #D2E3FC;\n",
              "      --hover-bg-color: #434B5C;\n",
              "      --hover-fill-color: #FFFFFF;\n",
              "      --disabled-bg-color: #3B4455;\n",
              "      --disabled-fill-color: #666;\n",
              "  }\n",
              "\n",
              "  .colab-df-quickchart {\n",
              "    background-color: var(--bg-color);\n",
              "    border: none;\n",
              "    border-radius: 50%;\n",
              "    cursor: pointer;\n",
              "    display: none;\n",
              "    fill: var(--fill-color);\n",
              "    height: 32px;\n",
              "    padding: 0;\n",
              "    width: 32px;\n",
              "  }\n",
              "\n",
              "  .colab-df-quickchart:hover {\n",
              "    background-color: var(--hover-bg-color);\n",
              "    box-shadow: 0 1px 2px rgba(60, 64, 67, 0.3), 0 1px 3px 1px rgba(60, 64, 67, 0.15);\n",
              "    fill: var(--button-hover-fill-color);\n",
              "  }\n",
              "\n",
              "  .colab-df-quickchart-complete:disabled,\n",
              "  .colab-df-quickchart-complete:disabled:hover {\n",
              "    background-color: var(--disabled-bg-color);\n",
              "    fill: var(--disabled-fill-color);\n",
              "    box-shadow: none;\n",
              "  }\n",
              "\n",
              "  .colab-df-spinner {\n",
              "    border: 2px solid var(--fill-color);\n",
              "    border-color: transparent;\n",
              "    border-bottom-color: var(--fill-color);\n",
              "    animation:\n",
              "      spin 1s steps(1) infinite;\n",
              "  }\n",
              "\n",
              "  @keyframes spin {\n",
              "    0% {\n",
              "      border-color: transparent;\n",
              "      border-bottom-color: var(--fill-color);\n",
              "      border-left-color: var(--fill-color);\n",
              "    }\n",
              "    20% {\n",
              "      border-color: transparent;\n",
              "      border-left-color: var(--fill-color);\n",
              "      border-top-color: var(--fill-color);\n",
              "    }\n",
              "    30% {\n",
              "      border-color: transparent;\n",
              "      border-left-color: var(--fill-color);\n",
              "      border-top-color: var(--fill-color);\n",
              "      border-right-color: var(--fill-color);\n",
              "    }\n",
              "    40% {\n",
              "      border-color: transparent;\n",
              "      border-right-color: var(--fill-color);\n",
              "      border-top-color: var(--fill-color);\n",
              "    }\n",
              "    60% {\n",
              "      border-color: transparent;\n",
              "      border-right-color: var(--fill-color);\n",
              "    }\n",
              "    80% {\n",
              "      border-color: transparent;\n",
              "      border-right-color: var(--fill-color);\n",
              "      border-bottom-color: var(--fill-color);\n",
              "    }\n",
              "    90% {\n",
              "      border-color: transparent;\n",
              "      border-bottom-color: var(--fill-color);\n",
              "    }\n",
              "  }\n",
              "</style>\n",
              "\n",
              "  <script>\n",
              "    async function quickchart(key) {\n",
              "      const quickchartButtonEl =\n",
              "        document.querySelector('#' + key + ' button');\n",
              "      quickchartButtonEl.disabled = true;  // To prevent multiple clicks.\n",
              "      quickchartButtonEl.classList.add('colab-df-spinner');\n",
              "      try {\n",
              "        const charts = await google.colab.kernel.invokeFunction(\n",
              "            'suggestCharts', [key], {});\n",
              "      } catch (error) {\n",
              "        console.error('Error during call to suggestCharts:', error);\n",
              "      }\n",
              "      quickchartButtonEl.classList.remove('colab-df-spinner');\n",
              "      quickchartButtonEl.classList.add('colab-df-quickchart-complete');\n",
              "    }\n",
              "    (() => {\n",
              "      let quickchartButtonEl =\n",
              "        document.querySelector('#df-37d1d53a-4902-4f69-a8d3-f3ff08ebe1b3 button');\n",
              "      quickchartButtonEl.style.display =\n",
              "        google.colab.kernel.accessAllowed ? 'block' : 'none';\n",
              "    })();\n",
              "  </script>\n",
              "</div>\n",
              "\n",
              "    </div>\n",
              "  </div>\n"
            ],
            "application/vnd.google.colaboratory.intrinsic+json": {
              "type": "dataframe",
              "summary": "{\n  \"name\": \"grouped\",\n  \"rows\": 25,\n  \"fields\": [\n    {\n      \"column\": \"UF\",\n      \"properties\": {\n        \"dtype\": \"string\",\n        \"num_unique_values\": 25,\n        \"samples\": [\n          \"CE\",\n          \"PA\",\n          \"SP\"\n        ],\n        \"semantic_type\": \"\",\n        \"description\": \"\"\n      }\n    },\n    {\n      \"column\": \"DensDemog\",\n      \"properties\": {\n        \"dtype\": \"number\",\n        \"std\": 195.24968140338575,\n        \"min\": 68.655,\n        \"max\": 886.637,\n        \"num_unique_values\": 25,\n        \"samples\": [\n          272.12109589041097,\n          361.5961111111111,\n          748.0972794117647\n        ],\n        \"semantic_type\": \"\",\n        \"description\": \"\"\n      }\n    },\n    {\n      \"column\": \"PopResid\",\n      \"properties\": {\n        \"dtype\": \"number\",\n        \"std\": 8252266,\n        \"min\": 312954,\n        \"max\": 40743649,\n        \"num_unique_values\": 25,\n        \"samples\": [\n          6114372,\n          2955913,\n          40743649\n        ],\n        \"semantic_type\": \"\",\n        \"description\": \"\"\n      }\n    },\n    {\n      \"column\": \"GeocodigoUF\",\n      \"properties\": {\n        \"dtype\": \"number\",\n        \"std\": 64,\n        \"min\": 1,\n        \"max\": 272,\n        \"num_unique_values\": 22,\n        \"samples\": [\n          272,\n          29,\n          73\n        ],\n        \"semantic_type\": \"\",\n        \"description\": \"\"\n      }\n    }\n  ]\n}"
            }
          },
          "metadata": {},
          "execution_count": 22
        }
      ]
    },
    {
      "cell_type": "code",
      "source": [
        "# Criando outro dataset que servirá como filtro final\n",
        "# Com base na frequencia que deve ser acima ou igual a vinte (20) municípios por UF\n",
        "\n",
        "freq_classes = densDemog50mais['UF'].value_counts()\n",
        "filtered_classes = freq_classes[(freq_classes > 20) | (freq_classes.index == 'DF')]\n",
        "\n",
        "# Mudar o grouped para ser igual a densDemog50mais\n",
        "grouped = densDemog50mais[densDemog50mais['UF'].isin(filtered_classes.index)]"
      ],
      "metadata": {
        "id": "0qizYVOTjmxX"
      },
      "execution_count": 23,
      "outputs": []
    },
    {
      "cell_type": "code",
      "source": [
        "# O campo FID não será necessário. Já existe uma chave primária que é o Geocodigo\n",
        "# Além disso, os valores estão muito extensos, prejudicando a visualização\n",
        "# do conjunto de dados, como é possível verificar a seguir.\n",
        "\n",
        "grouped.head(1)"
      ],
      "metadata": {
        "colab": {
          "base_uri": "https://localhost:8080/",
          "height": 81
        },
        "id": "Lhu8razBjyb8",
        "outputId": "c96acf8c-c5cd-42c1-e29d-2d22ad15a191"
      },
      "execution_count": 24,
      "outputs": [
        {
          "output_type": "execute_result",
          "data": {
            "text/plain": [
              "                                                   FID  Geocodigo  \\\n",
              "456  sidra_4714_DensDemog_HabKm2_munic_22_pol.fid-7...    2100436   \n",
              "\n",
              "                             Nome  AreaUnidTerrit  DensDemog  PopResid  \\\n",
              "456  Alto Alegre do Maranhão - MA          392.75      61.23     24048   \n",
              "\n",
              "    GeocodigoUF  UF    Regiao  \n",
              "456          21  MA  Nordeste  "
            ],
            "text/html": [
              "\n",
              "  <div id=\"df-8e17c6a0-a32e-407a-9452-edc13b4306df\" class=\"colab-df-container\">\n",
              "    <div>\n",
              "<style scoped>\n",
              "    .dataframe tbody tr th:only-of-type {\n",
              "        vertical-align: middle;\n",
              "    }\n",
              "\n",
              "    .dataframe tbody tr th {\n",
              "        vertical-align: top;\n",
              "    }\n",
              "\n",
              "    .dataframe thead th {\n",
              "        text-align: right;\n",
              "    }\n",
              "</style>\n",
              "<table border=\"1\" class=\"dataframe\">\n",
              "  <thead>\n",
              "    <tr style=\"text-align: right;\">\n",
              "      <th></th>\n",
              "      <th>FID</th>\n",
              "      <th>Geocodigo</th>\n",
              "      <th>Nome</th>\n",
              "      <th>AreaUnidTerrit</th>\n",
              "      <th>DensDemog</th>\n",
              "      <th>PopResid</th>\n",
              "      <th>GeocodigoUF</th>\n",
              "      <th>UF</th>\n",
              "      <th>Regiao</th>\n",
              "    </tr>\n",
              "  </thead>\n",
              "  <tbody>\n",
              "    <tr>\n",
              "      <th>456</th>\n",
              "      <td>sidra_4714_DensDemog_HabKm2_munic_22_pol.fid-7...</td>\n",
              "      <td>2100436</td>\n",
              "      <td>Alto Alegre do Maranhão - MA</td>\n",
              "      <td>392.75</td>\n",
              "      <td>61.23</td>\n",
              "      <td>24048</td>\n",
              "      <td>21</td>\n",
              "      <td>MA</td>\n",
              "      <td>Nordeste</td>\n",
              "    </tr>\n",
              "  </tbody>\n",
              "</table>\n",
              "</div>\n",
              "    <div class=\"colab-df-buttons\">\n",
              "\n",
              "  <div class=\"colab-df-container\">\n",
              "    <button class=\"colab-df-convert\" onclick=\"convertToInteractive('df-8e17c6a0-a32e-407a-9452-edc13b4306df')\"\n",
              "            title=\"Convert this dataframe to an interactive table.\"\n",
              "            style=\"display:none;\">\n",
              "\n",
              "  <svg xmlns=\"http://www.w3.org/2000/svg\" height=\"24px\" viewBox=\"0 -960 960 960\">\n",
              "    <path d=\"M120-120v-720h720v720H120Zm60-500h600v-160H180v160Zm220 220h160v-160H400v160Zm0 220h160v-160H400v160ZM180-400h160v-160H180v160Zm440 0h160v-160H620v160ZM180-180h160v-160H180v160Zm440 0h160v-160H620v160Z\"/>\n",
              "  </svg>\n",
              "    </button>\n",
              "\n",
              "  <style>\n",
              "    .colab-df-container {\n",
              "      display:flex;\n",
              "      gap: 12px;\n",
              "    }\n",
              "\n",
              "    .colab-df-convert {\n",
              "      background-color: #E8F0FE;\n",
              "      border: none;\n",
              "      border-radius: 50%;\n",
              "      cursor: pointer;\n",
              "      display: none;\n",
              "      fill: #1967D2;\n",
              "      height: 32px;\n",
              "      padding: 0 0 0 0;\n",
              "      width: 32px;\n",
              "    }\n",
              "\n",
              "    .colab-df-convert:hover {\n",
              "      background-color: #E2EBFA;\n",
              "      box-shadow: 0px 1px 2px rgba(60, 64, 67, 0.3), 0px 1px 3px 1px rgba(60, 64, 67, 0.15);\n",
              "      fill: #174EA6;\n",
              "    }\n",
              "\n",
              "    .colab-df-buttons div {\n",
              "      margin-bottom: 4px;\n",
              "    }\n",
              "\n",
              "    [theme=dark] .colab-df-convert {\n",
              "      background-color: #3B4455;\n",
              "      fill: #D2E3FC;\n",
              "    }\n",
              "\n",
              "    [theme=dark] .colab-df-convert:hover {\n",
              "      background-color: #434B5C;\n",
              "      box-shadow: 0px 1px 3px 1px rgba(0, 0, 0, 0.15);\n",
              "      filter: drop-shadow(0px 1px 2px rgba(0, 0, 0, 0.3));\n",
              "      fill: #FFFFFF;\n",
              "    }\n",
              "  </style>\n",
              "\n",
              "    <script>\n",
              "      const buttonEl =\n",
              "        document.querySelector('#df-8e17c6a0-a32e-407a-9452-edc13b4306df button.colab-df-convert');\n",
              "      buttonEl.style.display =\n",
              "        google.colab.kernel.accessAllowed ? 'block' : 'none';\n",
              "\n",
              "      async function convertToInteractive(key) {\n",
              "        const element = document.querySelector('#df-8e17c6a0-a32e-407a-9452-edc13b4306df');\n",
              "        const dataTable =\n",
              "          await google.colab.kernel.invokeFunction('convertToInteractive',\n",
              "                                                    [key], {});\n",
              "        if (!dataTable) return;\n",
              "\n",
              "        const docLinkHtml = 'Like what you see? Visit the ' +\n",
              "          '<a target=\"_blank\" href=https://colab.research.google.com/notebooks/data_table.ipynb>data table notebook</a>'\n",
              "          + ' to learn more about interactive tables.';\n",
              "        element.innerHTML = '';\n",
              "        dataTable['output_type'] = 'display_data';\n",
              "        await google.colab.output.renderOutput(dataTable, element);\n",
              "        const docLink = document.createElement('div');\n",
              "        docLink.innerHTML = docLinkHtml;\n",
              "        element.appendChild(docLink);\n",
              "      }\n",
              "    </script>\n",
              "  </div>\n",
              "\n",
              "\n",
              "    </div>\n",
              "  </div>\n"
            ],
            "application/vnd.google.colaboratory.intrinsic+json": {
              "type": "dataframe",
              "variable_name": "grouped",
              "summary": "{\n  \"name\": \"grouped\",\n  \"rows\": 1437,\n  \"fields\": [\n    {\n      \"column\": \"FID\",\n      \"properties\": {\n        \"dtype\": \"string\",\n        \"num_unique_values\": 1437,\n        \"samples\": [\n          \"sidra_4714_DensDemog_HabKm2_munic_22_pol.fid-703dc0a5_1918baa86f6_-7b6f\",\n          \"sidra_4714_DensDemog_HabKm2_munic_22_pol.fid-703dc0a5_1918baa86f6_-79d6\",\n          \"sidra_4714_DensDemog_HabKm2_munic_22_pol.fid-703dc0a5_1918baa86f6_-7b03\"\n        ],\n        \"semantic_type\": \"\",\n        \"description\": \"\"\n      }\n    },\n    {\n      \"column\": \"Geocodigo\",\n      \"properties\": {\n        \"dtype\": \"number\",\n        \"std\": 689028,\n        \"min\": 2100436,\n        \"max\": 5300108,\n        \"num_unique_values\": 1437,\n        \"samples\": [\n          2701704,\n          2907905,\n          3168507\n        ],\n        \"semantic_type\": \"\",\n        \"description\": \"\"\n      }\n    },\n    {\n      \"column\": \"Nome\",\n      \"properties\": {\n        \"dtype\": \"string\",\n        \"num_unique_values\": 1437,\n        \"samples\": [\n          \"Capela - AL\",\n          \"Cip\\u00f3 - BA\",\n          \"Teixeiras - MG\"\n        ],\n        \"semantic_type\": \"\",\n        \"description\": \"\"\n      }\n    },\n    {\n      \"column\": \"AreaUnidTerrit\",\n      \"properties\": {\n        \"dtype\": \"number\",\n        \"std\": 453.38300631303633,\n        \"min\": 3.565,\n        \"max\": 5760.784,\n        \"num_unique_values\": 1437,\n        \"samples\": [\n          263.735,\n          168.33,\n          166.735\n        ],\n        \"semantic_type\": \"\",\n        \"description\": \"\"\n      }\n    },\n    {\n      \"column\": \"DensDemog\",\n      \"properties\": {\n        \"dtype\": \"number\",\n        \"std\": 1124.872476809736,\n        \"min\": 50.06,\n        \"max\": 13416.81,\n        \"num_unique_values\": 1389,\n        \"samples\": [\n          119.22,\n          80.92,\n          72.93\n        ],\n        \"semantic_type\": \"\",\n        \"description\": \"\"\n      }\n    },\n    {\n      \"column\": \"PopResid\",\n      \"properties\": {\n        \"dtype\": \"number\",\n        \"std\": 391992,\n        \"min\": 2156,\n        \"max\": 11451999,\n        \"num_unique_values\": 1424,\n        \"samples\": [\n          31457,\n          21104,\n          11295\n        ],\n        \"semantic_type\": \"\",\n        \"description\": \"\"\n      }\n    },\n    {\n      \"column\": \"GeocodigoUF\",\n      \"properties\": {\n        \"dtype\": \"category\",\n        \"num_unique_values\": 17,\n        \"samples\": [\n          \"21\",\n          \"23\",\n          \"25\"\n        ],\n        \"semantic_type\": \"\",\n        \"description\": \"\"\n      }\n    },\n    {\n      \"column\": \"UF\",\n      \"properties\": {\n        \"dtype\": \"category\",\n        \"num_unique_values\": 17,\n        \"samples\": [\n          \"MA\",\n          \"CE\",\n          \"PB\"\n        ],\n        \"semantic_type\": \"\",\n        \"description\": \"\"\n      }\n    },\n    {\n      \"column\": \"Regiao\",\n      \"properties\": {\n        \"dtype\": \"category\",\n        \"num_unique_values\": 4,\n        \"samples\": [\n          \"Sul\",\n          \"Centro-Oeste\",\n          \"Nordeste\"\n        ],\n        \"semantic_type\": \"\",\n        \"description\": \"\"\n      }\n    }\n  ]\n}"
            }
          },
          "metadata": {},
          "execution_count": 24
        }
      ]
    },
    {
      "cell_type": "code",
      "source": [
        "# Exclusão da primeira coluna do dataframe\n",
        "\n",
        "grouped = grouped.drop('FID', axis=1)"
      ],
      "metadata": {
        "id": "oN-Z1Y_Vj-l4"
      },
      "execution_count": 25,
      "outputs": []
    },
    {
      "cell_type": "code",
      "source": [
        "# será acrescentado a coluna MoradDPPOTot em grouped\n",
        "# para calcular o percentual deste em relação a PopResid\n",
        "\n",
        "grouped = grouped.merge(coletaLixoMun[['Geocodigo', 'MoradDPPOTot']], on='Geocodigo', how='left')"
      ],
      "metadata": {
        "id": "st5JI-p2qAU0"
      },
      "execution_count": 26,
      "outputs": []
    },
    {
      "cell_type": "code",
      "source": [
        "# Percentagem de MoradDPPOTot em relação a PopResid\n",
        "\n",
        "grouped['PercPopResidMoradDPPOTot'] = (grouped['MoradDPPOTot'] / grouped['PopResid']) * 100\n",
        "\n",
        "# Display the updated dataframe\n",
        "print(grouped)\n"
      ],
      "metadata": {
        "colab": {
          "base_uri": "https://localhost:8080/"
        },
        "id": "Fdc9HFhDrE3L",
        "outputId": "8d9aa917-59e7-4b94-c90f-55ead48f2294"
      },
      "execution_count": 27,
      "outputs": [
        {
          "output_type": "stream",
          "name": "stdout",
          "text": [
            "      Geocodigo                          Nome  AreaUnidTerrit  DensDemog  \\\n",
            "0       2100436  Alto Alegre do Maranhão - MA         392.750      61.23   \n",
            "1       2100832               Apicum-Açu - MA         341.120      51.36   \n",
            "2       2101103                    Axixá - MA         160.462      73.48   \n",
            "3       2101202                  Bacabal - MA        1656.736      62.60   \n",
            "4       2101772   Bela Vista do Maranhão - MA         147.954      79.42   \n",
            "...         ...                           ...             ...        ...   \n",
            "1432    4322541                Vale Real - RS          45.085     134.37   \n",
            "1433    4322608           Venâncio Aires - RS         772.588      89.00   \n",
            "1434    4322707                Vera Cruz - RS         309.621      86.27   \n",
            "1435    4322806              Veranópolis - RS         289.397      83.00   \n",
            "1436    4323804                Xangri-lá - RS          60.756     270.97   \n",
            "\n",
            "      PopResid GeocodigoUF  UF    Regiao  MoradDPPOTot  \\\n",
            "0        24048          21  MA  Nordeste         24019   \n",
            "1        17519          21  MA  Nordeste         17487   \n",
            "2        11790          21  MA  Nordeste         11779   \n",
            "3       103711          21  MA  Nordeste        103505   \n",
            "4        11750          21  MA  Nordeste         11736   \n",
            "...        ...         ...  ..       ...           ...   \n",
            "1432      6058          43  RS       Sul          6057   \n",
            "1433     68763          43  RS       Sul         68100   \n",
            "1434     26710          43  RS       Sul         26613   \n",
            "1435     24021          43  RS       Sul         23961   \n",
            "1436     16463          43  RS       Sul         16451   \n",
            "\n",
            "      PercPopResidMoradDPPOTot  \n",
            "0                    99.879408  \n",
            "1                    99.817341  \n",
            "2                    99.906701  \n",
            "3                    99.801371  \n",
            "4                    99.880851  \n",
            "...                        ...  \n",
            "1432                 99.983493  \n",
            "1433                 99.035819  \n",
            "1434                 99.636840  \n",
            "1435                 99.750219  \n",
            "1436                 99.927109  \n",
            "\n",
            "[1437 rows x 10 columns]\n"
          ]
        }
      ]
    },
    {
      "cell_type": "code",
      "source": [
        "# Agrupar por 'UF', contar e ordenar do maior para o menor\n",
        "\n",
        "grouped.groupby('UF')['UF'].count().sort_values(ascending=False)"
      ],
      "metadata": {
        "colab": {
          "base_uri": "https://localhost:8080/",
          "height": 649
        },
        "id": "60AueF1IkfJS",
        "outputId": "2bf4299d-1e5c-42c6-9d2f-b17d979439ab"
      },
      "execution_count": 28,
      "outputs": [
        {
          "output_type": "execute_result",
          "data": {
            "text/plain": [
              "UF\n",
              "SP    272\n",
              "MG    170\n",
              "PE    128\n",
              "RS    114\n",
              "SC    100\n",
              "PB     93\n",
              "PR     86\n",
              "BA     85\n",
              "CE     73\n",
              "RJ     70\n",
              "AL     69\n",
              "RN     56\n",
              "SE     44\n",
              "ES     29\n",
              "GO     24\n",
              "MA     23\n",
              "DF      1\n",
              "Name: UF, dtype: int64"
            ],
            "text/html": [
              "<div>\n",
              "<style scoped>\n",
              "    .dataframe tbody tr th:only-of-type {\n",
              "        vertical-align: middle;\n",
              "    }\n",
              "\n",
              "    .dataframe tbody tr th {\n",
              "        vertical-align: top;\n",
              "    }\n",
              "\n",
              "    .dataframe thead th {\n",
              "        text-align: right;\n",
              "    }\n",
              "</style>\n",
              "<table border=\"1\" class=\"dataframe\">\n",
              "  <thead>\n",
              "    <tr style=\"text-align: right;\">\n",
              "      <th></th>\n",
              "      <th>UF</th>\n",
              "    </tr>\n",
              "    <tr>\n",
              "      <th>UF</th>\n",
              "      <th></th>\n",
              "    </tr>\n",
              "  </thead>\n",
              "  <tbody>\n",
              "    <tr>\n",
              "      <th>SP</th>\n",
              "      <td>272</td>\n",
              "    </tr>\n",
              "    <tr>\n",
              "      <th>MG</th>\n",
              "      <td>170</td>\n",
              "    </tr>\n",
              "    <tr>\n",
              "      <th>PE</th>\n",
              "      <td>128</td>\n",
              "    </tr>\n",
              "    <tr>\n",
              "      <th>RS</th>\n",
              "      <td>114</td>\n",
              "    </tr>\n",
              "    <tr>\n",
              "      <th>SC</th>\n",
              "      <td>100</td>\n",
              "    </tr>\n",
              "    <tr>\n",
              "      <th>PB</th>\n",
              "      <td>93</td>\n",
              "    </tr>\n",
              "    <tr>\n",
              "      <th>PR</th>\n",
              "      <td>86</td>\n",
              "    </tr>\n",
              "    <tr>\n",
              "      <th>BA</th>\n",
              "      <td>85</td>\n",
              "    </tr>\n",
              "    <tr>\n",
              "      <th>CE</th>\n",
              "      <td>73</td>\n",
              "    </tr>\n",
              "    <tr>\n",
              "      <th>RJ</th>\n",
              "      <td>70</td>\n",
              "    </tr>\n",
              "    <tr>\n",
              "      <th>AL</th>\n",
              "      <td>69</td>\n",
              "    </tr>\n",
              "    <tr>\n",
              "      <th>RN</th>\n",
              "      <td>56</td>\n",
              "    </tr>\n",
              "    <tr>\n",
              "      <th>SE</th>\n",
              "      <td>44</td>\n",
              "    </tr>\n",
              "    <tr>\n",
              "      <th>ES</th>\n",
              "      <td>29</td>\n",
              "    </tr>\n",
              "    <tr>\n",
              "      <th>GO</th>\n",
              "      <td>24</td>\n",
              "    </tr>\n",
              "    <tr>\n",
              "      <th>MA</th>\n",
              "      <td>23</td>\n",
              "    </tr>\n",
              "    <tr>\n",
              "      <th>DF</th>\n",
              "      <td>1</td>\n",
              "    </tr>\n",
              "  </tbody>\n",
              "</table>\n",
              "</div><br><label><b>dtype:</b> int64</label>"
            ]
          },
          "metadata": {},
          "execution_count": 28
        }
      ]
    },
    {
      "cell_type": "markdown",
      "source": [
        "Com este filtro, onde foram excluídos os municípios com densidades demográficas muito baixas ou oriundos de Estados com predominio destes perfis (identificados pela frequência), retiramos os municípios do Norte e da maior parte do Centro Oeste, exceto DF e os de Goias."
      ],
      "metadata": {
        "id": "R3EcxIfJlPCs"
      }
    },
    {
      "cell_type": "code",
      "source": [
        "# vendo como ficou o a dimensão com o filtro\n",
        "\n",
        "grouped.shape"
      ],
      "metadata": {
        "colab": {
          "base_uri": "https://localhost:8080/"
        },
        "id": "FMA-F-i0lXPt",
        "outputId": "7bf7333f-7e2e-4aa1-bfbe-ad90ee6b14e3"
      },
      "execution_count": 29,
      "outputs": [
        {
          "output_type": "execute_result",
          "data": {
            "text/plain": [
              "(1437, 10)"
            ]
          },
          "metadata": {},
          "execution_count": 29
        }
      ]
    },
    {
      "cell_type": "markdown",
      "source": [
        "Isto significa que o nº de municipio diminiu de 5570 para 1437.  Este filtro será utiliado em todos os dataframes."
      ],
      "metadata": {
        "id": "cerCWevelnTT"
      }
    },
    {
      "cell_type": "markdown",
      "source": [
        "## Aplicação o filtro de densidade demográfica e Tratamento de Valores Nulos\n",
        "\n",
        "Iniciaremos este etapa com a dataset coletaLixoMun."
      ],
      "metadata": {
        "id": "nOB5wW-7hrZD"
      }
    },
    {
      "cell_type": "markdown",
      "source": [
        "### Coleta de lixo"
      ],
      "metadata": {
        "id": "7MO09KgTmxds"
      }
    },
    {
      "cell_type": "code",
      "source": [
        "# Verificando o nº valores nulos em Coleta de lixo\n",
        "\n",
        "coletaLixoMun[['MoradDPPODepCacambServLimpTot','PercMoradDPPODepCacambServLimpTot']].isnull().sum()"
      ],
      "metadata": {
        "colab": {
          "base_uri": "https://localhost:8080/",
          "height": 147
        },
        "id": "e2Dw1TV1K7Qy",
        "outputId": "817351dd-996a-4daf-a94a-8311b4203227"
      },
      "execution_count": 30,
      "outputs": [
        {
          "output_type": "execute_result",
          "data": {
            "text/plain": [
              "MoradDPPODepCacambServLimpTot        70\n",
              "PercMoradDPPODepCacambServLimpTot    70\n",
              "dtype: int64"
            ],
            "text/html": [
              "<div>\n",
              "<style scoped>\n",
              "    .dataframe tbody tr th:only-of-type {\n",
              "        vertical-align: middle;\n",
              "    }\n",
              "\n",
              "    .dataframe tbody tr th {\n",
              "        vertical-align: top;\n",
              "    }\n",
              "\n",
              "    .dataframe thead th {\n",
              "        text-align: right;\n",
              "    }\n",
              "</style>\n",
              "<table border=\"1\" class=\"dataframe\">\n",
              "  <thead>\n",
              "    <tr style=\"text-align: right;\">\n",
              "      <th></th>\n",
              "      <th>0</th>\n",
              "    </tr>\n",
              "  </thead>\n",
              "  <tbody>\n",
              "    <tr>\n",
              "      <th>MoradDPPODepCacambServLimpTot</th>\n",
              "      <td>70</td>\n",
              "    </tr>\n",
              "    <tr>\n",
              "      <th>PercMoradDPPODepCacambServLimpTot</th>\n",
              "      <td>70</td>\n",
              "    </tr>\n",
              "  </tbody>\n",
              "</table>\n",
              "</div><br><label><b>dtype:</b> int64</label>"
            ]
          },
          "metadata": {},
          "execution_count": 30
        }
      ]
    },
    {
      "cell_type": "code",
      "source": [
        "# Excluindo os municipios com densidade demográfica abaixo de 50 p/km²\n",
        "\n",
        "coletaLixoMun = coletaLixoMun[coletaLixoMun['Geocodigo'].isin(grouped['Geocodigo'])]\n"
      ],
      "metadata": {
        "id": "-am0GQC8YIpm"
      },
      "execution_count": 31,
      "outputs": []
    },
    {
      "cell_type": "code",
      "source": [
        "# Verificando novamente nº valores nulos em Coleta de lixo\n",
        "\n",
        "coletaLixoMun[['MoradDPPODepCacambServLimpTot','PercMoradDPPODepCacambServLimpTot']].isnull().sum()"
      ],
      "metadata": {
        "colab": {
          "base_uri": "https://localhost:8080/",
          "height": 147
        },
        "id": "5OWz6CWfY56u",
        "outputId": "45fc6a7c-7c99-4531-eec8-d5911cdb0306"
      },
      "execution_count": 32,
      "outputs": [
        {
          "output_type": "execute_result",
          "data": {
            "text/plain": [
              "MoradDPPODepCacambServLimpTot        4\n",
              "PercMoradDPPODepCacambServLimpTot    4\n",
              "dtype: int64"
            ],
            "text/html": [
              "<div>\n",
              "<style scoped>\n",
              "    .dataframe tbody tr th:only-of-type {\n",
              "        vertical-align: middle;\n",
              "    }\n",
              "\n",
              "    .dataframe tbody tr th {\n",
              "        vertical-align: top;\n",
              "    }\n",
              "\n",
              "    .dataframe thead th {\n",
              "        text-align: right;\n",
              "    }\n",
              "</style>\n",
              "<table border=\"1\" class=\"dataframe\">\n",
              "  <thead>\n",
              "    <tr style=\"text-align: right;\">\n",
              "      <th></th>\n",
              "      <th>0</th>\n",
              "    </tr>\n",
              "  </thead>\n",
              "  <tbody>\n",
              "    <tr>\n",
              "      <th>MoradDPPODepCacambServLimpTot</th>\n",
              "      <td>4</td>\n",
              "    </tr>\n",
              "    <tr>\n",
              "      <th>PercMoradDPPODepCacambServLimpTot</th>\n",
              "      <td>4</td>\n",
              "    </tr>\n",
              "  </tbody>\n",
              "</table>\n",
              "</div><br><label><b>dtype:</b> int64</label>"
            ]
          },
          "metadata": {},
          "execution_count": 32
        }
      ]
    },
    {
      "cell_type": "code",
      "source": [
        "pd.options.display.float_format = '{:.1f}'.format # para visualizar os valores numéricos sem notação científica e com uma decimal"
      ],
      "metadata": {
        "id": "MAp-BPDjXLp3"
      },
      "execution_count": 33,
      "outputs": []
    },
    {
      "cell_type": "code",
      "source": [
        "# Verificando o desvio padrão para decidir a substituição dos valores pela média ou mediana.\n",
        "\n",
        "coletaLixoMun.describe()"
      ],
      "metadata": {
        "colab": {
          "base_uri": "https://localhost:8080/",
          "height": 300
        },
        "id": "NgZeh7KzW3FE",
        "outputId": "6220711a-536d-417b-eaad-1201057a1b5f"
      },
      "execution_count": 34,
      "outputs": [
        {
          "output_type": "execute_result",
          "data": {
            "text/plain": [
              "       Geocodigo  MoradDPPOColetDomicServLimpTot  MoradDPPOColetTot  \\\n",
              "count     1437.0                          1437.0             1437.0   \n",
              "mean   3264268.1                         81517.2            90249.8   \n",
              "std     689028.2                        346909.0           387894.1   \n",
              "min    2100436.0                           324.0             1105.0   \n",
              "25%    2614709.0                         10200.0            11372.0   \n",
              "50%    3162955.0                         22127.0            24716.0   \n",
              "75%    3551504.0                         61879.0            67835.0   \n",
              "max    5300108.0                      10434175.0         11360720.0   \n",
              "\n",
              "       MoradDPPODepCacambServLimpTot  MoradDPPOTot  \\\n",
              "count                         1433.0        1437.0   \n",
              "mean                          8757.0       93223.3   \n",
              "std                          52446.3      390003.8   \n",
              "min                              1.0        2147.0   \n",
              "25%                            462.0       13704.0   \n",
              "50%                           1497.0       27248.0   \n",
              "75%                           4482.0       71622.0   \n",
              "max                        1195221.0    11395157.0   \n",
              "\n",
              "       PercMoradDPPOColetDomicServLimpTot  PercMoradDPPOColetTot  \\\n",
              "count                              1437.0                 1437.0   \n",
              "mean                                 82.2                   90.9   \n",
              "std                                  17.2                   12.3   \n",
              "min                                   4.9                   21.5   \n",
              "25%                                  74.7                   87.6   \n",
              "50%                                  88.2                   96.6   \n",
              "75%                                  94.9                   98.9   \n",
              "max                                  99.8                  100.0   \n",
              "\n",
              "       PercMoradDPPODepCacambServLimpTot  \n",
              "count                             1433.0  \n",
              "mean                                 8.6  \n",
              "std                                 11.8  \n",
              "min                                  0.0  \n",
              "25%                                  1.9  \n",
              "50%                                  4.6  \n",
              "75%                                 10.3  \n",
              "max                                 92.3  "
            ],
            "text/html": [
              "\n",
              "  <div id=\"df-61f9d986-ec67-49e6-a7db-32ca6f077fb5\" class=\"colab-df-container\">\n",
              "    <div>\n",
              "<style scoped>\n",
              "    .dataframe tbody tr th:only-of-type {\n",
              "        vertical-align: middle;\n",
              "    }\n",
              "\n",
              "    .dataframe tbody tr th {\n",
              "        vertical-align: top;\n",
              "    }\n",
              "\n",
              "    .dataframe thead th {\n",
              "        text-align: right;\n",
              "    }\n",
              "</style>\n",
              "<table border=\"1\" class=\"dataframe\">\n",
              "  <thead>\n",
              "    <tr style=\"text-align: right;\">\n",
              "      <th></th>\n",
              "      <th>Geocodigo</th>\n",
              "      <th>MoradDPPOColetDomicServLimpTot</th>\n",
              "      <th>MoradDPPOColetTot</th>\n",
              "      <th>MoradDPPODepCacambServLimpTot</th>\n",
              "      <th>MoradDPPOTot</th>\n",
              "      <th>PercMoradDPPOColetDomicServLimpTot</th>\n",
              "      <th>PercMoradDPPOColetTot</th>\n",
              "      <th>PercMoradDPPODepCacambServLimpTot</th>\n",
              "    </tr>\n",
              "  </thead>\n",
              "  <tbody>\n",
              "    <tr>\n",
              "      <th>count</th>\n",
              "      <td>1437.0</td>\n",
              "      <td>1437.0</td>\n",
              "      <td>1437.0</td>\n",
              "      <td>1433.0</td>\n",
              "      <td>1437.0</td>\n",
              "      <td>1437.0</td>\n",
              "      <td>1437.0</td>\n",
              "      <td>1433.0</td>\n",
              "    </tr>\n",
              "    <tr>\n",
              "      <th>mean</th>\n",
              "      <td>3264268.1</td>\n",
              "      <td>81517.2</td>\n",
              "      <td>90249.8</td>\n",
              "      <td>8757.0</td>\n",
              "      <td>93223.3</td>\n",
              "      <td>82.2</td>\n",
              "      <td>90.9</td>\n",
              "      <td>8.6</td>\n",
              "    </tr>\n",
              "    <tr>\n",
              "      <th>std</th>\n",
              "      <td>689028.2</td>\n",
              "      <td>346909.0</td>\n",
              "      <td>387894.1</td>\n",
              "      <td>52446.3</td>\n",
              "      <td>390003.8</td>\n",
              "      <td>17.2</td>\n",
              "      <td>12.3</td>\n",
              "      <td>11.8</td>\n",
              "    </tr>\n",
              "    <tr>\n",
              "      <th>min</th>\n",
              "      <td>2100436.0</td>\n",
              "      <td>324.0</td>\n",
              "      <td>1105.0</td>\n",
              "      <td>1.0</td>\n",
              "      <td>2147.0</td>\n",
              "      <td>4.9</td>\n",
              "      <td>21.5</td>\n",
              "      <td>0.0</td>\n",
              "    </tr>\n",
              "    <tr>\n",
              "      <th>25%</th>\n",
              "      <td>2614709.0</td>\n",
              "      <td>10200.0</td>\n",
              "      <td>11372.0</td>\n",
              "      <td>462.0</td>\n",
              "      <td>13704.0</td>\n",
              "      <td>74.7</td>\n",
              "      <td>87.6</td>\n",
              "      <td>1.9</td>\n",
              "    </tr>\n",
              "    <tr>\n",
              "      <th>50%</th>\n",
              "      <td>3162955.0</td>\n",
              "      <td>22127.0</td>\n",
              "      <td>24716.0</td>\n",
              "      <td>1497.0</td>\n",
              "      <td>27248.0</td>\n",
              "      <td>88.2</td>\n",
              "      <td>96.6</td>\n",
              "      <td>4.6</td>\n",
              "    </tr>\n",
              "    <tr>\n",
              "      <th>75%</th>\n",
              "      <td>3551504.0</td>\n",
              "      <td>61879.0</td>\n",
              "      <td>67835.0</td>\n",
              "      <td>4482.0</td>\n",
              "      <td>71622.0</td>\n",
              "      <td>94.9</td>\n",
              "      <td>98.9</td>\n",
              "      <td>10.3</td>\n",
              "    </tr>\n",
              "    <tr>\n",
              "      <th>max</th>\n",
              "      <td>5300108.0</td>\n",
              "      <td>10434175.0</td>\n",
              "      <td>11360720.0</td>\n",
              "      <td>1195221.0</td>\n",
              "      <td>11395157.0</td>\n",
              "      <td>99.8</td>\n",
              "      <td>100.0</td>\n",
              "      <td>92.3</td>\n",
              "    </tr>\n",
              "  </tbody>\n",
              "</table>\n",
              "</div>\n",
              "    <div class=\"colab-df-buttons\">\n",
              "\n",
              "  <div class=\"colab-df-container\">\n",
              "    <button class=\"colab-df-convert\" onclick=\"convertToInteractive('df-61f9d986-ec67-49e6-a7db-32ca6f077fb5')\"\n",
              "            title=\"Convert this dataframe to an interactive table.\"\n",
              "            style=\"display:none;\">\n",
              "\n",
              "  <svg xmlns=\"http://www.w3.org/2000/svg\" height=\"24px\" viewBox=\"0 -960 960 960\">\n",
              "    <path d=\"M120-120v-720h720v720H120Zm60-500h600v-160H180v160Zm220 220h160v-160H400v160Zm0 220h160v-160H400v160ZM180-400h160v-160H180v160Zm440 0h160v-160H620v160ZM180-180h160v-160H180v160Zm440 0h160v-160H620v160Z\"/>\n",
              "  </svg>\n",
              "    </button>\n",
              "\n",
              "  <style>\n",
              "    .colab-df-container {\n",
              "      display:flex;\n",
              "      gap: 12px;\n",
              "    }\n",
              "\n",
              "    .colab-df-convert {\n",
              "      background-color: #E8F0FE;\n",
              "      border: none;\n",
              "      border-radius: 50%;\n",
              "      cursor: pointer;\n",
              "      display: none;\n",
              "      fill: #1967D2;\n",
              "      height: 32px;\n",
              "      padding: 0 0 0 0;\n",
              "      width: 32px;\n",
              "    }\n",
              "\n",
              "    .colab-df-convert:hover {\n",
              "      background-color: #E2EBFA;\n",
              "      box-shadow: 0px 1px 2px rgba(60, 64, 67, 0.3), 0px 1px 3px 1px rgba(60, 64, 67, 0.15);\n",
              "      fill: #174EA6;\n",
              "    }\n",
              "\n",
              "    .colab-df-buttons div {\n",
              "      margin-bottom: 4px;\n",
              "    }\n",
              "\n",
              "    [theme=dark] .colab-df-convert {\n",
              "      background-color: #3B4455;\n",
              "      fill: #D2E3FC;\n",
              "    }\n",
              "\n",
              "    [theme=dark] .colab-df-convert:hover {\n",
              "      background-color: #434B5C;\n",
              "      box-shadow: 0px 1px 3px 1px rgba(0, 0, 0, 0.15);\n",
              "      filter: drop-shadow(0px 1px 2px rgba(0, 0, 0, 0.3));\n",
              "      fill: #FFFFFF;\n",
              "    }\n",
              "  </style>\n",
              "\n",
              "    <script>\n",
              "      const buttonEl =\n",
              "        document.querySelector('#df-61f9d986-ec67-49e6-a7db-32ca6f077fb5 button.colab-df-convert');\n",
              "      buttonEl.style.display =\n",
              "        google.colab.kernel.accessAllowed ? 'block' : 'none';\n",
              "\n",
              "      async function convertToInteractive(key) {\n",
              "        const element = document.querySelector('#df-61f9d986-ec67-49e6-a7db-32ca6f077fb5');\n",
              "        const dataTable =\n",
              "          await google.colab.kernel.invokeFunction('convertToInteractive',\n",
              "                                                    [key], {});\n",
              "        if (!dataTable) return;\n",
              "\n",
              "        const docLinkHtml = 'Like what you see? Visit the ' +\n",
              "          '<a target=\"_blank\" href=https://colab.research.google.com/notebooks/data_table.ipynb>data table notebook</a>'\n",
              "          + ' to learn more about interactive tables.';\n",
              "        element.innerHTML = '';\n",
              "        dataTable['output_type'] = 'display_data';\n",
              "        await google.colab.output.renderOutput(dataTable, element);\n",
              "        const docLink = document.createElement('div');\n",
              "        docLink.innerHTML = docLinkHtml;\n",
              "        element.appendChild(docLink);\n",
              "      }\n",
              "    </script>\n",
              "  </div>\n",
              "\n",
              "\n",
              "<div id=\"df-6a3fff6f-3f97-421e-81b2-5c5edf185e81\">\n",
              "  <button class=\"colab-df-quickchart\" onclick=\"quickchart('df-6a3fff6f-3f97-421e-81b2-5c5edf185e81')\"\n",
              "            title=\"Suggest charts\"\n",
              "            style=\"display:none;\">\n",
              "\n",
              "<svg xmlns=\"http://www.w3.org/2000/svg\" height=\"24px\"viewBox=\"0 0 24 24\"\n",
              "     width=\"24px\">\n",
              "    <g>\n",
              "        <path d=\"M19 3H5c-1.1 0-2 .9-2 2v14c0 1.1.9 2 2 2h14c1.1 0 2-.9 2-2V5c0-1.1-.9-2-2-2zM9 17H7v-7h2v7zm4 0h-2V7h2v10zm4 0h-2v-4h2v4z\"/>\n",
              "    </g>\n",
              "</svg>\n",
              "  </button>\n",
              "\n",
              "<style>\n",
              "  .colab-df-quickchart {\n",
              "      --bg-color: #E8F0FE;\n",
              "      --fill-color: #1967D2;\n",
              "      --hover-bg-color: #E2EBFA;\n",
              "      --hover-fill-color: #174EA6;\n",
              "      --disabled-fill-color: #AAA;\n",
              "      --disabled-bg-color: #DDD;\n",
              "  }\n",
              "\n",
              "  [theme=dark] .colab-df-quickchart {\n",
              "      --bg-color: #3B4455;\n",
              "      --fill-color: #D2E3FC;\n",
              "      --hover-bg-color: #434B5C;\n",
              "      --hover-fill-color: #FFFFFF;\n",
              "      --disabled-bg-color: #3B4455;\n",
              "      --disabled-fill-color: #666;\n",
              "  }\n",
              "\n",
              "  .colab-df-quickchart {\n",
              "    background-color: var(--bg-color);\n",
              "    border: none;\n",
              "    border-radius: 50%;\n",
              "    cursor: pointer;\n",
              "    display: none;\n",
              "    fill: var(--fill-color);\n",
              "    height: 32px;\n",
              "    padding: 0;\n",
              "    width: 32px;\n",
              "  }\n",
              "\n",
              "  .colab-df-quickchart:hover {\n",
              "    background-color: var(--hover-bg-color);\n",
              "    box-shadow: 0 1px 2px rgba(60, 64, 67, 0.3), 0 1px 3px 1px rgba(60, 64, 67, 0.15);\n",
              "    fill: var(--button-hover-fill-color);\n",
              "  }\n",
              "\n",
              "  .colab-df-quickchart-complete:disabled,\n",
              "  .colab-df-quickchart-complete:disabled:hover {\n",
              "    background-color: var(--disabled-bg-color);\n",
              "    fill: var(--disabled-fill-color);\n",
              "    box-shadow: none;\n",
              "  }\n",
              "\n",
              "  .colab-df-spinner {\n",
              "    border: 2px solid var(--fill-color);\n",
              "    border-color: transparent;\n",
              "    border-bottom-color: var(--fill-color);\n",
              "    animation:\n",
              "      spin 1s steps(1) infinite;\n",
              "  }\n",
              "\n",
              "  @keyframes spin {\n",
              "    0% {\n",
              "      border-color: transparent;\n",
              "      border-bottom-color: var(--fill-color);\n",
              "      border-left-color: var(--fill-color);\n",
              "    }\n",
              "    20% {\n",
              "      border-color: transparent;\n",
              "      border-left-color: var(--fill-color);\n",
              "      border-top-color: var(--fill-color);\n",
              "    }\n",
              "    30% {\n",
              "      border-color: transparent;\n",
              "      border-left-color: var(--fill-color);\n",
              "      border-top-color: var(--fill-color);\n",
              "      border-right-color: var(--fill-color);\n",
              "    }\n",
              "    40% {\n",
              "      border-color: transparent;\n",
              "      border-right-color: var(--fill-color);\n",
              "      border-top-color: var(--fill-color);\n",
              "    }\n",
              "    60% {\n",
              "      border-color: transparent;\n",
              "      border-right-color: var(--fill-color);\n",
              "    }\n",
              "    80% {\n",
              "      border-color: transparent;\n",
              "      border-right-color: var(--fill-color);\n",
              "      border-bottom-color: var(--fill-color);\n",
              "    }\n",
              "    90% {\n",
              "      border-color: transparent;\n",
              "      border-bottom-color: var(--fill-color);\n",
              "    }\n",
              "  }\n",
              "</style>\n",
              "\n",
              "  <script>\n",
              "    async function quickchart(key) {\n",
              "      const quickchartButtonEl =\n",
              "        document.querySelector('#' + key + ' button');\n",
              "      quickchartButtonEl.disabled = true;  // To prevent multiple clicks.\n",
              "      quickchartButtonEl.classList.add('colab-df-spinner');\n",
              "      try {\n",
              "        const charts = await google.colab.kernel.invokeFunction(\n",
              "            'suggestCharts', [key], {});\n",
              "      } catch (error) {\n",
              "        console.error('Error during call to suggestCharts:', error);\n",
              "      }\n",
              "      quickchartButtonEl.classList.remove('colab-df-spinner');\n",
              "      quickchartButtonEl.classList.add('colab-df-quickchart-complete');\n",
              "    }\n",
              "    (() => {\n",
              "      let quickchartButtonEl =\n",
              "        document.querySelector('#df-6a3fff6f-3f97-421e-81b2-5c5edf185e81 button');\n",
              "      quickchartButtonEl.style.display =\n",
              "        google.colab.kernel.accessAllowed ? 'block' : 'none';\n",
              "    })();\n",
              "  </script>\n",
              "</div>\n",
              "\n",
              "    </div>\n",
              "  </div>\n"
            ],
            "application/vnd.google.colaboratory.intrinsic+json": {
              "type": "dataframe",
              "summary": "{\n  \"name\": \"coletaLixoMun\",\n  \"rows\": 8,\n  \"fields\": [\n    {\n      \"column\": \"Geocodigo\",\n      \"properties\": {\n        \"dtype\": \"number\",\n        \"std\": 1673600.3844540908,\n        \"min\": 1437.0,\n        \"max\": 5300108.0,\n        \"num_unique_values\": 8,\n        \"samples\": [\n          3264268.1127348645,\n          3162955.0,\n          1437.0\n        ],\n        \"semantic_type\": \"\",\n        \"description\": \"\"\n      }\n    },\n    {\n      \"column\": \"MoradDPPOColetDomicServLimpTot\",\n      \"properties\": {\n        \"dtype\": \"number\",\n        \"std\": 3664348.443488775,\n        \"min\": 324.0,\n        \"max\": 10434175.0,\n        \"num_unique_values\": 8,\n        \"samples\": [\n          81517.15657620042,\n          22127.0,\n          1437.0\n        ],\n        \"semantic_type\": \"\",\n        \"description\": \"\"\n      }\n    },\n    {\n      \"column\": \"MoradDPPOColetTot\",\n      \"properties\": {\n        \"dtype\": \"number\",\n        \"std\": 3989155.847676308,\n        \"min\": 1105.0,\n        \"max\": 11360720.0,\n        \"num_unique_values\": 8,\n        \"samples\": [\n          90249.76826722338,\n          24716.0,\n          1437.0\n        ],\n        \"semantic_type\": \"\",\n        \"description\": \"\"\n      }\n    },\n    {\n      \"column\": \"MoradDPPODepCacambServLimpTot\",\n      \"properties\": {\n        \"dtype\": \"number\",\n        \"std\": 419455.183348008,\n        \"min\": 1.0,\n        \"max\": 1195221.0,\n        \"num_unique_values\": 8,\n        \"samples\": [\n          8756.987438939288,\n          1497.0,\n          1433.0\n        ],\n        \"semantic_type\": \"\",\n        \"description\": \"\"\n      }\n    },\n    {\n      \"column\": \"MoradDPPOTot\",\n      \"properties\": {\n        \"dtype\": \"number\",\n        \"std\": 4000586.261785451,\n        \"min\": 1437.0,\n        \"max\": 11395157.0,\n        \"num_unique_values\": 8,\n        \"samples\": [\n          93223.32498260264,\n          27248.0,\n          1437.0\n        ],\n        \"semantic_type\": \"\",\n        \"description\": \"\"\n      }\n    },\n    {\n      \"column\": \"PercMoradDPPOColetDomicServLimpTot\",\n      \"properties\": {\n        \"dtype\": \"number\",\n        \"std\": 486.04079125773336,\n        \"min\": 4.86,\n        \"max\": 1437.0,\n        \"num_unique_values\": 8,\n        \"samples\": [\n          82.24580375782881,\n          88.2,\n          1437.0\n        ],\n        \"semantic_type\": \"\",\n        \"description\": \"\"\n      }\n    },\n    {\n      \"column\": \"PercMoradDPPOColetTot\",\n      \"properties\": {\n        \"dtype\": \"number\",\n        \"std\": 483.71305796562797,\n        \"min\": 12.31719997613507,\n        \"max\": 1437.0,\n        \"num_unique_values\": 8,\n        \"samples\": [\n          90.86618649965204,\n          96.56,\n          1437.0\n        ],\n        \"semantic_type\": \"\",\n        \"description\": \"\"\n      }\n    },\n    {\n      \"column\": \"PercMoradDPPODepCacambServLimpTot\",\n      \"properties\": {\n        \"dtype\": \"number\",\n        \"std\": 501.02229583064326,\n        \"min\": 0.01,\n        \"max\": 1433.0,\n        \"num_unique_values\": 8,\n        \"samples\": [\n          8.644431263084439,\n          4.56,\n          1433.0\n        ],\n        \"semantic_type\": \"\",\n        \"description\": \"\"\n      }\n    }\n  ]\n}"
            }
          },
          "metadata": {},
          "execution_count": 34
        }
      ]
    },
    {
      "cell_type": "markdown",
      "source": [
        "O desvio padrão é alto. Está com 11.8 em PercMoradDPPODepCacambServLimpTot e 52446.3 em MoradDPPODepCacambServLimpTot.  A nesta coluna média é apenas 8757. Será utilizado a mediana nos quatros registros que estão com valores nulos."
      ],
      "metadata": {
        "id": "zWEcCOVeX034"
      }
    },
    {
      "cell_type": "code",
      "source": [
        "# substituindo os NaN de 'MoradDPPODepCacambServLimpTot', 'PercMoradDPPODepCacambServLimpTot' pela mediana da coluna\n",
        "\n",
        "coletaLixoMun['MoradDPPODepCacambServLimpTot'].fillna(coletaLixoMun['MoradDPPODepCacambServLimpTot'].median(), inplace=True)\n",
        "coletaLixoMun['PercMoradDPPODepCacambServLimpTot'].fillna(coletaLixoMun['PercMoradDPPODepCacambServLimpTot'].median(), inplace=True)"
      ],
      "metadata": {
        "id": "u3cmWUI5XSFs"
      },
      "execution_count": 35,
      "outputs": []
    },
    {
      "cell_type": "code",
      "source": [
        "# Eliminando a primeira coluna de coletaLixoMun\n",
        "\n",
        "coletaLixoMun = coletaLixoMun.drop('FID', axis=1)"
      ],
      "metadata": {
        "id": "shGJwO0UlbDt"
      },
      "execution_count": 36,
      "outputs": []
    },
    {
      "cell_type": "markdown",
      "source": [
        "<p align = 'justify'>Para os próximos dataframes será demonstrado que a soma das colunas corresponde exatamente ao total de moradores por domicílio (DPPO).  Isto significa que os valores nulos podem ser substituídos por zero."
      ],
      "metadata": {
        "id": "8XgzcATTmqrx"
      }
    },
    {
      "cell_type": "markdown",
      "source": [
        "## Função para substituir valos nulos por zero"
      ],
      "metadata": {
        "id": "z8c6bNy75BQN"
      }
    },
    {
      "cell_type": "code",
      "source": [
        "# Criando função para somar os valores das colunas\n",
        "\n",
        "def sum_columns(df, columns):\n",
        "  total_values = {}\n",
        "  for column in columns:\n",
        "    total_values[column] = df[column].sum()\n",
        "  return total_values"
      ],
      "metadata": {
        "id": "iDEYlotOtCKb"
      },
      "execution_count": 37,
      "outputs": []
    },
    {
      "cell_type": "code",
      "source": [
        "# Cria um objeto para substituir valores nulos por 0\n",
        "fill_na_zero = lambda x: x.fillna(0)\n"
      ],
      "metadata": {
        "id": "C-V-HdilscmH"
      },
      "execution_count": 38,
      "outputs": []
    },
    {
      "cell_type": "markdown",
      "source": [
        "### Esgotamento Sanitário"
      ],
      "metadata": {
        "id": "x1YGhxwGmSeJ"
      }
    },
    {
      "cell_type": "markdown",
      "source": [
        "Neste e outros dataframes a seguir não será utilizado mediana ou média para substituir os valores nulos.  Será apresentado as causas durante este processo."
      ],
      "metadata": {
        "id": "0thTbB-TmZZ5"
      }
    },
    {
      "cell_type": "markdown",
      "source": [
        "Iniciando verificando os valores nulos antes e depois da exclusão de municípios com baixa densidade demográfica."
      ],
      "metadata": {
        "id": "m8NNtRLU5WkW"
      }
    },
    {
      "cell_type": "code",
      "source": [
        "# Verificando os valores nulos\n",
        "\n",
        "esgotamentoSanitario[['MoradDPPOTotSemBanhOuSanit', 'MoradDPPOTotRioLagoCorregMar', 'MoradDPPOTotOutraForma',\n",
        "                      'MoradDPPOTotVala', 'MoradDPPOTotFossaSeptOuFiltroRede', 'MoradDPPOTotRedeGeralPluv',\n",
        "                      'MoradDPPOTotRedeGeralPluvFossaRede', 'MoradDPPOTotFossaSeptOuFiltroNaoRede',\n",
        "                      'MoradDPPOTotFossaRudimBur']].isnull().sum()"
      ],
      "metadata": {
        "colab": {
          "base_uri": "https://localhost:8080/",
          "height": 366
        },
        "id": "GBEGBgZ8uvOk",
        "outputId": "2e6ab97c-4b22-4e2d-f558-ac3384e27e1a"
      },
      "execution_count": 39,
      "outputs": [
        {
          "output_type": "execute_result",
          "data": {
            "text/plain": [
              "MoradDPPOTotSemBanhOuSanit              1529\n",
              "MoradDPPOTotRioLagoCorregMar            1279\n",
              "MoradDPPOTotOutraForma                   579\n",
              "MoradDPPOTotVala                         550\n",
              "MoradDPPOTotFossaSeptOuFiltroRede        264\n",
              "MoradDPPOTotRedeGeralPluv                 81\n",
              "MoradDPPOTotRedeGeralPluvFossaRede        25\n",
              "MoradDPPOTotFossaSeptOuFiltroNaoRede      23\n",
              "MoradDPPOTotFossaRudimBur                  4\n",
              "dtype: int64"
            ],
            "text/html": [
              "<div>\n",
              "<style scoped>\n",
              "    .dataframe tbody tr th:only-of-type {\n",
              "        vertical-align: middle;\n",
              "    }\n",
              "\n",
              "    .dataframe tbody tr th {\n",
              "        vertical-align: top;\n",
              "    }\n",
              "\n",
              "    .dataframe thead th {\n",
              "        text-align: right;\n",
              "    }\n",
              "</style>\n",
              "<table border=\"1\" class=\"dataframe\">\n",
              "  <thead>\n",
              "    <tr style=\"text-align: right;\">\n",
              "      <th></th>\n",
              "      <th>0</th>\n",
              "    </tr>\n",
              "  </thead>\n",
              "  <tbody>\n",
              "    <tr>\n",
              "      <th>MoradDPPOTotSemBanhOuSanit</th>\n",
              "      <td>1529</td>\n",
              "    </tr>\n",
              "    <tr>\n",
              "      <th>MoradDPPOTotRioLagoCorregMar</th>\n",
              "      <td>1279</td>\n",
              "    </tr>\n",
              "    <tr>\n",
              "      <th>MoradDPPOTotOutraForma</th>\n",
              "      <td>579</td>\n",
              "    </tr>\n",
              "    <tr>\n",
              "      <th>MoradDPPOTotVala</th>\n",
              "      <td>550</td>\n",
              "    </tr>\n",
              "    <tr>\n",
              "      <th>MoradDPPOTotFossaSeptOuFiltroRede</th>\n",
              "      <td>264</td>\n",
              "    </tr>\n",
              "    <tr>\n",
              "      <th>MoradDPPOTotRedeGeralPluv</th>\n",
              "      <td>81</td>\n",
              "    </tr>\n",
              "    <tr>\n",
              "      <th>MoradDPPOTotRedeGeralPluvFossaRede</th>\n",
              "      <td>25</td>\n",
              "    </tr>\n",
              "    <tr>\n",
              "      <th>MoradDPPOTotFossaSeptOuFiltroNaoRede</th>\n",
              "      <td>23</td>\n",
              "    </tr>\n",
              "    <tr>\n",
              "      <th>MoradDPPOTotFossaRudimBur</th>\n",
              "      <td>4</td>\n",
              "    </tr>\n",
              "  </tbody>\n",
              "</table>\n",
              "</div><br><label><b>dtype:</b> int64</label>"
            ]
          },
          "metadata": {},
          "execution_count": 39
        }
      ]
    },
    {
      "cell_type": "code",
      "source": [
        "# Excluindo os municipios com densidade demográfica abaixo de 50 p/km²\n",
        "\n",
        "esgotamentoSanitario = esgotamentoSanitario[esgotamentoSanitario['Geocodigo'].isin(grouped['Geocodigo'])]\n"
      ],
      "metadata": {
        "id": "NH-UA0EFxKrN"
      },
      "execution_count": 40,
      "outputs": []
    },
    {
      "cell_type": "code",
      "source": [
        "# Verificando novamente os valores nulos após a exclusão dos municípios\n",
        "\n",
        "esgotamentoSanitario[['MoradDPPOTotSemBanhOuSanit', 'MoradDPPOTotRioLagoCorregMar', 'MoradDPPOTotOutraForma',\n",
        "                      'MoradDPPOTotVala', 'MoradDPPOTotFossaSeptOuFiltroRede', 'MoradDPPOTotRedeGeralPluv',\n",
        "                      'MoradDPPOTotRedeGeralPluvFossaRede', 'MoradDPPOTotFossaSeptOuFiltroNaoRede',\n",
        "                      'MoradDPPOTotFossaRudimBur']].isnull().sum()"
      ],
      "metadata": {
        "colab": {
          "base_uri": "https://localhost:8080/",
          "height": 366
        },
        "id": "3e9ZeQ3Exqxz",
        "outputId": "212d5480-804f-47af-9c87-12f8aae4ca56"
      },
      "execution_count": 41,
      "outputs": [
        {
          "output_type": "execute_result",
          "data": {
            "text/plain": [
              "MoradDPPOTotSemBanhOuSanit              329\n",
              "MoradDPPOTotRioLagoCorregMar            108\n",
              "MoradDPPOTotOutraForma                   50\n",
              "MoradDPPOTotVala                         66\n",
              "MoradDPPOTotFossaSeptOuFiltroRede        11\n",
              "MoradDPPOTotRedeGeralPluv                 3\n",
              "MoradDPPOTotRedeGeralPluvFossaRede        1\n",
              "MoradDPPOTotFossaSeptOuFiltroNaoRede      0\n",
              "MoradDPPOTotFossaRudimBur                 2\n",
              "dtype: int64"
            ],
            "text/html": [
              "<div>\n",
              "<style scoped>\n",
              "    .dataframe tbody tr th:only-of-type {\n",
              "        vertical-align: middle;\n",
              "    }\n",
              "\n",
              "    .dataframe tbody tr th {\n",
              "        vertical-align: top;\n",
              "    }\n",
              "\n",
              "    .dataframe thead th {\n",
              "        text-align: right;\n",
              "    }\n",
              "</style>\n",
              "<table border=\"1\" class=\"dataframe\">\n",
              "  <thead>\n",
              "    <tr style=\"text-align: right;\">\n",
              "      <th></th>\n",
              "      <th>0</th>\n",
              "    </tr>\n",
              "  </thead>\n",
              "  <tbody>\n",
              "    <tr>\n",
              "      <th>MoradDPPOTotSemBanhOuSanit</th>\n",
              "      <td>329</td>\n",
              "    </tr>\n",
              "    <tr>\n",
              "      <th>MoradDPPOTotRioLagoCorregMar</th>\n",
              "      <td>108</td>\n",
              "    </tr>\n",
              "    <tr>\n",
              "      <th>MoradDPPOTotOutraForma</th>\n",
              "      <td>50</td>\n",
              "    </tr>\n",
              "    <tr>\n",
              "      <th>MoradDPPOTotVala</th>\n",
              "      <td>66</td>\n",
              "    </tr>\n",
              "    <tr>\n",
              "      <th>MoradDPPOTotFossaSeptOuFiltroRede</th>\n",
              "      <td>11</td>\n",
              "    </tr>\n",
              "    <tr>\n",
              "      <th>MoradDPPOTotRedeGeralPluv</th>\n",
              "      <td>3</td>\n",
              "    </tr>\n",
              "    <tr>\n",
              "      <th>MoradDPPOTotRedeGeralPluvFossaRede</th>\n",
              "      <td>1</td>\n",
              "    </tr>\n",
              "    <tr>\n",
              "      <th>MoradDPPOTotFossaSeptOuFiltroNaoRede</th>\n",
              "      <td>0</td>\n",
              "    </tr>\n",
              "    <tr>\n",
              "      <th>MoradDPPOTotFossaRudimBur</th>\n",
              "      <td>2</td>\n",
              "    </tr>\n",
              "  </tbody>\n",
              "</table>\n",
              "</div><br><label><b>dtype:</b> int64</label>"
            ]
          },
          "metadata": {},
          "execution_count": 41
        }
      ]
    },
    {
      "cell_type": "code",
      "source": [
        "# criando lista das colunas para somar\n",
        "\n",
        "columns_to_sum = ['MoradDPPOTotFossaRudimBur', 'MoradDPPOTotFossaSeptOuFiltroNaoRede',\n",
        "                  'MoradDPPOTotFossaSeptOuFiltroRede', 'MoradDPPOTotOutraForma', 'MoradDPPOTotRedeGeralPluv',\n",
        "                  'MoradDPPOTotRioLagoCorregMar', 'MoradDPPOTotSemBanhOuSanit', 'MoradDPPOTotVala']\n",
        "\n",
        "# aplicando a função que soma os valores\n",
        "result = sum_columns(esgotamentoSanitario, columns_to_sum)\n",
        "print(result)"
      ],
      "metadata": {
        "colab": {
          "base_uri": "https://localhost:8080/"
        },
        "id": "qU6SNRBr0ebQ",
        "outputId": "dc1c6cdf-7c77-415f-a4ac-413b6d220bfa"
      },
      "execution_count": 42,
      "outputs": [
        {
          "output_type": "stream",
          "name": "stdout",
          "text": [
            "{'MoradDPPOTotFossaRudimBur': 13127013.0, 'MoradDPPOTotFossaSeptOuFiltroNaoRede': 14098199.0, 'MoradDPPOTotFossaSeptOuFiltroRede': 6074215.0, 'MoradDPPOTotOutraForma': 560937.0, 'MoradDPPOTotRedeGeralPluv': 95743810.0, 'MoradDPPOTotRioLagoCorregMar': 2625686.0, 'MoradDPPOTotSemBanhOuSanit': 132653.0, 'MoradDPPOTotVala': 1599405.0}\n"
          ]
        }
      ]
    },
    {
      "cell_type": "code",
      "source": [
        "# Agora somando o total das somas de cada coluna\n",
        "\n",
        "total_sum = sum(result.values())\n",
        "print(f\"Soma total dos valores do dicionário: {total_sum}\")"
      ],
      "metadata": {
        "colab": {
          "base_uri": "https://localhost:8080/"
        },
        "id": "WUkAkiRD1NGC",
        "outputId": "7173e95f-9536-424b-95e0-7703f67a9aff"
      },
      "execution_count": 43,
      "outputs": [
        {
          "output_type": "stream",
          "name": "stdout",
          "text": [
            "Soma total dos valores do dicionário: 133961918.0\n"
          ]
        }
      ]
    },
    {
      "cell_type": "code",
      "source": [
        "# Calculate a soma da coluna 'MoradDPPOTot'\n",
        "\n",
        "total_morad_dppo_tot = esgotamentoSanitario['MoradDPPOTot'].sum()\n",
        "\n",
        "print(f\"Total of MoradDPPOTot: {total_morad_dppo_tot}\")"
      ],
      "metadata": {
        "colab": {
          "base_uri": "https://localhost:8080/"
        },
        "id": "7G5TJOuY5vAM",
        "outputId": "4bdb193e-9ac0-4807-c2c2-e3607777e4ec"
      },
      "execution_count": 44,
      "outputs": [
        {
          "output_type": "stream",
          "name": "stdout",
          "text": [
            "Total of MoradDPPOTot: 133961918\n"
          ]
        }
      ]
    },
    {
      "cell_type": "markdown",
      "source": [
        "Vemos que são valores equivalentes, portanto não há problema em substituir os valores nulos por zero.  "
      ],
      "metadata": {
        "id": "BcG7m1PS2acB"
      }
    },
    {
      "cell_type": "code",
      "source": [
        "# Aplicando a função que substitui valores nulos por 0\n",
        "\n",
        "esgotamentoSanitario = esgotamentoSanitario.apply(fill_na_zero)"
      ],
      "metadata": {
        "id": "OehmT0VFufW-"
      },
      "execution_count": 45,
      "outputs": []
    },
    {
      "cell_type": "code",
      "source": [
        "# Eliminando a primeira coluna de esgotamentoSanitario\n",
        "\n",
        "esgotamentoSanitario = esgotamentoSanitario.drop('FID', axis=1)"
      ],
      "metadata": {
        "id": "zGDF-Ar0gLm_"
      },
      "execution_count": 46,
      "outputs": []
    },
    {
      "cell_type": "markdown",
      "source": [
        "### Canalização de Água"
      ],
      "metadata": {
        "id": "FLX0PeMP6GaQ"
      }
    },
    {
      "cell_type": "code",
      "source": [
        "#Verificando valores nulos\n",
        "\n",
        "aguaCanalizada[['MoradDPPOSemCanalizTot', 'MoradDPPOCanalizTerrTot']].isnull().sum()"
      ],
      "metadata": {
        "colab": {
          "base_uri": "https://localhost:8080/",
          "height": 147
        },
        "id": "SDsamyP2WAE3",
        "outputId": "117bffb2-f3c6-4ecd-9cdd-cc8b85241a74"
      },
      "execution_count": 47,
      "outputs": [
        {
          "output_type": "execute_result",
          "data": {
            "text/plain": [
              "MoradDPPOSemCanalizTot     655\n",
              "MoradDPPOCanalizTerrTot    238\n",
              "dtype: int64"
            ],
            "text/html": [
              "<div>\n",
              "<style scoped>\n",
              "    .dataframe tbody tr th:only-of-type {\n",
              "        vertical-align: middle;\n",
              "    }\n",
              "\n",
              "    .dataframe tbody tr th {\n",
              "        vertical-align: top;\n",
              "    }\n",
              "\n",
              "    .dataframe thead th {\n",
              "        text-align: right;\n",
              "    }\n",
              "</style>\n",
              "<table border=\"1\" class=\"dataframe\">\n",
              "  <thead>\n",
              "    <tr style=\"text-align: right;\">\n",
              "      <th></th>\n",
              "      <th>0</th>\n",
              "    </tr>\n",
              "  </thead>\n",
              "  <tbody>\n",
              "    <tr>\n",
              "      <th>MoradDPPOSemCanalizTot</th>\n",
              "      <td>655</td>\n",
              "    </tr>\n",
              "    <tr>\n",
              "      <th>MoradDPPOCanalizTerrTot</th>\n",
              "      <td>238</td>\n",
              "    </tr>\n",
              "  </tbody>\n",
              "</table>\n",
              "</div><br><label><b>dtype:</b> int64</label>"
            ]
          },
          "metadata": {},
          "execution_count": 47
        }
      ]
    },
    {
      "cell_type": "code",
      "source": [
        "# Excluindo os municipios com densidade demográfica abaixo de 50 p/km²\n",
        "\n",
        "aguaCanalizada = aguaCanalizada[aguaCanalizada['Geocodigo'].isin(grouped['Geocodigo'])]\n"
      ],
      "metadata": {
        "id": "4hVfLEHRW1P2"
      },
      "execution_count": 48,
      "outputs": []
    },
    {
      "cell_type": "code",
      "source": [
        "#Verificando novamente os valores nulos\n",
        "\n",
        "aguaCanalizada[['MoradDPPOSemCanalizTot', 'MoradDPPOCanalizTerrTot']].isnull().sum()"
      ],
      "metadata": {
        "colab": {
          "base_uri": "https://localhost:8080/",
          "height": 147
        },
        "id": "QeLhiJ_rXC2B",
        "outputId": "65d4fd3f-2073-4aec-b11c-b2948b665422"
      },
      "execution_count": 49,
      "outputs": [
        {
          "output_type": "execute_result",
          "data": {
            "text/plain": [
              "MoradDPPOSemCanalizTot     66\n",
              "MoradDPPOCanalizTerrTot    18\n",
              "dtype: int64"
            ],
            "text/html": [
              "<div>\n",
              "<style scoped>\n",
              "    .dataframe tbody tr th:only-of-type {\n",
              "        vertical-align: middle;\n",
              "    }\n",
              "\n",
              "    .dataframe tbody tr th {\n",
              "        vertical-align: top;\n",
              "    }\n",
              "\n",
              "    .dataframe thead th {\n",
              "        text-align: right;\n",
              "    }\n",
              "</style>\n",
              "<table border=\"1\" class=\"dataframe\">\n",
              "  <thead>\n",
              "    <tr style=\"text-align: right;\">\n",
              "      <th></th>\n",
              "      <th>0</th>\n",
              "    </tr>\n",
              "  </thead>\n",
              "  <tbody>\n",
              "    <tr>\n",
              "      <th>MoradDPPOSemCanalizTot</th>\n",
              "      <td>66</td>\n",
              "    </tr>\n",
              "    <tr>\n",
              "      <th>MoradDPPOCanalizTerrTot</th>\n",
              "      <td>18</td>\n",
              "    </tr>\n",
              "  </tbody>\n",
              "</table>\n",
              "</div><br><label><b>dtype:</b> int64</label>"
            ]
          },
          "metadata": {},
          "execution_count": 49
        }
      ]
    },
    {
      "cell_type": "code",
      "source": [
        "# criando lista das colunas para somar\n",
        "\n",
        "columns_to_sum = ['MoradDPPOCanalizCasaTot','MoradDPPOSemCanalizTot', 'MoradDPPOCanalizTerrTot']\n",
        "\n",
        "# aplicando a função que soma os valores\n",
        "result = sum_columns(aguaCanalizada, columns_to_sum)\n",
        "print(result)"
      ],
      "metadata": {
        "colab": {
          "base_uri": "https://localhost:8080/"
        },
        "id": "Ds_lFJwfXbJL",
        "outputId": "43f258a1-43d1-4b02-fbbb-1c7163b2f1d9"
      },
      "execution_count": 50,
      "outputs": [
        {
          "output_type": "stream",
          "name": "stdout",
          "text": [
            "{'MoradDPPOCanalizCasaTot': 130618097, 'MoradDPPOSemCanalizTot': 1659355.0, 'MoradDPPOCanalizTerrTot': 1684466.0}\n"
          ]
        }
      ]
    },
    {
      "cell_type": "code",
      "source": [
        "# Agora somando o total das somas de cada coluna\n",
        "\n",
        "total_sum = sum(result.values())\n",
        "print(f\"Soma total dos valores do dicionário: {total_sum}\")"
      ],
      "metadata": {
        "colab": {
          "base_uri": "https://localhost:8080/"
        },
        "id": "DhBzbsBiX3L9",
        "outputId": "8c5211d6-2e1f-4dea-dfd7-8a5b48c479b0"
      },
      "execution_count": 51,
      "outputs": [
        {
          "output_type": "stream",
          "name": "stdout",
          "text": [
            "Soma total dos valores do dicionário: 133961918.0\n"
          ]
        }
      ]
    },
    {
      "cell_type": "code",
      "source": [
        "# Calculate a soma da coluna 'MoradDPPOTotTot'\n",
        "\n",
        "total_morad_dppo_tot = aguaCanalizada['MoradDPPOTotTot'].sum()\n",
        "\n",
        "print(f\"Total of MoradDPPOTot: {total_morad_dppo_tot}\")"
      ],
      "metadata": {
        "colab": {
          "base_uri": "https://localhost:8080/"
        },
        "id": "xGnVRWk5aXqW",
        "outputId": "27aa0372-ec66-4e56-ec0e-b84998bb0121"
      },
      "execution_count": 52,
      "outputs": [
        {
          "output_type": "stream",
          "name": "stdout",
          "text": [
            "Total of MoradDPPOTot: 133961918\n"
          ]
        }
      ]
    },
    {
      "cell_type": "markdown",
      "source": [
        "Assim como em esgotamento, os valores das colunas são equivalentes ao total moradores em domicílios (DPPO), portanto não há problema em substituir os valores nulos por zero."
      ],
      "metadata": {
        "id": "E2iYsCmxa9vT"
      }
    },
    {
      "cell_type": "code",
      "source": [
        "# Aplicando a função que substitui valores nulos por 0\n",
        "\n",
        "aguaCanalizada = aguaCanalizada.apply(fill_na_zero)"
      ],
      "metadata": {
        "id": "LdmMEcJ7hBQE"
      },
      "execution_count": 53,
      "outputs": []
    },
    {
      "cell_type": "code",
      "source": [
        "# Eliminando a primeira coluna de aguaCanalizada\n",
        "\n",
        "aguaCanalizada = aguaCanalizada.drop('FID', axis=1)"
      ],
      "metadata": {
        "id": "IGFuwL2kgsNP"
      },
      "execution_count": 54,
      "outputs": []
    },
    {
      "cell_type": "markdown",
      "source": [
        "### Rede de distribuição de água"
      ],
      "metadata": {
        "id": "Mt5pf5T0cpc_"
      }
    },
    {
      "cell_type": "code",
      "source": [
        "# Verificando o nº de valores nulos\n",
        "\n",
        "aguaRedeDistr[['MoradDPPOTotPipa', 'MoradDPPOTotChuva', 'MoradDPPOTotRios', 'MoradDPPOTotOutra', 'MoradDPPOTotFonte',\n",
        "               'MoradDPPOTotPocoRaso', 'MoradDPPOTotRedeGeral', 'MoradDPPOTotPocoProfund']].isnull().sum()"
      ],
      "metadata": {
        "colab": {
          "base_uri": "https://localhost:8080/",
          "height": 335
        },
        "id": "HGdcibYLeGoo",
        "outputId": "83f8777f-04c1-40c5-928e-2532f98bd560"
      },
      "execution_count": 55,
      "outputs": [
        {
          "output_type": "execute_result",
          "data": {
            "text/plain": [
              "MoradDPPOTotPipa           2332\n",
              "MoradDPPOTotChuva          2218\n",
              "MoradDPPOTotRios           1153\n",
              "MoradDPPOTotOutra           854\n",
              "MoradDPPOTotFonte           325\n",
              "MoradDPPOTotPocoRaso        159\n",
              "MoradDPPOTotRedeGeral         8\n",
              "MoradDPPOTotPocoProfund       7\n",
              "dtype: int64"
            ],
            "text/html": [
              "<div>\n",
              "<style scoped>\n",
              "    .dataframe tbody tr th:only-of-type {\n",
              "        vertical-align: middle;\n",
              "    }\n",
              "\n",
              "    .dataframe tbody tr th {\n",
              "        vertical-align: top;\n",
              "    }\n",
              "\n",
              "    .dataframe thead th {\n",
              "        text-align: right;\n",
              "    }\n",
              "</style>\n",
              "<table border=\"1\" class=\"dataframe\">\n",
              "  <thead>\n",
              "    <tr style=\"text-align: right;\">\n",
              "      <th></th>\n",
              "      <th>0</th>\n",
              "    </tr>\n",
              "  </thead>\n",
              "  <tbody>\n",
              "    <tr>\n",
              "      <th>MoradDPPOTotPipa</th>\n",
              "      <td>2332</td>\n",
              "    </tr>\n",
              "    <tr>\n",
              "      <th>MoradDPPOTotChuva</th>\n",
              "      <td>2218</td>\n",
              "    </tr>\n",
              "    <tr>\n",
              "      <th>MoradDPPOTotRios</th>\n",
              "      <td>1153</td>\n",
              "    </tr>\n",
              "    <tr>\n",
              "      <th>MoradDPPOTotOutra</th>\n",
              "      <td>854</td>\n",
              "    </tr>\n",
              "    <tr>\n",
              "      <th>MoradDPPOTotFonte</th>\n",
              "      <td>325</td>\n",
              "    </tr>\n",
              "    <tr>\n",
              "      <th>MoradDPPOTotPocoRaso</th>\n",
              "      <td>159</td>\n",
              "    </tr>\n",
              "    <tr>\n",
              "      <th>MoradDPPOTotRedeGeral</th>\n",
              "      <td>8</td>\n",
              "    </tr>\n",
              "    <tr>\n",
              "      <th>MoradDPPOTotPocoProfund</th>\n",
              "      <td>7</td>\n",
              "    </tr>\n",
              "  </tbody>\n",
              "</table>\n",
              "</div><br><label><b>dtype:</b> int64</label>"
            ]
          },
          "metadata": {},
          "execution_count": 55
        }
      ]
    },
    {
      "cell_type": "code",
      "source": [
        "# Excluindo os municipios com densidade demográfica abaixo de 50 p/km²\n",
        "\n",
        "aguaRedeDistr = aguaRedeDistr[aguaRedeDistr['Geocodigo'].isin(grouped['Geocodigo'])]\n"
      ],
      "metadata": {
        "id": "h80nlsHPfOcD"
      },
      "execution_count": 56,
      "outputs": []
    },
    {
      "cell_type": "code",
      "source": [
        "# verificando novamente os valores nulos\n",
        "\n",
        "\n",
        "aguaRedeDistr[['MoradDPPOTotPipa', 'MoradDPPOTotChuva', 'MoradDPPOTotRios', 'MoradDPPOTotOutra', 'MoradDPPOTotFonte',\n",
        "               'MoradDPPOTotPocoRaso', 'MoradDPPOTotRedeGeral', 'MoradDPPOTotPocoProfund']].isnull().sum()"
      ],
      "metadata": {
        "colab": {
          "base_uri": "https://localhost:8080/",
          "height": 335
        },
        "id": "rsRf1ph1faWN",
        "outputId": "ba05a37f-4995-4b92-fc5c-7c58db6f9401"
      },
      "execution_count": 57,
      "outputs": [
        {
          "output_type": "execute_result",
          "data": {
            "text/plain": [
              "MoradDPPOTotPipa           394\n",
              "MoradDPPOTotChuva          344\n",
              "MoradDPPOTotRios           229\n",
              "MoradDPPOTotOutra           90\n",
              "MoradDPPOTotFonte           55\n",
              "MoradDPPOTotPocoRaso        23\n",
              "MoradDPPOTotRedeGeral        0\n",
              "MoradDPPOTotPocoProfund      3\n",
              "dtype: int64"
            ],
            "text/html": [
              "<div>\n",
              "<style scoped>\n",
              "    .dataframe tbody tr th:only-of-type {\n",
              "        vertical-align: middle;\n",
              "    }\n",
              "\n",
              "    .dataframe tbody tr th {\n",
              "        vertical-align: top;\n",
              "    }\n",
              "\n",
              "    .dataframe thead th {\n",
              "        text-align: right;\n",
              "    }\n",
              "</style>\n",
              "<table border=\"1\" class=\"dataframe\">\n",
              "  <thead>\n",
              "    <tr style=\"text-align: right;\">\n",
              "      <th></th>\n",
              "      <th>0</th>\n",
              "    </tr>\n",
              "  </thead>\n",
              "  <tbody>\n",
              "    <tr>\n",
              "      <th>MoradDPPOTotPipa</th>\n",
              "      <td>394</td>\n",
              "    </tr>\n",
              "    <tr>\n",
              "      <th>MoradDPPOTotChuva</th>\n",
              "      <td>344</td>\n",
              "    </tr>\n",
              "    <tr>\n",
              "      <th>MoradDPPOTotRios</th>\n",
              "      <td>229</td>\n",
              "    </tr>\n",
              "    <tr>\n",
              "      <th>MoradDPPOTotOutra</th>\n",
              "      <td>90</td>\n",
              "    </tr>\n",
              "    <tr>\n",
              "      <th>MoradDPPOTotFonte</th>\n",
              "      <td>55</td>\n",
              "    </tr>\n",
              "    <tr>\n",
              "      <th>MoradDPPOTotPocoRaso</th>\n",
              "      <td>23</td>\n",
              "    </tr>\n",
              "    <tr>\n",
              "      <th>MoradDPPOTotRedeGeral</th>\n",
              "      <td>0</td>\n",
              "    </tr>\n",
              "    <tr>\n",
              "      <th>MoradDPPOTotPocoProfund</th>\n",
              "      <td>3</td>\n",
              "    </tr>\n",
              "  </tbody>\n",
              "</table>\n",
              "</div><br><label><b>dtype:</b> int64</label>"
            ]
          },
          "metadata": {},
          "execution_count": 57
        }
      ]
    },
    {
      "cell_type": "code",
      "source": [
        "# criando lista das colunas para somar\n",
        "\n",
        "columns_to_sum = ['MoradDPPOTotChuva', 'MoradDPPOTotFonte', 'MoradDPPOTotOutra', 'MoradDPPOTotPipa',\n",
        "                  'MoradDPPOTotPocoProfund', 'MoradDPPOTotPocoRaso', 'MoradDPPOTotRedeGeral', 'MoradDPPOTotRios']\n",
        "\n",
        "# aplicando a função que soma os valores\n",
        "result = sum_columns(aguaRedeDistr, columns_to_sum)\n",
        "print(result)"
      ],
      "metadata": {
        "colab": {
          "base_uri": "https://localhost:8080/"
        },
        "id": "UC9bahwAjJd5",
        "outputId": "b62d3d7c-5690-450c-ce40-7a13a36e32bf"
      },
      "execution_count": 58,
      "outputs": [
        {
          "output_type": "stream",
          "name": "stdout",
          "text": [
            "{'MoradDPPOTotChuva': 406445.0, 'MoradDPPOTotFonte': 1425529.0, 'MoradDPPOTotOutra': 669855.0, 'MoradDPPOTotPipa': 953415.0, 'MoradDPPOTotPocoProfund': 7932140.0, 'MoradDPPOTotPocoRaso': 2334511.0, 'MoradDPPOTotRedeGeral': 119957831.0, 'MoradDPPOTotRios': 282192.0}\n"
          ]
        }
      ]
    },
    {
      "cell_type": "code",
      "source": [
        "# Agora somando o total das somas de cada coluna\n",
        "\n",
        "total_sum = sum(result.values())\n",
        "print(f\"Soma total dos valores do dicionário: {total_sum}\")"
      ],
      "metadata": {
        "colab": {
          "base_uri": "https://localhost:8080/"
        },
        "id": "e2LY9E98j6oI",
        "outputId": "200e6f97-a667-40d8-fd70-491dee73a655"
      },
      "execution_count": 59,
      "outputs": [
        {
          "output_type": "stream",
          "name": "stdout",
          "text": [
            "Soma total dos valores do dicionário: 133961918.0\n"
          ]
        }
      ]
    },
    {
      "cell_type": "code",
      "source": [
        "# Calculate a soma da coluna 'MoradDPPOTotTot'\n",
        "\n",
        "total_morad_dppo_tot = aguaRedeDistr['MoradDPPOTotTot'].sum()\n",
        "\n",
        "print(f\"Total of MoradDPPOTot: {total_morad_dppo_tot}\")"
      ],
      "metadata": {
        "colab": {
          "base_uri": "https://localhost:8080/"
        },
        "id": "zvErAApTkamy",
        "outputId": "824c8f50-873d-4d05-c189-93394bb8b033"
      },
      "execution_count": 60,
      "outputs": [
        {
          "output_type": "stream",
          "name": "stdout",
          "text": [
            "Total of MoradDPPOTot: 133961918\n"
          ]
        }
      ]
    },
    {
      "cell_type": "markdown",
      "source": [
        "Novamente, temos que a soma das colunas de diferentes tipos de abastecimento de água é igual ao total de Moradores em domicílios (DPPO)."
      ],
      "metadata": {
        "id": "vjZ19pIupCUL"
      }
    },
    {
      "cell_type": "code",
      "source": [
        "# Aplicando a função que substitui valores nulos por 0\n",
        "\n",
        "aguaRedeDistr = aguaRedeDistr.apply(fill_na_zero)"
      ],
      "metadata": {
        "id": "_JltUpszofsj"
      },
      "execution_count": 61,
      "outputs": []
    },
    {
      "cell_type": "code",
      "source": [
        "# Eliminando a primeira coluna de aguaCanalizada\n",
        "\n",
        "aguaRedeDistr = aguaRedeDistr.drop('FID', axis=1)"
      ],
      "metadata": {
        "id": "YTNcQ_P4o1si"
      },
      "execution_count": 62,
      "outputs": []
    },
    {
      "cell_type": "markdown",
      "source": [
        "<p align=\"justify\">Em resumo sobre a substituição dos valores nulos por zero, isto foi realizado porque a soma das colunas das colunas que estão em esgotamento sanitário; água canalizada e rede de distribuição é equivalente ao total de pessoas residentes em domicílios particular permanente ocupado que é de 133961918 pessoas.\n",
        "\n",
        "Cabe observar que este número é a soma da coluna MoradDPPOTotal após a redução do número de regitros (municípios) de 5570 para 1437."
      ],
      "metadata": {
        "id": "57h4lM7I1P34"
      }
    },
    {
      "cell_type": "markdown",
      "source": [
        "## Mudança do nomes das colunas e composição de novo dataframe"
      ],
      "metadata": {
        "id": "lZnPhgohsQPl"
      }
    },
    {
      "cell_type": "markdown",
      "source": [
        "<p align = \"justify\">Agora iremos reunir os diferentes conjuntos de dados e reuni-los em um só O intuito, já exposta na apresentação, é ver a correlação no grau da cobertura destes serviços nos municípios (e Estados, através do agrupamento).  Assim, será selecionado o nº de moradores em domicílios (DPPO) que tem coleta de lixo e todo tipo de limpeza urbana; estão inseridos na rede total de esgostamento sanitário; possui água canalizada na residência e/ou no terreno e tem como principal forma de abastecimento rede de distribuição geral de água.    "
      ],
      "metadata": {
        "id": "RAMkygNnFW7u"
      }
    },
    {
      "cell_type": "code",
      "source": [
        "# Na coleta de lixo, aproveitaremos a coluna que soma todos os coletas de lixo e serviços de limpeza\n",
        "# Também será aproveitada que corresponde o moradores em domicílios (DPPO)\n",
        "# e Geocodigo que servira como elo de ligação para merge\n",
        "\n",
        "coletaLixoMun1 = coletaLixoMun[['Geocodigo', 'MoradDPPOColetTot','PercMoradDPPOColetTot']]"
      ],
      "metadata": {
        "id": "c1_ZPRvkb4jk"
      },
      "execution_count": 63,
      "outputs": []
    },
    {
      "cell_type": "code",
      "source": [
        "# Renomeando as colunas para melhorar legibilidade\n",
        "\n",
        "coletaLixoMun1 = coletaLixoMun1.rename(columns={\n",
        "    'MoradDPPOColetTot': 'Coleta de Lixo Direta ou Indireta',\n",
        "    'PercMoradDPPOColetTot': 'Coleta de Lixo Direta ou Indireta %'\n",
        "})"
      ],
      "metadata": {
        "id": "U-MKQAvNCMLn"
      },
      "execution_count": 64,
      "outputs": []
    },
    {
      "cell_type": "code",
      "source": [
        "# Em esgotamento sanitário será aproveitado a coluna relacionada a todo tipo de esgotamento com rede\n",
        "\n",
        "esgotamentoSanitario1 = esgotamentoSanitario[['Geocodigo', 'MoradDPPOTotRedeGeralPluvFossaRede', 'PercMoradDPPOTotRedeGeralPluvFossaRede']]"
      ],
      "metadata": {
        "id": "ytBkw_nta04v"
      },
      "execution_count": 65,
      "outputs": []
    },
    {
      "cell_type": "code",
      "source": [
        "# Renomeando as colunas para melhorar legibilidade\n",
        "\n",
        "esgotamentoSanitario1 = esgotamentoSanitario1.rename(columns={\n",
        "    'MoradDPPOTotRedeGeralPluvFossaRede': 'Rede geral e/ou pluvial e fossa septica com rede',\n",
        "    'PercMoradDPPOTotRedeGeralPluvFossaRede': 'Rede geral e/ou pluvial e fossa septica com rede %'\n",
        "})"
      ],
      "metadata": {
        "id": "y5gghvQTDHLU"
      },
      "execution_count": 66,
      "outputs": []
    },
    {
      "cell_type": "code",
      "source": [
        "# criação de coluna com total de pessoas com agua canalizada (MoradDPPOCanalizCasaTot e MoradDPPOCanalizTerrTot)\n",
        "\n",
        "aguaCanalizada['Água Canalizada'] = aguaCanalizada['MoradDPPOCanalizCasaTot'] + aguaCanalizada['MoradDPPOCanalizTerrTot']"
      ],
      "metadata": {
        "id": "mzFP0a6xa5Qh"
      },
      "execution_count": 67,
      "outputs": []
    },
    {
      "cell_type": "code",
      "source": [
        "aguaCanalizada['Água Canalizada %'] = aguaCanalizada['PercMoradDPPOCanalizCasaTot'] + aguaCanalizada['PercMoradDPPOCanalizTerrTot']"
      ],
      "metadata": {
        "id": "9mqcJox1beR7"
      },
      "execution_count": 68,
      "outputs": []
    },
    {
      "cell_type": "code",
      "source": [
        "# Em água canalizada foi selecionada a soma de todas as canalizações d'água\n",
        "\n",
        "aguaCanalizada1 = aguaCanalizada[['Geocodigo', 'Água Canalizada', 'Água Canalizada %']]"
      ],
      "metadata": {
        "id": "eBOorYn8bzkK"
      },
      "execution_count": 69,
      "outputs": []
    },
    {
      "cell_type": "code",
      "source": [
        "# Em águaRedeDistri foi selecionada o moradores em domicílios (DPPO) ligados a rede geral de abastecimento de água\n",
        "\n",
        "aguaRedeDistr1 = aguaRedeDistr[['Geocodigo', 'MoradDPPOTotRedeGeral', 'PercMoradDPPOTotRedeGeral']]"
      ],
      "metadata": {
        "id": "swAO1wOOdglS"
      },
      "execution_count": 70,
      "outputs": []
    },
    {
      "cell_type": "code",
      "source": [
        "# mudança de nome das colunas\n",
        "\n",
        "aguaRedeDistr1 = aguaRedeDistr1.rename(columns={\n",
        "    'MoradDPPOTotRedeGeral': 'Água da rede de distribuição geral',\n",
        "    'PercMoradDPPOTotRedeGeral': 'Água da rede de distribuição geral %'\n",
        "})"
      ],
      "metadata": {
        "id": "xZ4-908fCG9R"
      },
      "execution_count": 71,
      "outputs": []
    },
    {
      "cell_type": "code",
      "source": [
        "grouped = grouped.rename(columns={\n",
        "    'MoradDPPOTot': 'Moradores em domicílios (DPPO)',\n",
        "    'PercMoradDPPOTotRedeGeral': 'Moradores em domicílios (DPPO) %'\n",
        "})"
      ],
      "metadata": {
        "id": "YagaRb4xNmng"
      },
      "execution_count": 72,
      "outputs": []
    },
    {
      "cell_type": "code",
      "source": [
        "# Unindo os dataframes para gerar um novo\n",
        "\n",
        "df = grouped.merge(coletaLixoMun1, on=['Geocodigo'], how='left') \\\n",
        "                  .merge(esgotamentoSanitario1, on=['Geocodigo'], how='left') \\\n",
        "                  .merge(aguaCanalizada1, on=['Geocodigo'], how='left') \\\n",
        "                  .merge(aguaRedeDistr1, on=['Geocodigo'], how='left')\n",
        "\n",
        "# Exibindo o dataframe resultante\n",
        "print(df)"
      ],
      "metadata": {
        "colab": {
          "base_uri": "https://localhost:8080/"
        },
        "id": "ryAlXwvr27LF",
        "outputId": "b01f7b2f-5eaa-42b8-9762-e27e329e31e7"
      },
      "execution_count": 73,
      "outputs": [
        {
          "output_type": "stream",
          "name": "stdout",
          "text": [
            "      Geocodigo                          Nome  AreaUnidTerrit  DensDemog  \\\n",
            "0       2100436  Alto Alegre do Maranhão - MA           392.8       61.2   \n",
            "1       2100832               Apicum-Açu - MA           341.1       51.4   \n",
            "2       2101103                    Axixá - MA           160.5       73.5   \n",
            "3       2101202                  Bacabal - MA          1656.7       62.6   \n",
            "4       2101772   Bela Vista do Maranhão - MA           148.0       79.4   \n",
            "...         ...                           ...             ...        ...   \n",
            "1432    4322541                Vale Real - RS            45.1      134.4   \n",
            "1433    4322608           Venâncio Aires - RS           772.6       89.0   \n",
            "1434    4322707                Vera Cruz - RS           309.6       86.3   \n",
            "1435    4322806              Veranópolis - RS           289.4       83.0   \n",
            "1436    4323804                Xangri-lá - RS            60.8      271.0   \n",
            "\n",
            "      PopResid GeocodigoUF  UF    Regiao  Moradores em domicílios (DPPO)  \\\n",
            "0        24048          21  MA  Nordeste                           24019   \n",
            "1        17519          21  MA  Nordeste                           17487   \n",
            "2        11790          21  MA  Nordeste                           11779   \n",
            "3       103711          21  MA  Nordeste                          103505   \n",
            "4        11750          21  MA  Nordeste                           11736   \n",
            "...        ...         ...  ..       ...                             ...   \n",
            "1432      6058          43  RS       Sul                            6057   \n",
            "1433     68763          43  RS       Sul                           68100   \n",
            "1434     26710          43  RS       Sul                           26613   \n",
            "1435     24021          43  RS       Sul                           23961   \n",
            "1436     16463          43  RS       Sul                           16451   \n",
            "\n",
            "      PercPopResidMoradDPPOTot  Coleta de Lixo Direta ou Indireta  \\\n",
            "0                         99.9                              17419   \n",
            "1                         99.8                               8594   \n",
            "2                         99.9                               3653   \n",
            "3                         99.8                              81255   \n",
            "4                         99.9                               7456   \n",
            "...                        ...                                ...   \n",
            "1432                     100.0                               6033   \n",
            "1433                      99.0                              64328   \n",
            "1434                      99.6                              25939   \n",
            "1435                      99.8                              23752   \n",
            "1436                      99.9                              16427   \n",
            "\n",
            "      Coleta de Lixo Direta ou Indireta %  \\\n",
            "0                                    72.5   \n",
            "1                                    49.1   \n",
            "2                                    31.0   \n",
            "3                                    78.5   \n",
            "4                                    63.5   \n",
            "...                                   ...   \n",
            "1432                                 99.6   \n",
            "1433                                 94.5   \n",
            "1434                                 97.5   \n",
            "1435                                 99.1   \n",
            "1436                                 99.8   \n",
            "\n",
            "      Rede geral e/ou pluvial e fossa septica com rede  \\\n",
            "0                                                952.0   \n",
            "1                                                 22.0   \n",
            "2                                                 69.0   \n",
            "3                                              22846.0   \n",
            "4                                                 93.0   \n",
            "...                                                ...   \n",
            "1432                                            2687.0   \n",
            "1433                                           38897.0   \n",
            "1434                                           16771.0   \n",
            "1435                                           20194.0   \n",
            "1436                                            2227.0   \n",
            "\n",
            "      Rede geral e/ou pluvial e fossa septica com rede %  Água Canalizada  \\\n",
            "0                                                   4.0           23363.0   \n",
            "1                                                   0.1           16711.0   \n",
            "2                                                   0.6           11041.0   \n",
            "3                                                  22.1          101848.0   \n",
            "4                                                   0.8           11709.0   \n",
            "...                                                 ...               ...   \n",
            "1432                                               44.4            6057.0   \n",
            "1433                                               57.1           67995.0   \n",
            "1434                                               63.0           26578.0   \n",
            "1435                                               84.3           23960.0   \n",
            "1436                                               13.5           16392.0   \n",
            "\n",
            "      Água Canalizada %  Água da rede de distribuição geral  \\\n",
            "0                  97.3                             18894.0   \n",
            "1                  95.6                             15983.0   \n",
            "2                  93.7                              6330.0   \n",
            "3                  98.4                             83869.0   \n",
            "4                  99.8                             10664.0   \n",
            "...                 ...                                 ...   \n",
            "1432              100.0                              5591.0   \n",
            "1433               99.8                             54325.0   \n",
            "1434               99.9                             25287.0   \n",
            "1435              100.0                             21807.0   \n",
            "1436               99.6                             15472.0   \n",
            "\n",
            "      Água da rede de distribuição geral %  \n",
            "0                                     78.7  \n",
            "1                                     91.4  \n",
            "2                                     53.7  \n",
            "3                                     81.0  \n",
            "4                                     90.9  \n",
            "...                                    ...  \n",
            "1432                                  92.3  \n",
            "1433                                  79.8  \n",
            "1434                                  95.0  \n",
            "1435                                  91.0  \n",
            "1436                                  94.0  \n",
            "\n",
            "[1437 rows x 18 columns]\n"
          ]
        }
      ]
    },
    {
      "cell_type": "markdown",
      "source": [
        "# 3. Visualização e Análise de Dados"
      ],
      "metadata": {
        "id": "UeiqSxauWflM"
      }
    },
    {
      "cell_type": "code",
      "source": [
        "# gerando dataframe para gráfico de pearson\n",
        "\n",
        "pearson = df[['Moradores em domicílios (DPPO)','Coleta de Lixo Direta ou Indireta','Rede geral e/ou pluvial e fossa septica com rede','Água Canalizada','Água da rede de distribuição geral']]"
      ],
      "metadata": {
        "id": "odtzqLXk6IMo"
      },
      "execution_count": 74,
      "outputs": []
    },
    {
      "cell_type": "markdown",
      "source": [
        "## Gráfico de Pearson"
      ],
      "metadata": {
        "id": "h73vu9nQ8lz4"
      }
    },
    {
      "cell_type": "code",
      "source": [
        "# Matriz de Correlação com Pearson\n",
        "plt.figure(figsize = (8,6))\n",
        "plt.title('Matriz de Correlação de Serviços de Utilidade Pública');\n",
        "sns.heatmap(pearson.corr(), annot=True, cmap='RdBu', vmin=0, vmax=1);"
      ],
      "metadata": {
        "id": "aFu5DAms6U20",
        "colab": {
          "base_uri": "https://localhost:8080/",
          "height": 869
        },
        "outputId": "0636218d-da02-458f-b2bf-fac4f930d20c"
      },
      "execution_count": 75,
      "outputs": [
        {
          "output_type": "display_data",
          "data": {
            "text/plain": [
              "<Figure size 800x600 with 2 Axes>"
            ],
            "image/png": "[encoded data removed]"
          },
          "metadata": {}
        }
      ]
    },
    {
      "cell_type": "markdown",
      "source": [
        "<p align=\"justify\">Pelo gráfico, é possível identificar a alta correlação entre a coberturas de serviços básicos. Dito de outra forma, os municípios com alta cobertura na rede geral de esgotamento sanitário apresenta também alta cobertura na coleta de lixo, abastecimento de água pela rede de distribuição geral e acesso a água canalizada.\n",
        "\n",
        "<p align=\"justify\">A seguir veremos pelo scatter como está a dispersão desses serviços nas regiões geográficas.\n"
      ],
      "metadata": {
        "id": "3Z9F-mR-63Su"
      }
    },
    {
      "cell_type": "markdown",
      "source": [
        "## Gráfico Scatter"
      ],
      "metadata": {
        "id": "pjpk-G4s8tmy"
      }
    },
    {
      "cell_type": "code",
      "source": [
        "#estilo\n",
        "\n",
        "plt.style.use('ggplot')\n"
      ],
      "metadata": {
        "id": "iZAuwDJO2CZp"
      },
      "execution_count": 76,
      "outputs": []
    },
    {
      "cell_type": "code",
      "source": [
        "# Define as cores por regiao\n",
        "regioes = sorted(set(df[\"Regiao\"]))\n",
        "corRegiao = ['#440154', '#414487', '#22a884', '#fde725']\n",
        "\n",
        "dictCoresRegiao = dict(zip(regioes, corRegiao))"
      ],
      "metadata": {
        "id": "ffB17ZLL1wmB"
      },
      "execution_count": 77,
      "outputs": []
    },
    {
      "cell_type": "code",
      "source": [
        "fig, ax = plt.subplots(nrows = 2, ncols = 2, figsize = (12,8),\n",
        "                       sharex = True, sharey = True)\n",
        "axs = ax.flatten()\n",
        "for i in range(0, 2):\n",
        "     for j in range(0, 2):\n",
        "         k = i * 2 + j\n",
        "         if k < len(regioes):\n",
        "             regiao = regioes[k]\n",
        "             dados = df[(df[\"Regiao\"] == regiao)]\n",
        "             axs[k].scatter(x = dados['Rede geral e/ou pluvial e fossa septica com rede %'],\n",
        "                               y = dados['Água da rede de distribuição geral %'],\n",
        "                               color = dictCoresRegiao[regiao],\n",
        "                               alpha = 0.75,\n",
        "                               label = regiao)\n",
        "             axs[k].set_title(regiao)\n",
        "              #define o rótulo dos eixos\n",
        "             axs[k].set_visible(True)\n",
        "\n",
        "axs[2].set(xlabel = \"Rede geral e/ou pluvial e fossa septica com rede %\")\n",
        "axs[0].set(ylabel = \"Água da rede de distribuição geral %\")\n",
        "\n",
        "#Acrescenta um título a figura (superior a todos os gráficos)\n",
        "fig.suptitle(\"Gráfico de dispersão entre Cobertura Rede de esgostamento sanitário e \\nAbastecimento de água por rede de distribuição\")\n",
        "\n",
        "plt.show()"
      ],
      "metadata": {
        "colab": {
          "base_uri": "https://localhost:8080/",
          "height": 780
        },
        "id": "KzWVKYCU3FLq",
        "outputId": "e6da8ac8-e0af-48a2-f0e9-aa29fff0e884"
      },
      "execution_count": 78,
      "outputs": [
        {
          "output_type": "display_data",
          "data": {
            "text/plain": [
              "<Figure size 1200x800 with 4 Axes>"
            ],
            "image/png": "[encoded data removed]"
          },
          "metadata": {}
        }
      ]
    },
    {
      "cell_type": "markdown",
      "source": [
        "<p align=\"justify\"> Por este primeiro gráfico de dispersão verifica-se que quanto maior o percentual de esgotamento sanitário em geral com rede e de abastecimento de água por rede de distribuição, maior a concetração dos pontos.  A região Nordeste apresenta a maior dispersão entre os pontos ocupando parte significativa da área do gráfico.  A regisão Sudeste tem menos dispersão, seguido pela região Sul.  O Centro-Oeste está com esparsos pontos dispersos, sendo necessário um número bem superior de amostras para uma avaliação mais embasada."
      ],
      "metadata": {
        "id": "61AYDNF_oyFi"
      }
    },
    {
      "cell_type": "code",
      "source": [
        "# Gráfico de dispersão entre Coleta de Lixo Direta ou Indireta e Água Canalizada\n",
        "\n",
        "fig, ax = plt.subplots(nrows = 2, ncols = 2, figsize = (12,8),\n",
        "                       sharex = True, sharey = True)\n",
        "axs = ax.flatten()\n",
        "for i in range(0, 2):\n",
        "     for j in range(0, 2):\n",
        "         k = i * 2 + j\n",
        "         if k < len(regioes):\n",
        "             regiao = regioes[k]\n",
        "             dados = df[(df[\"Regiao\"] == regiao)]\n",
        "             axs[k].scatter(x = dados['Coleta de Lixo Direta ou Indireta %'],\n",
        "                               y = dados['Água Canalizada %'],\n",
        "                               color = dictCoresRegiao[regiao],\n",
        "                               alpha = 0.75,\n",
        "                               label = regiao)\n",
        "             axs[k].set_title(regiao)\n",
        "              #define o rótulo dos eixos\n",
        "             axs[k].set_visible(True)\n",
        "\n",
        "axs[2].set(xlabel = \"Coleta de Lixo Direta ou Indireta %\")\n",
        "axs[0].set(ylabel = \"Água Canalizada %\")\n",
        "\n",
        "#Acrescenta um título a figura (superior a todos os gráficos)\n",
        "fig.suptitle(\"Gráfico de dispersão entre Cobertura Coleta de Lixo Direta e Indireta e Água Canalizada %\")\n",
        "\n",
        "plt.show()"
      ],
      "metadata": {
        "colab": {
          "base_uri": "https://localhost:8080/",
          "height": 780
        },
        "id": "FMgSK2-L7gER",
        "outputId": "d5a30f97-8820-47c7-c8a8-ca5b0552d843"
      },
      "execution_count": 79,
      "outputs": [
        {
          "output_type": "display_data",
          "data": {
            "text/plain": [
              "<Figure size 1200x800 with 4 Axes>"
            ],
            "image/png": "[encoded data removed]"
          },
          "metadata": {}
        }
      ]
    },
    {
      "cell_type": "markdown",
      "source": [
        "<p align = \"justify\">Nesta segunda comparação entre Coleta de Lixo (eixo X) e Água Canalizada (eixo Y), percebe-se que a dispersão é muito menor para todas as regiões. Entretanto, assim como no primeiro exemplo, a região Nordeste permanece como o lugar com maior divergência nos valores percentuais na cobertura destes serviços."
      ],
      "metadata": {
        "id": "ND5k3cvXqyDh"
      }
    },
    {
      "cell_type": "markdown",
      "source": [
        "## Gráfico de linha\n",
        "Normalmente este gráfico é adotado para representar passagem temporal, mas será utilizada para facilitar comparar diferenças nas percentagens de moradores DPPO que acessam os distintos serviços básicos e essenciais."
      ],
      "metadata": {
        "id": "srDDqsZw9APf"
      }
    },
    {
      "cell_type": "code",
      "source": [
        "# Cores para os distintos serviços\n",
        "\n",
        "esgotSanitCor = \"#2F4F4F\"\n",
        "distrRedeAguaCor = \"#0000CD\"\n",
        "aguaCanalizCor = \"#8A2BE2\"\n",
        "coletaLixoCor = \"#DAA520\""
      ],
      "metadata": {
        "id": "c4A62gOSSX2D"
      },
      "execution_count": 80,
      "outputs": []
    },
    {
      "cell_type": "code",
      "source": [
        "# criando uma database a partir do groupby\n",
        "# e do aggregate.\n",
        "# Os dados dos municípios serão agrupados por UF\n",
        "# E agregados pelas medianas\n",
        "\n",
        "meduf = df.groupby([\"UF\"]).aggregate({\n",
        "    \"Moradores em domicílios (DPPO)\": \"sum\",\n",
        "    \"Coleta de Lixo Direta ou Indireta\": \"sum\",\n",
        "    \"Coleta de Lixo Direta ou Indireta %\": \"median\",\n",
        "    \"Rede geral e/ou pluvial e fossa septica com rede\": \"sum\",\n",
        "    \"Rede geral e/ou pluvial e fossa septica com rede %\": \"median\",\n",
        "    \"Água Canalizada\": \"sum\",\n",
        "    \"Água Canalizada %\": \"median\",\n",
        "    \"Água da rede de distribuição geral\": \"sum\",\n",
        "    \"Água da rede de distribuição geral %\": \"median\",\n",
        "    \"Regiao\": \"first\",\n",
        "\n",
        "\n",
        "}).reset_index()"
      ],
      "metadata": {
        "id": "pbd_QfTi3OLU"
      },
      "execution_count": 81,
      "outputs": []
    },
    {
      "cell_type": "code",
      "source": [
        "meduf"
      ],
      "metadata": {
        "colab": {
          "base_uri": "https://localhost:8080/",
          "height": 635
        },
        "id": "dYWNMORw4XPr",
        "outputId": "fc62badd-aed3-4501-bab0-bcd3dabe52d6"
      },
      "execution_count": 82,
      "outputs": [
        {
          "output_type": "execute_result",
          "data": {
            "text/plain": [
              "    UF  Moradores em domicílios (DPPO)  Coleta de Lixo Direta ou Indireta  \\\n",
              "0   AL                         2785624                            2496596   \n",
              "1   BA                         7486730                            6923864   \n",
              "2   CE                         6093590                            5638198   \n",
              "3   DF                         2792811                            2760405   \n",
              "4   ES                         2823958                            2724150   \n",
              "5   GO                         3912830                            3860341   \n",
              "6   MA                         2539302                            2242237   \n",
              "7   MG                        12826310                           12576969   \n",
              "8   PB                         3021721                            2692610   \n",
              "9   PE                         7660281                            6821340   \n",
              "10  PR                         8235284                            8080958   \n",
              "11  RJ                        15602414                           15298811   \n",
              "12  RN                         2259489                            2137646   \n",
              "13  RS                         7516570                            7434743   \n",
              "14  SC                         6101997                            6034112   \n",
              "15  SE                         1776908                            1680787   \n",
              "16  SP                        40526099                           40285150   \n",
              "\n",
              "    Coleta de Lixo Direta ou Indireta %  \\\n",
              "0                                  86.5   \n",
              "1                                  89.3   \n",
              "2                                  86.2   \n",
              "3                                  98.8   \n",
              "4                                  95.3   \n",
              "5                                  97.6   \n",
              "6                                  78.5   \n",
              "7                                  97.3   \n",
              "8                                  79.1   \n",
              "9                                  81.5   \n",
              "10                                 96.8   \n",
              "11                                 98.0   \n",
              "12                                 89.5   \n",
              "13                                 99.2   \n",
              "14                                 99.2   \n",
              "15                                 94.0   \n",
              "16                                 99.0   \n",
              "\n",
              "    Rede geral e/ou pluvial e fossa septica com rede  \\\n",
              "0                                           983223.0   \n",
              "1                                          5281208.0   \n",
              "2                                          2892382.0   \n",
              "3                                          2365930.0   \n",
              "4                                          2275164.0   \n",
              "5                                          2201512.0   \n",
              "6                                           908528.0   \n",
              "7                                         11467610.0   \n",
              "8                                          1509775.0   \n",
              "9                                          4110460.0   \n",
              "10                                         6758019.0   \n",
              "11                                        13202242.0   \n",
              "12                                          720158.0   \n",
              "13                                         5417726.0   \n",
              "14                                         3620081.0   \n",
              "15                                         1034606.0   \n",
              "16                                        37069401.0   \n",
              "\n",
              "    Rede geral e/ou pluvial e fossa septica com rede %  Água Canalizada  \\\n",
              "0                                                21.8         2636272.0   \n",
              "1                                                52.4         7365692.0   \n",
              "2                                                20.0         5928254.0   \n",
              "3                                                84.7         2785494.0   \n",
              "4                                                64.2         2818805.0   \n",
              "5                                                33.9         3894410.0   \n",
              "6                                                 8.8         2480196.0   \n",
              "7                                                83.2        12813025.0   \n",
              "8                                                20.9         2842287.0   \n",
              "9                                                49.6         7126586.0   \n",
              "10                                               69.7         8225850.0   \n",
              "11                                               74.0        15426195.0   \n",
              "12                                               10.3         2197600.0   \n",
              "13                                               50.5         7498617.0   \n",
              "14                                               49.5         6090713.0   \n",
              "15                                               34.0         1722861.0   \n",
              "16                                               93.0        40449706.0   \n",
              "\n",
              "    Água Canalizada %  Água da rede de distribuição geral  \\\n",
              "0                95.7                           1932899.0   \n",
              "1                97.9                           6774233.0   \n",
              "2                95.7                           5025790.0   \n",
              "3                99.7                           2591636.0   \n",
              "4                99.9                           2542574.0   \n",
              "5                99.7                           3436111.0   \n",
              "6                98.4                           1859748.0   \n",
              "7                99.9                          12062889.0   \n",
              "8                89.9                           2414481.0   \n",
              "9                90.8                           5595124.0   \n",
              "10              100.0                           7691372.0   \n",
              "11               99.5                          13214761.0   \n",
              "12               96.4                           2010664.0   \n",
              "13               99.9                           6746129.0   \n",
              "14               99.9                           5400391.0   \n",
              "15               95.1                           1556335.0   \n",
              "16               99.9                          39102694.0   \n",
              "\n",
              "    Água da rede de distribuição geral %        Regiao  \n",
              "0                                   68.1      Nordeste  \n",
              "1                                   85.6      Nordeste  \n",
              "2                                   76.9      Nordeste  \n",
              "3                                   92.8  Centro-Oeste  \n",
              "4                                   82.5       Sudeste  \n",
              "5                                   85.8  Centro-Oeste  \n",
              "6                                   77.4      Nordeste  \n",
              "7                                   89.9       Sudeste  \n",
              "8                                   62.6      Nordeste  \n",
              "9                                   66.3      Nordeste  \n",
              "10                                  92.3           Sul  \n",
              "11                                  81.0       Sudeste  \n",
              "12                                  81.9      Nordeste  \n",
              "13                                  88.9           Sul  \n",
              "14                                  84.5           Sul  \n",
              "15                                  86.7      Nordeste  \n",
              "16                                  95.3       Sudeste  "
            ],
            "text/html": [
              "\n",
              "  <div id=\"df-73196f46-8190-486e-8fa4-3d84bdaf2feb\" class=\"colab-df-container\">\n",
              "    <div>\n",
              "<style scoped>\n",
              "    .dataframe tbody tr th:only-of-type {\n",
              "        vertical-align: middle;\n",
              "    }\n",
              "\n",
              "    .dataframe tbody tr th {\n",
              "        vertical-align: top;\n",
              "    }\n",
              "\n",
              "    .dataframe thead th {\n",
              "        text-align: right;\n",
              "    }\n",
              "</style>\n",
              "<table border=\"1\" class=\"dataframe\">\n",
              "  <thead>\n",
              "    <tr style=\"text-align: right;\">\n",
              "      <th></th>\n",
              "      <th>UF</th>\n",
              "      <th>Moradores em domicílios (DPPO)</th>\n",
              "      <th>Coleta de Lixo Direta ou Indireta</th>\n",
              "      <th>Coleta de Lixo Direta ou Indireta %</th>\n",
              "      <th>Rede geral e/ou pluvial e fossa septica com rede</th>\n",
              "      <th>Rede geral e/ou pluvial e fossa septica com rede %</th>\n",
              "      <th>Água Canalizada</th>\n",
              "      <th>Água Canalizada %</th>\n",
              "      <th>Água da rede de distribuição geral</th>\n",
              "      <th>Água da rede de distribuição geral %</th>\n",
              "      <th>Regiao</th>\n",
              "    </tr>\n",
              "  </thead>\n",
              "  <tbody>\n",
              "    <tr>\n",
              "      <th>0</th>\n",
              "      <td>AL</td>\n",
              "      <td>2785624</td>\n",
              "      <td>2496596</td>\n",
              "      <td>86.5</td>\n",
              "      <td>983223.0</td>\n",
              "      <td>21.8</td>\n",
              "      <td>2636272.0</td>\n",
              "      <td>95.7</td>\n",
              "      <td>1932899.0</td>\n",
              "      <td>68.1</td>\n",
              "      <td>Nordeste</td>\n",
              "    </tr>\n",
              "    <tr>\n",
              "      <th>1</th>\n",
              "      <td>BA</td>\n",
              "      <td>7486730</td>\n",
              "      <td>6923864</td>\n",
              "      <td>89.3</td>\n",
              "      <td>5281208.0</td>\n",
              "      <td>52.4</td>\n",
              "      <td>7365692.0</td>\n",
              "      <td>97.9</td>\n",
              "      <td>6774233.0</td>\n",
              "      <td>85.6</td>\n",
              "      <td>Nordeste</td>\n",
              "    </tr>\n",
              "    <tr>\n",
              "      <th>2</th>\n",
              "      <td>CE</td>\n",
              "      <td>6093590</td>\n",
              "      <td>5638198</td>\n",
              "      <td>86.2</td>\n",
              "      <td>2892382.0</td>\n",
              "      <td>20.0</td>\n",
              "      <td>5928254.0</td>\n",
              "      <td>95.7</td>\n",
              "      <td>5025790.0</td>\n",
              "      <td>76.9</td>\n",
              "      <td>Nordeste</td>\n",
              "    </tr>\n",
              "    <tr>\n",
              "      <th>3</th>\n",
              "      <td>DF</td>\n",
              "      <td>2792811</td>\n",
              "      <td>2760405</td>\n",
              "      <td>98.8</td>\n",
              "      <td>2365930.0</td>\n",
              "      <td>84.7</td>\n",
              "      <td>2785494.0</td>\n",
              "      <td>99.7</td>\n",
              "      <td>2591636.0</td>\n",
              "      <td>92.8</td>\n",
              "      <td>Centro-Oeste</td>\n",
              "    </tr>\n",
              "    <tr>\n",
              "      <th>4</th>\n",
              "      <td>ES</td>\n",
              "      <td>2823958</td>\n",
              "      <td>2724150</td>\n",
              "      <td>95.3</td>\n",
              "      <td>2275164.0</td>\n",
              "      <td>64.2</td>\n",
              "      <td>2818805.0</td>\n",
              "      <td>99.9</td>\n",
              "      <td>2542574.0</td>\n",
              "      <td>82.5</td>\n",
              "      <td>Sudeste</td>\n",
              "    </tr>\n",
              "    <tr>\n",
              "      <th>5</th>\n",
              "      <td>GO</td>\n",
              "      <td>3912830</td>\n",
              "      <td>3860341</td>\n",
              "      <td>97.6</td>\n",
              "      <td>2201512.0</td>\n",
              "      <td>33.9</td>\n",
              "      <td>3894410.0</td>\n",
              "      <td>99.7</td>\n",
              "      <td>3436111.0</td>\n",
              "      <td>85.8</td>\n",
              "      <td>Centro-Oeste</td>\n",
              "    </tr>\n",
              "    <tr>\n",
              "      <th>6</th>\n",
              "      <td>MA</td>\n",
              "      <td>2539302</td>\n",
              "      <td>2242237</td>\n",
              "      <td>78.5</td>\n",
              "      <td>908528.0</td>\n",
              "      <td>8.8</td>\n",
              "      <td>2480196.0</td>\n",
              "      <td>98.4</td>\n",
              "      <td>1859748.0</td>\n",
              "      <td>77.4</td>\n",
              "      <td>Nordeste</td>\n",
              "    </tr>\n",
              "    <tr>\n",
              "      <th>7</th>\n",
              "      <td>MG</td>\n",
              "      <td>12826310</td>\n",
              "      <td>12576969</td>\n",
              "      <td>97.3</td>\n",
              "      <td>11467610.0</td>\n",
              "      <td>83.2</td>\n",
              "      <td>12813025.0</td>\n",
              "      <td>99.9</td>\n",
              "      <td>12062889.0</td>\n",
              "      <td>89.9</td>\n",
              "      <td>Sudeste</td>\n",
              "    </tr>\n",
              "    <tr>\n",
              "      <th>8</th>\n",
              "      <td>PB</td>\n",
              "      <td>3021721</td>\n",
              "      <td>2692610</td>\n",
              "      <td>79.1</td>\n",
              "      <td>1509775.0</td>\n",
              "      <td>20.9</td>\n",
              "      <td>2842287.0</td>\n",
              "      <td>89.9</td>\n",
              "      <td>2414481.0</td>\n",
              "      <td>62.6</td>\n",
              "      <td>Nordeste</td>\n",
              "    </tr>\n",
              "    <tr>\n",
              "      <th>9</th>\n",
              "      <td>PE</td>\n",
              "      <td>7660281</td>\n",
              "      <td>6821340</td>\n",
              "      <td>81.5</td>\n",
              "      <td>4110460.0</td>\n",
              "      <td>49.6</td>\n",
              "      <td>7126586.0</td>\n",
              "      <td>90.8</td>\n",
              "      <td>5595124.0</td>\n",
              "      <td>66.3</td>\n",
              "      <td>Nordeste</td>\n",
              "    </tr>\n",
              "    <tr>\n",
              "      <th>10</th>\n",
              "      <td>PR</td>\n",
              "      <td>8235284</td>\n",
              "      <td>8080958</td>\n",
              "      <td>96.8</td>\n",
              "      <td>6758019.0</td>\n",
              "      <td>69.7</td>\n",
              "      <td>8225850.0</td>\n",
              "      <td>100.0</td>\n",
              "      <td>7691372.0</td>\n",
              "      <td>92.3</td>\n",
              "      <td>Sul</td>\n",
              "    </tr>\n",
              "    <tr>\n",
              "      <th>11</th>\n",
              "      <td>RJ</td>\n",
              "      <td>15602414</td>\n",
              "      <td>15298811</td>\n",
              "      <td>98.0</td>\n",
              "      <td>13202242.0</td>\n",
              "      <td>74.0</td>\n",
              "      <td>15426195.0</td>\n",
              "      <td>99.5</td>\n",
              "      <td>13214761.0</td>\n",
              "      <td>81.0</td>\n",
              "      <td>Sudeste</td>\n",
              "    </tr>\n",
              "    <tr>\n",
              "      <th>12</th>\n",
              "      <td>RN</td>\n",
              "      <td>2259489</td>\n",
              "      <td>2137646</td>\n",
              "      <td>89.5</td>\n",
              "      <td>720158.0</td>\n",
              "      <td>10.3</td>\n",
              "      <td>2197600.0</td>\n",
              "      <td>96.4</td>\n",
              "      <td>2010664.0</td>\n",
              "      <td>81.9</td>\n",
              "      <td>Nordeste</td>\n",
              "    </tr>\n",
              "    <tr>\n",
              "      <th>13</th>\n",
              "      <td>RS</td>\n",
              "      <td>7516570</td>\n",
              "      <td>7434743</td>\n",
              "      <td>99.2</td>\n",
              "      <td>5417726.0</td>\n",
              "      <td>50.5</td>\n",
              "      <td>7498617.0</td>\n",
              "      <td>99.9</td>\n",
              "      <td>6746129.0</td>\n",
              "      <td>88.9</td>\n",
              "      <td>Sul</td>\n",
              "    </tr>\n",
              "    <tr>\n",
              "      <th>14</th>\n",
              "      <td>SC</td>\n",
              "      <td>6101997</td>\n",
              "      <td>6034112</td>\n",
              "      <td>99.2</td>\n",
              "      <td>3620081.0</td>\n",
              "      <td>49.5</td>\n",
              "      <td>6090713.0</td>\n",
              "      <td>99.9</td>\n",
              "      <td>5400391.0</td>\n",
              "      <td>84.5</td>\n",
              "      <td>Sul</td>\n",
              "    </tr>\n",
              "    <tr>\n",
              "      <th>15</th>\n",
              "      <td>SE</td>\n",
              "      <td>1776908</td>\n",
              "      <td>1680787</td>\n",
              "      <td>94.0</td>\n",
              "      <td>1034606.0</td>\n",
              "      <td>34.0</td>\n",
              "      <td>1722861.0</td>\n",
              "      <td>95.1</td>\n",
              "      <td>1556335.0</td>\n",
              "      <td>86.7</td>\n",
              "      <td>Nordeste</td>\n",
              "    </tr>\n",
              "    <tr>\n",
              "      <th>16</th>\n",
              "      <td>SP</td>\n",
              "      <td>40526099</td>\n",
              "      <td>40285150</td>\n",
              "      <td>99.0</td>\n",
              "      <td>37069401.0</td>\n",
              "      <td>93.0</td>\n",
              "      <td>40449706.0</td>\n",
              "      <td>99.9</td>\n",
              "      <td>39102694.0</td>\n",
              "      <td>95.3</td>\n",
              "      <td>Sudeste</td>\n",
              "    </tr>\n",
              "  </tbody>\n",
              "</table>\n",
              "</div>\n",
              "    <div class=\"colab-df-buttons\">\n",
              "\n",
              "  <div class=\"colab-df-container\">\n",
              "    <button class=\"colab-df-convert\" onclick=\"convertToInteractive('df-73196f46-8190-486e-8fa4-3d84bdaf2feb')\"\n",
              "            title=\"Convert this dataframe to an interactive table.\"\n",
              "            style=\"display:none;\">\n",
              "\n",
              "  <svg xmlns=\"http://www.w3.org/2000/svg\" height=\"24px\" viewBox=\"0 -960 960 960\">\n",
              "    <path d=\"M120-120v-720h720v720H120Zm60-500h600v-160H180v160Zm220 220h160v-160H400v160Zm0 220h160v-160H400v160ZM180-400h160v-160H180v160Zm440 0h160v-160H620v160ZM180-180h160v-160H180v160Zm440 0h160v-160H620v160Z\"/>\n",
              "  </svg>\n",
              "    </button>\n",
              "\n",
              "  <style>\n",
              "    .colab-df-container {\n",
              "      display:flex;\n",
              "      gap: 12px;\n",
              "    }\n",
              "\n",
              "    .colab-df-convert {\n",
              "      background-color: #E8F0FE;\n",
              "      border: none;\n",
              "      border-radius: 50%;\n",
              "      cursor: pointer;\n",
              "      display: none;\n",
              "      fill: #1967D2;\n",
              "      height: 32px;\n",
              "      padding: 0 0 0 0;\n",
              "      width: 32px;\n",
              "    }\n",
              "\n",
              "    .colab-df-convert:hover {\n",
              "      background-color: #E2EBFA;\n",
              "      box-shadow: 0px 1px 2px rgba(60, 64, 67, 0.3), 0px 1px 3px 1px rgba(60, 64, 67, 0.15);\n",
              "      fill: #174EA6;\n",
              "    }\n",
              "\n",
              "    .colab-df-buttons div {\n",
              "      margin-bottom: 4px;\n",
              "    }\n",
              "\n",
              "    [theme=dark] .colab-df-convert {\n",
              "      background-color: #3B4455;\n",
              "      fill: #D2E3FC;\n",
              "    }\n",
              "\n",
              "    [theme=dark] .colab-df-convert:hover {\n",
              "      background-color: #434B5C;\n",
              "      box-shadow: 0px 1px 3px 1px rgba(0, 0, 0, 0.15);\n",
              "      filter: drop-shadow(0px 1px 2px rgba(0, 0, 0, 0.3));\n",
              "      fill: #FFFFFF;\n",
              "    }\n",
              "  </style>\n",
              "\n",
              "    <script>\n",
              "      const buttonEl =\n",
              "        document.querySelector('#df-73196f46-8190-486e-8fa4-3d84bdaf2feb button.colab-df-convert');\n",
              "      buttonEl.style.display =\n",
              "        google.colab.kernel.accessAllowed ? 'block' : 'none';\n",
              "\n",
              "      async function convertToInteractive(key) {\n",
              "        const element = document.querySelector('#df-73196f46-8190-486e-8fa4-3d84bdaf2feb');\n",
              "        const dataTable =\n",
              "          await google.colab.kernel.invokeFunction('convertToInteractive',\n",
              "                                                    [key], {});\n",
              "        if (!dataTable) return;\n",
              "\n",
              "        const docLinkHtml = 'Like what you see? Visit the ' +\n",
              "          '<a target=\"_blank\" href=https://colab.research.google.com/notebooks/data_table.ipynb>data table notebook</a>'\n",
              "          + ' to learn more about interactive tables.';\n",
              "        element.innerHTML = '';\n",
              "        dataTable['output_type'] = 'display_data';\n",
              "        await google.colab.output.renderOutput(dataTable, element);\n",
              "        const docLink = document.createElement('div');\n",
              "        docLink.innerHTML = docLinkHtml;\n",
              "        element.appendChild(docLink);\n",
              "      }\n",
              "    </script>\n",
              "  </div>\n",
              "\n",
              "\n",
              "<div id=\"df-99de6560-8b22-4eca-a454-8a884ab88232\">\n",
              "  <button class=\"colab-df-quickchart\" onclick=\"quickchart('df-99de6560-8b22-4eca-a454-8a884ab88232')\"\n",
              "            title=\"Suggest charts\"\n",
              "            style=\"display:none;\">\n",
              "\n",
              "<svg xmlns=\"http://www.w3.org/2000/svg\" height=\"24px\"viewBox=\"0 0 24 24\"\n",
              "     width=\"24px\">\n",
              "    <g>\n",
              "        <path d=\"M19 3H5c-1.1 0-2 .9-2 2v14c0 1.1.9 2 2 2h14c1.1 0 2-.9 2-2V5c0-1.1-.9-2-2-2zM9 17H7v-7h2v7zm4 0h-2V7h2v10zm4 0h-2v-4h2v4z\"/>\n",
              "    </g>\n",
              "</svg>\n",
              "  </button>\n",
              "\n",
              "<style>\n",
              "  .colab-df-quickchart {\n",
              "      --bg-color: #E8F0FE;\n",
              "      --fill-color: #1967D2;\n",
              "      --hover-bg-color: #E2EBFA;\n",
              "      --hover-fill-color: #174EA6;\n",
              "      --disabled-fill-color: #AAA;\n",
              "      --disabled-bg-color: #DDD;\n",
              "  }\n",
              "\n",
              "  [theme=dark] .colab-df-quickchart {\n",
              "      --bg-color: #3B4455;\n",
              "      --fill-color: #D2E3FC;\n",
              "      --hover-bg-color: #434B5C;\n",
              "      --hover-fill-color: #FFFFFF;\n",
              "      --disabled-bg-color: #3B4455;\n",
              "      --disabled-fill-color: #666;\n",
              "  }\n",
              "\n",
              "  .colab-df-quickchart {\n",
              "    background-color: var(--bg-color);\n",
              "    border: none;\n",
              "    border-radius: 50%;\n",
              "    cursor: pointer;\n",
              "    display: none;\n",
              "    fill: var(--fill-color);\n",
              "    height: 32px;\n",
              "    padding: 0;\n",
              "    width: 32px;\n",
              "  }\n",
              "\n",
              "  .colab-df-quickchart:hover {\n",
              "    background-color: var(--hover-bg-color);\n",
              "    box-shadow: 0 1px 2px rgba(60, 64, 67, 0.3), 0 1px 3px 1px rgba(60, 64, 67, 0.15);\n",
              "    fill: var(--button-hover-fill-color);\n",
              "  }\n",
              "\n",
              "  .colab-df-quickchart-complete:disabled,\n",
              "  .colab-df-quickchart-complete:disabled:hover {\n",
              "    background-color: var(--disabled-bg-color);\n",
              "    fill: var(--disabled-fill-color);\n",
              "    box-shadow: none;\n",
              "  }\n",
              "\n",
              "  .colab-df-spinner {\n",
              "    border: 2px solid var(--fill-color);\n",
              "    border-color: transparent;\n",
              "    border-bottom-color: var(--fill-color);\n",
              "    animation:\n",
              "      spin 1s steps(1) infinite;\n",
              "  }\n",
              "\n",
              "  @keyframes spin {\n",
              "    0% {\n",
              "      border-color: transparent;\n",
              "      border-bottom-color: var(--fill-color);\n",
              "      border-left-color: var(--fill-color);\n",
              "    }\n",
              "    20% {\n",
              "      border-color: transparent;\n",
              "      border-left-color: var(--fill-color);\n",
              "      border-top-color: var(--fill-color);\n",
              "    }\n",
              "    30% {\n",
              "      border-color: transparent;\n",
              "      border-left-color: var(--fill-color);\n",
              "      border-top-color: var(--fill-color);\n",
              "      border-right-color: var(--fill-color);\n",
              "    }\n",
              "    40% {\n",
              "      border-color: transparent;\n",
              "      border-right-color: var(--fill-color);\n",
              "      border-top-color: var(--fill-color);\n",
              "    }\n",
              "    60% {\n",
              "      border-color: transparent;\n",
              "      border-right-color: var(--fill-color);\n",
              "    }\n",
              "    80% {\n",
              "      border-color: transparent;\n",
              "      border-right-color: var(--fill-color);\n",
              "      border-bottom-color: var(--fill-color);\n",
              "    }\n",
              "    90% {\n",
              "      border-color: transparent;\n",
              "      border-bottom-color: var(--fill-color);\n",
              "    }\n",
              "  }\n",
              "</style>\n",
              "\n",
              "  <script>\n",
              "    async function quickchart(key) {\n",
              "      const quickchartButtonEl =\n",
              "        document.querySelector('#' + key + ' button');\n",
              "      quickchartButtonEl.disabled = true;  // To prevent multiple clicks.\n",
              "      quickchartButtonEl.classList.add('colab-df-spinner');\n",
              "      try {\n",
              "        const charts = await google.colab.kernel.invokeFunction(\n",
              "            'suggestCharts', [key], {});\n",
              "      } catch (error) {\n",
              "        console.error('Error during call to suggestCharts:', error);\n",
              "      }\n",
              "      quickchartButtonEl.classList.remove('colab-df-spinner');\n",
              "      quickchartButtonEl.classList.add('colab-df-quickchart-complete');\n",
              "    }\n",
              "    (() => {\n",
              "      let quickchartButtonEl =\n",
              "        document.querySelector('#df-99de6560-8b22-4eca-a454-8a884ab88232 button');\n",
              "      quickchartButtonEl.style.display =\n",
              "        google.colab.kernel.accessAllowed ? 'block' : 'none';\n",
              "    })();\n",
              "  </script>\n",
              "</div>\n",
              "\n",
              "  <div id=\"id_ce16e4ff-212f-4f89-b235-e17b679d9687\">\n",
              "    <style>\n",
              "      .colab-df-generate {\n",
              "        background-color: #E8F0FE;\n",
              "        border: none;\n",
              "        border-radius: 50%;\n",
              "        cursor: pointer;\n",
              "        display: none;\n",
              "        fill: #1967D2;\n",
              "        height: 32px;\n",
              "        padding: 0 0 0 0;\n",
              "        width: 32px;\n",
              "      }\n",
              "\n",
              "      .colab-df-generate:hover {\n",
              "        background-color: #E2EBFA;\n",
              "        box-shadow: 0px 1px 2px rgba(60, 64, 67, 0.3), 0px 1px 3px 1px rgba(60, 64, 67, 0.15);\n",
              "        fill: #174EA6;\n",
              "      }\n",
              "\n",
              "      [theme=dark] .colab-df-generate {\n",
              "        background-color: #3B4455;\n",
              "        fill: #D2E3FC;\n",
              "      }\n",
              "\n",
              "      [theme=dark] .colab-df-generate:hover {\n",
              "        background-color: #434B5C;\n",
              "        box-shadow: 0px 1px 3px 1px rgba(0, 0, 0, 0.15);\n",
              "        filter: drop-shadow(0px 1px 2px rgba(0, 0, 0, 0.3));\n",
              "        fill: #FFFFFF;\n",
              "      }\n",
              "    </style>\n",
              "    <button class=\"colab-df-generate\" onclick=\"generateWithVariable('meduf')\"\n",
              "            title=\"Generate code using this dataframe.\"\n",
              "            style=\"display:none;\">\n",
              "\n",
              "  <svg xmlns=\"http://www.w3.org/2000/svg\" height=\"24px\"viewBox=\"0 0 24 24\"\n",
              "       width=\"24px\">\n",
              "    <path d=\"M7,19H8.4L18.45,9,17,7.55,7,17.6ZM5,21V16.75L18.45,3.32a2,2,0,0,1,2.83,0l1.4,1.43a1.91,1.91,0,0,1,.58,1.4,1.91,1.91,0,0,1-.58,1.4L9.25,21ZM18.45,9,17,7.55Zm-12,3A5.31,5.31,0,0,0,4.9,8.1,5.31,5.31,0,0,0,1,6.5,5.31,5.31,0,0,0,4.9,4.9,5.31,5.31,0,0,0,6.5,1,5.31,5.31,0,0,0,8.1,4.9,5.31,5.31,0,0,0,12,6.5,5.46,5.46,0,0,0,6.5,12Z\"/>\n",
              "  </svg>\n",
              "    </button>\n",
              "    <script>\n",
              "      (() => {\n",
              "      const buttonEl =\n",
              "        document.querySelector('#id_ce16e4ff-212f-4f89-b235-e17b679d9687 button.colab-df-generate');\n",
              "      buttonEl.style.display =\n",
              "        google.colab.kernel.accessAllowed ? 'block' : 'none';\n",
              "\n",
              "      buttonEl.onclick = () => {\n",
              "        google.colab.notebook.generateWithVariable('meduf');\n",
              "      }\n",
              "      })();\n",
              "    </script>\n",
              "  </div>\n",
              "\n",
              "    </div>\n",
              "  </div>\n"
            ],
            "application/vnd.google.colaboratory.intrinsic+json": {
              "type": "dataframe",
              "variable_name": "meduf",
              "summary": "{\n  \"name\": \"meduf\",\n  \"rows\": 17,\n  \"fields\": [\n    {\n      \"column\": \"UF\",\n      \"properties\": {\n        \"dtype\": \"string\",\n        \"num_unique_values\": 17,\n        \"samples\": [\n          \"AL\",\n          \"BA\",\n          \"GO\"\n        ],\n        \"semantic_type\": \"\",\n        \"description\": \"\"\n      }\n    },\n    {\n      \"column\": \"Moradores em domic\\u00edlios (DPPO)\",\n      \"properties\": {\n        \"dtype\": \"number\",\n        \"std\": 9256015,\n        \"min\": 1776908,\n        \"max\": 40526099,\n        \"num_unique_values\": 17,\n        \"samples\": [\n          2785624,\n          7486730,\n          3912830\n        ],\n        \"semantic_type\": \"\",\n        \"description\": \"\"\n      }\n    },\n    {\n      \"column\": \"Coleta de Lixo Direta ou Indireta\",\n      \"properties\": {\n        \"dtype\": \"number\",\n        \"std\": 9235994,\n        \"min\": 1680787,\n        \"max\": 40285150,\n        \"num_unique_values\": 17,\n        \"samples\": [\n          2496596,\n          6923864,\n          3860341\n        ],\n        \"semantic_type\": \"\",\n        \"description\": \"\"\n      }\n    },\n    {\n      \"column\": \"Coleta de Lixo Direta ou Indireta %\",\n      \"properties\": {\n        \"dtype\": \"number\",\n        \"std\": 7.367493375613303,\n        \"min\": 78.5,\n        \"max\": 99.22,\n        \"num_unique_values\": 17,\n        \"samples\": [\n          86.52,\n          89.35,\n          97.61500000000001\n        ],\n        \"semantic_type\": \"\",\n        \"description\": \"\"\n      }\n    },\n    {\n      \"column\": \"Rede geral e/ou pluvial e fossa septica com rede\",\n      \"properties\": {\n        \"dtype\": \"number\",\n        \"std\": 8777418.648484439,\n        \"min\": 720158.0,\n        \"max\": 37069401.0,\n        \"num_unique_values\": 17,\n        \"samples\": [\n          983223.0,\n          5281208.0,\n          2201512.0\n        ],\n        \"semantic_type\": \"\",\n        \"description\": \"\"\n      }\n    },\n    {\n      \"column\": \"Rede geral e/ou pluvial e fossa septica com rede %\",\n      \"properties\": {\n        \"dtype\": \"number\",\n        \"std\": 26.929154685188756,\n        \"min\": 8.81,\n        \"max\": 92.955,\n        \"num_unique_values\": 17,\n        \"samples\": [\n          21.78,\n          52.41,\n          33.915\n        ],\n        \"semantic_type\": \"\",\n        \"description\": \"\"\n      }\n    },\n    {\n      \"column\": \"\\u00c1gua Canalizada\",\n      \"properties\": {\n        \"dtype\": \"number\",\n        \"std\": 9252363.832179718,\n        \"min\": 1722861.0,\n        \"max\": 40449706.0,\n        \"num_unique_values\": 17,\n        \"samples\": [\n          2636272.0,\n          7365692.0,\n          3894410.0\n        ],\n        \"semantic_type\": \"\",\n        \"description\": \"\"\n      }\n    },\n    {\n      \"column\": \"\\u00c1gua Canalizada %\",\n      \"properties\": {\n        \"dtype\": \"number\",\n        \"std\": 3.2338883158986618,\n        \"min\": 89.86,\n        \"max\": 99.96,\n        \"num_unique_values\": 17,\n        \"samples\": [\n          95.68,\n          97.93,\n          99.70499999999998\n        ],\n        \"semantic_type\": \"\",\n        \"description\": \"\"\n      }\n    },\n    {\n      \"column\": \"\\u00c1gua da rede de distribui\\u00e7\\u00e3o geral\",\n      \"properties\": {\n        \"dtype\": \"number\",\n        \"std\": 8956365.459629802,\n        \"min\": 1556335.0,\n        \"max\": 39102694.0,\n        \"num_unique_values\": 17,\n        \"samples\": [\n          1932899.0,\n          6774233.0,\n          3436111.0\n        ],\n        \"semantic_type\": \"\",\n        \"description\": \"\"\n      }\n    },\n    {\n      \"column\": \"\\u00c1gua da rede de distribui\\u00e7\\u00e3o geral %\",\n      \"properties\": {\n        \"dtype\": \"number\",\n        \"std\": 9.453208527827377,\n        \"min\": 62.63,\n        \"max\": 95.34,\n        \"num_unique_values\": 17,\n        \"samples\": [\n          68.12,\n          85.58,\n          85.82\n        ],\n        \"semantic_type\": \"\",\n        \"description\": \"\"\n      }\n    },\n    {\n      \"column\": \"Regiao\",\n      \"properties\": {\n        \"dtype\": \"category\",\n        \"num_unique_values\": 4,\n        \"samples\": [\n          \"Centro-Oeste\",\n          \"Sul\",\n          \"Nordeste\"\n        ],\n        \"semantic_type\": \"\",\n        \"description\": \"\"\n      }\n    }\n  ]\n}"
            }
          },
          "metadata": {},
          "execution_count": 82
        }
      ]
    },
    {
      "cell_type": "code",
      "source": [
        "# Gráfico de linha com serviços para comparação utilizando o dataset criado\n",
        "# na linha de código anterior.\n",
        "\n",
        "plt.figure(figsize=(12, 6))\n",
        "plt.plot(meduf['UF'], meduf['Coleta de Lixo Direta ou Indireta %'], marker='.', label='Coleta de Lixo', color=coletaLixoCor)\n",
        "plt.plot(meduf['UF'], meduf['Rede geral e/ou pluvial e fossa septica com rede %'], marker='.', label='Esgotamento Sanitário', color=esgotSanitCor)\n",
        "plt.plot(meduf['UF'], meduf['Água Canalizada %'], marker='.', label='Água Canalizada', color=aguaCanalizCor)\n",
        "plt.plot(meduf['UF'], meduf['Água da rede de distribuição geral %'], marker='.', label='Rede Distribuição de Água', color=distrRedeAguaCor)\n",
        "\n",
        "# Adicionando valores nos vértices\n",
        "for x, y in zip(meduf['UF'], meduf['Coleta de Lixo Direta ou Indireta %']):\n",
        "    plt.annotate(str(round(y, 1)), (x, y), textcoords=\"offset pixels\", xytext=(0, 4), ha='right')\n",
        "\n",
        "for x, y in zip(meduf['UF'], meduf['Rede geral e/ou pluvial e fossa septica com rede %']):\n",
        "    plt.annotate(str(round(y, 1)), (x, y), textcoords=\"offset pixels\", xytext=(0, 4), ha='center')\n",
        "\n",
        "for x, y in zip(meduf['UF'], meduf['Água Canalizada %']):\n",
        "    plt.annotate(str(round(y, 1)), (x, y), textcoords=\"offset pixels\", xytext=(0, 4), ha='left')\n",
        "\n",
        "for x, y in zip(meduf['UF'], meduf['Água da rede de distribuição geral %']):\n",
        "    plt.annotate(str(round(y, 1)), (x, y), textcoords=\"offset pixels\", xytext=(0, 4), ha='left')\n",
        "\n",
        "\n",
        "plt.xticks(rotation=0)\n",
        "plt.xlabel('UF')\n",
        "plt.ylabel('Percentual de Cobertura (%)')\n",
        "plt.title('Percentual Mediano de Cobertura de Serviços Básicos por UF')\n",
        "plt.legend()\n",
        "plt.tight_layout()\n",
        "plt.show()\n"
      ],
      "metadata": {
        "colab": {
          "base_uri": "https://localhost:8080/",
          "height": 607
        },
        "id": "jz8hE45BGShO",
        "outputId": "73a35308-8673-411f-e451-9f151d1dc278"
      },
      "execution_count": 99,
      "outputs": [
        {
          "output_type": "display_data",
          "data": {
            "text/plain": [
              "<Figure size 1200x600 with 1 Axes>"
            ],
            "image/png": "[encoded data removed]"
          },
          "metadata": {}
        }
      ]
    },
    {
      "cell_type": "markdown",
      "source": [
        "<p align=\"justify\">Pelo gráfico de linhas é possível notar que, principalmente, entre o Serviço de Coleta de Lixo e de Água Canalizada existe uma significativa semelhança entre os seus valores percentuais e, os casos onde existem maiores diferenças se concentram nos Estados Nordestinos, sendo o Maranhão o mais proeminente.  Nesta região, apenas Sergipe apresentou semelhança entre a cobertura de serviço de limpeza e de acesso à água canalizada.\n",
        "<p align=\"justify\"> O esgotamento sanitário com rede foi o tipo de serviço com menor aderência aos valores dos outros serviços, com a exceção de São Paulo, Minas Gerais e o Distrito Federal.  Além disto, este apresentou as maiores diferenças percentuais entre os Estados brasileiros.  Devido a esta condição, em um eventual treino para aprendizagem não supervisionada para predição de percentuais de coberturas de serviços em municipios, não seria adequado utilizar o esgotamento sanitário com rede, a não ser para os Estados mencionados que fogem das características identificas no tipo de esgotamento retratado (SP, MG e DF).\n",
        "<p align = \"justify\"> Ainda sobre o esgotamento sanitário chama atenção que os valores estão especialmente baixos para os Estados nordestinos, sendo os piores os Estados do Maranhão e do Rio Grande do Norte.  No gráfico a seguir veremos a mesma informação em gráfico de barras.  "
      ],
      "metadata": {
        "id": "qSrFYBkw6Iu2"
      }
    },
    {
      "cell_type": "markdown",
      "source": [
        "## Gráfico de Barra"
      ],
      "metadata": {
        "id": "FPK7oUtfJCOm"
      }
    },
    {
      "cell_type": "code",
      "source": [
        "# Criando objeto que é a contagem de Estados por Região\n",
        "\n",
        "ufRegiao = meduf.groupby(\"Regiao\").count()"
      ],
      "metadata": {
        "id": "DJTWSa8SgHgM"
      },
      "execution_count": 84,
      "outputs": []
    },
    {
      "cell_type": "code",
      "source": [
        "# define base para gráficos.  uma linha para com várias colunas\n",
        "# ncols = números de colunas necessárias para cada região\n",
        "# gridspec_km define a largura de cada subplot de acordo com numero de estado em cada região\n",
        "# sharey compartilha o eixo y (parametro sharey) para permitir a comparação entre diferentes regiões\n",
        "\n",
        "fig, axs = plt.subplots(nrows = 1, ncols = len(ufRegiao),\n",
        "                       figsize = (10,6),\n",
        "                       sharey = 'row',\n",
        "                       gridspec_kw = {'width_ratios': ufRegiao['UF']})\n",
        "\n",
        "#define gráfico de barras por região.  Uma região por cada subplot\n",
        "\n",
        "for i in range(len(ufRegiao)):\n",
        "  # constroi o gráfico de barra e o label x com a região associada\n",
        "    axs[i].bar(x = meduf[meduf[\"Regiao\"] == ufRegiao.index[i]][\"UF\"],\n",
        "               height = meduf[meduf[\"Regiao\"] == ufRegiao.index[i]][\"Rede geral e/ou pluvial e fossa septica com rede %\"],\n",
        "               color = corRegiao[i])\n",
        "\n",
        "    #Exibe valores sobre cada barra\n",
        "    axs[i].bar_label(axs[i].containers[0], fmt=\"%.0f%%\", color = \"#666666\")\n",
        "\n",
        "\n",
        "    # define o rótulo do eixo x de cada subplot com a a região associada\n",
        "    axs[i].set(xlabel = ufRegiao.index[i])\n",
        "\n",
        "\n",
        "# plot o eixo y só primeiro eixo\n",
        "# por ser compartilhado com todos os gráficos da linha\n",
        "axs[0].set(ylabel = \"Percentagem dos Moradores DPPO por Estado (mediana)\")\n",
        "\n",
        "#define o mesmo titulo para todos os gráficos\n",
        "fig.suptitle(\"Moradores DPPO por UF e Região com Esgotamento Sanitário com Rede em 2022\")\n",
        "\n",
        "plt.tight_layout()\n",
        "plt.show()"
      ],
      "metadata": {
        "colab": {
          "base_uri": "https://localhost:8080/",
          "height": 610
        },
        "id": "5kdPAh6_g3JN",
        "outputId": "f422a4e9-2348-40ee-ad22-118994804672"
      },
      "execution_count": 85,
      "outputs": [
        {
          "output_type": "display_data",
          "data": {
            "text/plain": [
              "<Figure size 1000x600 with 4 Axes>"
            ],
            "image/png": "[encoded data removed]"
          },
          "metadata": {}
        }
      ]
    },
    {
      "cell_type": "markdown",
      "source": [
        "É possível perceber que, pela mediana, a maioria dos Estados, incluso a de Região Sul, têm predomínio de municícipios com apenas um pouco a mais de 50% de Moradores DPPO com esgotamento sanitário ligado à rede."
      ],
      "metadata": {
        "id": "GGsovTKckyRX"
      }
    },
    {
      "cell_type": "markdown",
      "source": [
        "Estes gráficos foram elaborados em cima de valores percentuais, pois a distribuição da população no país é extremamente desigual, o que consequentemente \"distorceria\" a visualização dos dados e prejudicaria na análise, mas a seguir será apresentado o total de moradores em domicílios DPPO por cada Estado."
      ],
      "metadata": {
        "id": "o0RxdrcF0bqZ"
      }
    },
    {
      "cell_type": "code",
      "source": [
        "# Somar a população de cada UF e ordenar\n",
        "\n",
        "populacao_uf = df.groupby('UF')['Moradores em domicílios (DPPO)'].sum().sort_values(ascending=False)\n",
        "\n",
        "print(populacao_uf)"
      ],
      "metadata": {
        "colab": {
          "base_uri": "https://localhost:8080/"
        },
        "id": "WMOBKSVB8SHQ",
        "outputId": "148e662e-1d8b-46ea-c2a6-ba7936a288a7"
      },
      "execution_count": 86,
      "outputs": [
        {
          "output_type": "stream",
          "name": "stdout",
          "text": [
            "UF\n",
            "SP    40526099\n",
            "RJ    15602414\n",
            "MG    12826310\n",
            "PR     8235284\n",
            "PE     7660281\n",
            "RS     7516570\n",
            "BA     7486730\n",
            "SC     6101997\n",
            "CE     6093590\n",
            "GO     3912830\n",
            "PB     3021721\n",
            "ES     2823958\n",
            "DF     2792811\n",
            "AL     2785624\n",
            "MA     2539302\n",
            "RN     2259489\n",
            "SE     1776908\n",
            "Name: Moradores em domicílios (DPPO), dtype: int64\n"
          ]
        }
      ]
    },
    {
      "cell_type": "markdown",
      "source": [
        "## Valores mínimos e máximos de percentuais de moradores DPPO por município"
      ],
      "metadata": {
        "id": "FxPgCskGXdra"
      }
    },
    {
      "cell_type": "code",
      "source": [
        "# Para cada serviço, encontrar o município com o valor mínimo e máximo\n",
        "\n",
        "for column in ['Coleta de Lixo Direta ou Indireta %', 'Rede geral e/ou pluvial e fossa septica com rede %',\n",
        "               'Água da rede de distribuição geral %', 'Água Canalizada %']:\n",
        "  min_value = df[column].min()\n",
        "  max_value = df[column].max()\n",
        "\n",
        "  # Encontrar o município com o valor mínimo e máximo\n",
        "  min_municipio = df.loc[df[column] == min_value, 'Nome'].values[0]\n",
        "  max_municipio = df.loc[df[column] == max_value, 'Nome'].values[0]\n",
        "\n",
        "  print(f\"Serviço: {column}\")\n",
        "  print(f\"Mínimo: {min_value:.2f}% em {min_municipio}\")\n",
        "  print(f\"Máximo: {max_value:.2f}% em {max_municipio}\")\n",
        "  print(\"---\")"
      ],
      "metadata": {
        "colab": {
          "base_uri": "https://localhost:8080/"
        },
        "id": "o40togtW8ocz",
        "outputId": "eb136186-a3e5-46bd-af13-44ca1c8a7b4c"
      },
      "execution_count": null,
      "outputs": [
        {
          "output_type": "stream",
          "name": "stdout",
          "text": [
            "Serviço: Coleta de Lixo Direta ou Indireta %\n",
            "Mínimo: 21.54% em Sobrado - PB\n",
            "Máximo: 100.00% em Águas de São Pedro - SP\n",
            "---\n",
            "Serviço: Rede geral e/ou pluvial e fossa septica com rede %\n",
            "Mínimo: 0.00% em Riachão do Poço - PB\n",
            "Máximo: 99.95% em São Caetano do Sul - SP\n",
            "---\n",
            "Serviço: Água da rede de distribuição geral %\n",
            "Mínimo: 0.42% em Baraúna - PB\n",
            "Máximo: 100.00% em Águas de São Pedro - SP\n",
            "---\n",
            "Serviço: Água Canalizada %\n",
            "Mínimo: 30.25% em Poção - PE\n",
            "Máximo: 100.00% em Divino - MG\n",
            "---\n"
          ]
        }
      ]
    },
    {
      "cell_type": "markdown",
      "source": [
        "<p align=\"justify\">Neste resumo entre os valores mínimos e máximos entre os municípios, percebe-se que os valores máximos estão nos Estados da região sudeste (SP, MG), e os valores mínimos estão nos Estados nordestinos (PB, PE)."
      ],
      "metadata": {
        "id": "iHfgU2r8-yD8"
      }
    },
    {
      "cell_type": "markdown",
      "source": [
        "# Encerramento: considerações e reflexões"
      ],
      "metadata": {
        "id": "0OCS060MsfWx"
      }
    },
    {
      "cell_type": "markdown",
      "source": [
        "<p align=\"justify\">Percebe-se que existe sim uma certa aderência entre os valores percentuais de pessoas atendidas pelos serviços básicos e essenciais.  No entanto percebe-se que nos Estados Nordestinos, a similiradade no número de pessoas que os acessam diminue e varia muito, especialmente para esgotamento sanitário com rede.  Ainda sobre este, percebe-se que o país precisa ampliar muito a abrangência de moradores em DPPO que tem acesso a rede de esgotamento sanitário.  \n",
        "<p align=\"justify\">O Estado de São Paulo foi o lugar onde mais apresentou os municípios com as melhroes coberturas, sendo que a Águas de São Pedro aparece duas vezes, em Água da rede de distribuição geral % e em Coleta de Lixo Direta ou Indireta %.  Para uma empreendedor que busca uma cidade com uma boa infraestrutura e serviços básicos distribuidos de forma equanime para a população, este Estado é uma escolha interessante.\n",
        "<p align=\"justify\">A realidade inversa ocorre nos três municípios provenientes do mesmo Estado, Paraíba, que têm o menor percentual de sua população atendida por serviços básicos.  Este problema também é identificado nos gráficos de barra e de linha para toda a região Nordestina.  É possível concluir, portanto, que o Nordeste precisa de políticas públicas mais eficientes e justas, para que os seus respectivos moradores tenham uma condição de vida melhor.\n",
        "<p align=\"justify\">A etapa do pré-processamento consistiu na identificação e substituição de valores nulos por mediana ou zero, acrescimo e exclusão de colunas e mudança dos nomes de colunas para melhorar a legibilidade."
      ],
      "metadata": {
        "id": "ElTlLHoOswil"
      }
    }
  ]
}